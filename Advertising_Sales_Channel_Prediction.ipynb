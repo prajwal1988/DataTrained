{
 "cells": [
  {
   "cell_type": "markdown",
   "id": "f08e8783",
   "metadata": {},
   "source": [
    "# Advertising Sales Channel Prediction"
   ]
  },
  {
   "cell_type": "code",
   "execution_count": 1,
   "id": "44b0193a",
   "metadata": {},
   "outputs": [],
   "source": [
    "import numpy as np\n",
    "import pandas as pd\n",
    "import seaborn as sns\n",
    "import matplotlib.pyplot as plt\n",
    "from scipy.stats import zscore\n",
    "from sklearn.linear_model import LogisticRegression\n",
    "from sklearn.naive_bayes import GaussianNB\n",
    "from sklearn.svm import SVC\n",
    "from sklearn.tree import DecisionTreeClassifier,export_graphviz\n",
    "from sklearn.ensemble import RandomForestClassifier\n",
    "from sklearn.preprocessing import LabelEncoder\n",
    "from sklearn.ensemble import AdaBoostClassifier\n",
    "from sklearn.metrics import accuracy_score,confusion_matrix,classification_report,precision_recall_curve,roc_curve\n",
    "from sklearn.preprocessing import MinMaxScaler\n",
    "from sklearn.model_selection import train_test_split\n",
    "from sklearn.preprocessing import PowerTransformer\n",
    "from sklearn.model_selection import cross_val_score\n",
    "import joblib\n",
    "import warnings\n",
    "warnings.filterwarnings('ignore')"
   ]
  },
  {
   "cell_type": "markdown",
   "id": "4b4e84a2",
   "metadata": {},
   "source": [
    "# Examining the data"
   ]
  },
  {
   "cell_type": "code",
   "execution_count": 3,
   "id": "a897ce4f",
   "metadata": {},
   "outputs": [
    {
     "data": {
      "text/html": [
       "<div>\n",
       "<style scoped>\n",
       "    .dataframe tbody tr th:only-of-type {\n",
       "        vertical-align: middle;\n",
       "    }\n",
       "\n",
       "    .dataframe tbody tr th {\n",
       "        vertical-align: top;\n",
       "    }\n",
       "\n",
       "    .dataframe thead th {\n",
       "        text-align: right;\n",
       "    }\n",
       "</style>\n",
       "<table border=\"1\" class=\"dataframe\">\n",
       "  <thead>\n",
       "    <tr style=\"text-align: right;\">\n",
       "      <th></th>\n",
       "      <th>Unnamed: 0</th>\n",
       "      <th>TV</th>\n",
       "      <th>radio</th>\n",
       "      <th>newspaper</th>\n",
       "      <th>sales</th>\n",
       "    </tr>\n",
       "  </thead>\n",
       "  <tbody>\n",
       "    <tr>\n",
       "      <th>0</th>\n",
       "      <td>1</td>\n",
       "      <td>230.1</td>\n",
       "      <td>37.8</td>\n",
       "      <td>69.2</td>\n",
       "      <td>22.1</td>\n",
       "    </tr>\n",
       "    <tr>\n",
       "      <th>1</th>\n",
       "      <td>2</td>\n",
       "      <td>44.5</td>\n",
       "      <td>39.3</td>\n",
       "      <td>45.1</td>\n",
       "      <td>10.4</td>\n",
       "    </tr>\n",
       "    <tr>\n",
       "      <th>2</th>\n",
       "      <td>3</td>\n",
       "      <td>17.2</td>\n",
       "      <td>45.9</td>\n",
       "      <td>69.3</td>\n",
       "      <td>9.3</td>\n",
       "    </tr>\n",
       "    <tr>\n",
       "      <th>3</th>\n",
       "      <td>4</td>\n",
       "      <td>151.5</td>\n",
       "      <td>41.3</td>\n",
       "      <td>58.5</td>\n",
       "      <td>18.5</td>\n",
       "    </tr>\n",
       "    <tr>\n",
       "      <th>4</th>\n",
       "      <td>5</td>\n",
       "      <td>180.8</td>\n",
       "      <td>10.8</td>\n",
       "      <td>58.4</td>\n",
       "      <td>12.9</td>\n",
       "    </tr>\n",
       "  </tbody>\n",
       "</table>\n",
       "</div>"
      ],
      "text/plain": [
       "   Unnamed: 0     TV  radio  newspaper  sales\n",
       "0           1  230.1   37.8       69.2   22.1\n",
       "1           2   44.5   39.3       45.1   10.4\n",
       "2           3   17.2   45.9       69.3    9.3\n",
       "3           4  151.5   41.3       58.5   18.5\n",
       "4           5  180.8   10.8       58.4   12.9"
      ]
     },
     "execution_count": 3,
     "metadata": {},
     "output_type": "execute_result"
    }
   ],
   "source": [
    "df = pd.read_csv(\"Advertising.csv\")\n",
    "df.head()"
   ]
  },
  {
   "cell_type": "code",
   "execution_count": 4,
   "id": "91f67033",
   "metadata": {},
   "outputs": [
    {
     "name": "stdout",
     "output_type": "stream",
     "text": [
      "<class 'pandas.core.frame.DataFrame'>\n",
      "RangeIndex: 200 entries, 0 to 199\n",
      "Data columns (total 5 columns):\n",
      " #   Column      Non-Null Count  Dtype  \n",
      "---  ------      --------------  -----  \n",
      " 0   Unnamed: 0  200 non-null    int64  \n",
      " 1   TV          200 non-null    float64\n",
      " 2   radio       200 non-null    float64\n",
      " 3   newspaper   200 non-null    float64\n",
      " 4   sales       200 non-null    float64\n",
      "dtypes: float64(4), int64(1)\n",
      "memory usage: 7.9 KB\n"
     ]
    }
   ],
   "source": [
    "df.info()"
   ]
  },
  {
   "cell_type": "markdown",
   "id": "5cdf05fd",
   "metadata": {},
   "source": [
    "* This method print the information about the DataFrame including the index type and columns type,non-null values and memory usage."
   ]
  },
  {
   "cell_type": "code",
   "execution_count": 5,
   "id": "974c3f78",
   "metadata": {},
   "outputs": [
    {
     "data": {
      "text/plain": [
       "Unnamed: 0    0\n",
       "TV            0\n",
       "radio         0\n",
       "newspaper     0\n",
       "sales         0\n",
       "dtype: int64"
      ]
     },
     "execution_count": 5,
     "metadata": {},
     "output_type": "execute_result"
    }
   ],
   "source": [
    "df.isnull().sum()"
   ]
  },
  {
   "cell_type": "markdown",
   "id": "b8d2c405",
   "metadata": {},
   "source": [
    "* Here the all null values are zero"
   ]
  },
  {
   "cell_type": "code",
   "execution_count": 7,
   "id": "cc1712df",
   "metadata": {},
   "outputs": [
    {
     "data": {
      "text/plain": [
       "Unnamed: 0      int64\n",
       "TV            float64\n",
       "radio         float64\n",
       "newspaper     float64\n",
       "sales         float64\n",
       "dtype: object"
      ]
     },
     "execution_count": 7,
     "metadata": {},
     "output_type": "execute_result"
    }
   ],
   "source": [
    "df.dtypes"
   ]
  },
  {
   "cell_type": "code",
   "execution_count": 8,
   "id": "12eb40f1",
   "metadata": {},
   "outputs": [
    {
     "data": {
      "text/plain": [
       "(200, 5)"
      ]
     },
     "execution_count": 8,
     "metadata": {},
     "output_type": "execute_result"
    }
   ],
   "source": [
    "df.shape"
   ]
  },
  {
   "cell_type": "markdown",
   "id": "6c08a691",
   "metadata": {},
   "source": [
    "* Dataset contains 200 rows and 5 columns"
   ]
  },
  {
   "cell_type": "code",
   "execution_count": 9,
   "id": "c672004b",
   "metadata": {},
   "outputs": [
    {
     "data": {
      "text/plain": [
       "Index(['Unnamed: 0', 'TV', 'radio', 'newspaper', 'sales'], dtype='object')"
      ]
     },
     "execution_count": 9,
     "metadata": {},
     "output_type": "execute_result"
    }
   ],
   "source": [
    "df.columns"
   ]
  },
  {
   "cell_type": "markdown",
   "id": "3a3e17b8",
   "metadata": {},
   "source": [
    "* Dataset contains 5 columns"
   ]
  },
  {
   "cell_type": "markdown",
   "id": "073872c0",
   "metadata": {},
   "source": [
    "# Summary Statistics"
   ]
  },
  {
   "cell_type": "code",
   "execution_count": 10,
   "id": "b2dd708d",
   "metadata": {},
   "outputs": [
    {
     "data": {
      "text/html": [
       "<div>\n",
       "<style scoped>\n",
       "    .dataframe tbody tr th:only-of-type {\n",
       "        vertical-align: middle;\n",
       "    }\n",
       "\n",
       "    .dataframe tbody tr th {\n",
       "        vertical-align: top;\n",
       "    }\n",
       "\n",
       "    .dataframe thead th {\n",
       "        text-align: right;\n",
       "    }\n",
       "</style>\n",
       "<table border=\"1\" class=\"dataframe\">\n",
       "  <thead>\n",
       "    <tr style=\"text-align: right;\">\n",
       "      <th></th>\n",
       "      <th>Unnamed: 0</th>\n",
       "      <th>TV</th>\n",
       "      <th>radio</th>\n",
       "      <th>newspaper</th>\n",
       "      <th>sales</th>\n",
       "    </tr>\n",
       "  </thead>\n",
       "  <tbody>\n",
       "    <tr>\n",
       "      <th>count</th>\n",
       "      <td>200.000000</td>\n",
       "      <td>200.000000</td>\n",
       "      <td>200.000000</td>\n",
       "      <td>200.000000</td>\n",
       "      <td>200.000000</td>\n",
       "    </tr>\n",
       "    <tr>\n",
       "      <th>mean</th>\n",
       "      <td>100.500000</td>\n",
       "      <td>147.042500</td>\n",
       "      <td>23.264000</td>\n",
       "      <td>30.554000</td>\n",
       "      <td>14.022500</td>\n",
       "    </tr>\n",
       "    <tr>\n",
       "      <th>std</th>\n",
       "      <td>57.879185</td>\n",
       "      <td>85.854236</td>\n",
       "      <td>14.846809</td>\n",
       "      <td>21.778621</td>\n",
       "      <td>5.217457</td>\n",
       "    </tr>\n",
       "    <tr>\n",
       "      <th>min</th>\n",
       "      <td>1.000000</td>\n",
       "      <td>0.700000</td>\n",
       "      <td>0.000000</td>\n",
       "      <td>0.300000</td>\n",
       "      <td>1.600000</td>\n",
       "    </tr>\n",
       "    <tr>\n",
       "      <th>25%</th>\n",
       "      <td>50.750000</td>\n",
       "      <td>74.375000</td>\n",
       "      <td>9.975000</td>\n",
       "      <td>12.750000</td>\n",
       "      <td>10.375000</td>\n",
       "    </tr>\n",
       "    <tr>\n",
       "      <th>50%</th>\n",
       "      <td>100.500000</td>\n",
       "      <td>149.750000</td>\n",
       "      <td>22.900000</td>\n",
       "      <td>25.750000</td>\n",
       "      <td>12.900000</td>\n",
       "    </tr>\n",
       "    <tr>\n",
       "      <th>75%</th>\n",
       "      <td>150.250000</td>\n",
       "      <td>218.825000</td>\n",
       "      <td>36.525000</td>\n",
       "      <td>45.100000</td>\n",
       "      <td>17.400000</td>\n",
       "    </tr>\n",
       "    <tr>\n",
       "      <th>max</th>\n",
       "      <td>200.000000</td>\n",
       "      <td>296.400000</td>\n",
       "      <td>49.600000</td>\n",
       "      <td>114.000000</td>\n",
       "      <td>27.000000</td>\n",
       "    </tr>\n",
       "  </tbody>\n",
       "</table>\n",
       "</div>"
      ],
      "text/plain": [
       "       Unnamed: 0          TV       radio   newspaper       sales\n",
       "count  200.000000  200.000000  200.000000  200.000000  200.000000\n",
       "mean   100.500000  147.042500   23.264000   30.554000   14.022500\n",
       "std     57.879185   85.854236   14.846809   21.778621    5.217457\n",
       "min      1.000000    0.700000    0.000000    0.300000    1.600000\n",
       "25%     50.750000   74.375000    9.975000   12.750000   10.375000\n",
       "50%    100.500000  149.750000   22.900000   25.750000   12.900000\n",
       "75%    150.250000  218.825000   36.525000   45.100000   17.400000\n",
       "max    200.000000  296.400000   49.600000  114.000000   27.000000"
      ]
     },
     "execution_count": 10,
     "metadata": {},
     "output_type": "execute_result"
    }
   ],
   "source": [
    "df.describe()"
   ]
  },
  {
   "cell_type": "markdown",
   "id": "fdf2bd1e",
   "metadata": {},
   "source": [
    "1. The mean is more than median 50% percentile in all columns.\n",
    "\n",
    "2. There is a large difference in 75% percentile and max in Unnamed:0 and TV.\n",
    "\n",
    "3. The 1 and 2 observation suggest that there are extreme outliers present in these three columns.\n",
    "\n"
   ]
  },
  {
   "cell_type": "code",
   "execution_count": 11,
   "id": "656306df",
   "metadata": {},
   "outputs": [
    {
     "data": {
      "text/plain": [
       "array([22.1, 10.4,  9.3, 18.5, 12.9,  7.2, 11.8, 13.2,  4.8, 10.6,  8.6,\n",
       "       17.4,  9.2,  9.7, 19. , 22.4, 12.5, 24.4, 11.3, 14.6, 18. ,  5.6,\n",
       "       15.5, 12. , 15. , 15.9, 18.9, 10.5, 21.4, 11.9,  9.6,  9.5, 12.8,\n",
       "       25.4, 14.7, 10.1, 21.5, 16.6, 17.1, 20.7,  8.5, 14.9, 23.2, 14.8,\n",
       "       11.4, 10.7, 22.6, 21.2, 20.2, 23.7,  5.5, 23.8, 18.4,  8.1, 24.2,\n",
       "       15.7, 14. , 13.4, 22.3, 18.3, 12.4,  8.8, 11. , 17. ,  8.7,  6.9,\n",
       "       14.2,  5.3, 12.3, 13.6, 21.7, 15.2, 16. , 16.7, 11.2,  7.3, 19.4,\n",
       "       22.2, 11.5, 16.9, 11.7, 17.2, 19.2, 19.8, 21.8, 14.1, 12.6, 12.2,\n",
       "        9.4,  6.6,  7. , 11.6, 19.7, 24.7,  1.6, 12.7,  5.7, 19.6, 10.8,\n",
       "       20.8, 10.9, 20.1, 10.3, 16.1, 15.6,  3.2, 15.3, 14.4, 13.3,  8. ,\n",
       "        8.4, 14.5,  7.6, 27. , 26.2, 17.6, 17.3,  6.7,  9.9,  5.9, 25.5])"
      ]
     },
     "execution_count": 11,
     "metadata": {},
     "output_type": "execute_result"
    }
   ],
   "source": [
    "df.sales.unique()"
   ]
  },
  {
   "cell_type": "markdown",
   "id": "b872bd90",
   "metadata": {},
   "source": [
    "* Target/dependent variable is discrete and categorical in nature"
   ]
  },
  {
   "cell_type": "code",
   "execution_count": 13,
   "id": "b779c72c",
   "metadata": {},
   "outputs": [
    {
     "data": {
      "text/plain": [
       "9.7     5\n",
       "15.9    4\n",
       "11.7    4\n",
       "12.9    4\n",
       "20.7    3\n",
       "       ..\n",
       "25.5    1\n",
       "15.6    1\n",
       "17.6    1\n",
       "3.2     1\n",
       "20.8    1\n",
       "Name: sales, Length: 121, dtype: int64"
      ]
     },
     "execution_count": 13,
     "metadata": {},
     "output_type": "execute_result"
    }
   ],
   "source": [
    "df.sales.value_counts()"
   ]
  },
  {
   "cell_type": "markdown",
   "id": "9558df69",
   "metadata": {},
   "source": [
    "* Here all the sales values are higly concentrated"
   ]
  },
  {
   "cell_type": "code",
   "execution_count": 12,
   "id": "0bc298e2",
   "metadata": {},
   "outputs": [
    {
     "data": {
      "text/plain": [
       "array([230.1,  44.5,  17.2, 151.5, 180.8,   8.7,  57.5, 120.2,   8.6,\n",
       "       199.8,  66.1, 214.7,  23.8,  97.5, 204.1, 195.4,  67.8, 281.4,\n",
       "        69.2, 147.3, 218.4, 237.4,  13.2, 228.3,  62.3, 262.9, 142.9,\n",
       "       240.1, 248.8,  70.6, 292.9, 112.9,  97.2, 265.6,  95.7, 290.7,\n",
       "       266.9,  74.7,  43.1, 228. , 202.5, 177. , 293.6, 206.9,  25.1,\n",
       "       175.1,  89.7, 239.9, 227.2,  66.9, 100.4, 216.4, 182.6, 262.7,\n",
       "       198.9,   7.3, 136.2, 210.8, 210.7,  53.5, 261.3, 239.3, 102.7,\n",
       "       131.1,  69. ,  31.5, 139.3, 216.8, 199.1, 109.8,  26.8, 129.4,\n",
       "       213.4,  16.9,  27.5, 120.5,   5.4, 116. ,  76.4, 239.8,  75.3,\n",
       "        68.4, 213.5, 193.2,  76.3, 110.7,  88.3, 134.3,  28.6, 217.7,\n",
       "       250.9, 107.4, 163.3, 197.6, 184.9, 289.7, 135.2, 222.4, 296.4,\n",
       "       280.2, 187.9, 238.2, 137.9,  25. ,  90.4,  13.1, 255.4, 225.8,\n",
       "       241.7, 175.7, 209.6,  78.2,  75.1, 139.2, 125.7,  19.4, 141.3,\n",
       "        18.8, 224. , 123.1, 229.5,  87.2,   7.8,  80.2, 220.3,  59.6,\n",
       "         0.7, 265.2,   8.4, 219.8,  36.9,  48.3,  25.6, 273.7,  43. ,\n",
       "        73.4, 193.7, 220.5, 104.6,  96.2, 140.3, 243.2,  38. ,  44.7,\n",
       "       280.7, 121. , 171.3, 187.8,   4.1,  93.9, 149.8,  11.7, 131.7,\n",
       "       172.5,  85.7, 188.4, 163.5, 117.2, 234.5,  17.9, 206.8, 215.4,\n",
       "       284.3,  50. , 164.5,  19.6, 168.4, 276.9, 248.4, 170.2, 276.7,\n",
       "       165.6, 156.6, 218.5,  56.2, 287.6, 253.8, 205. , 139.5, 191.1,\n",
       "       286. ,  18.7,  39.5,  75.5, 166.8, 149.7,  38.2,  94.2, 283.6,\n",
       "       232.1])"
      ]
     },
     "execution_count": 12,
     "metadata": {},
     "output_type": "execute_result"
    }
   ],
   "source": [
    "df.TV.unique()"
   ]
  },
  {
   "cell_type": "markdown",
   "id": "6da74726",
   "metadata": {},
   "source": [
    "* Target/dependent variables is discrete and categorial in nature "
   ]
  },
  {
   "cell_type": "code",
   "execution_count": 15,
   "id": "955357f4",
   "metadata": {},
   "outputs": [
    {
     "data": {
      "text/plain": [
       "76.4     2\n",
       "17.2     2\n",
       "240.1    2\n",
       "197.6    2\n",
       "184.9    2\n",
       "        ..\n",
       "117.2    1\n",
       "289.7    1\n",
       "137.9    1\n",
       "220.5    1\n",
       "13.1     1\n",
       "Name: TV, Length: 190, dtype: int64"
      ]
     },
     "execution_count": 15,
     "metadata": {},
     "output_type": "execute_result"
    }
   ],
   "source": [
    "df.TV.value_counts()"
   ]
  },
  {
   "cell_type": "markdown",
   "id": "094ca26a",
   "metadata": {},
   "source": [
    "* Here all the TV values are higly concentrated"
   ]
  },
  {
   "cell_type": "markdown",
   "id": "f7ff8f75",
   "metadata": {},
   "source": [
    "# Data Visualizations"
   ]
  },
  {
   "cell_type": "code",
   "execution_count": 16,
   "id": "f930b5e6",
   "metadata": {},
   "outputs": [
    {
     "data": {
      "image/png": "[encoded data removed]",
      "text/plain": [
       "<Figure size 432x288 with 1 Axes>"
      ]
     },
     "metadata": {
      "needs_background": "light"
     },
     "output_type": "display_data"
    }
   ],
   "source": [
    "sns.countplot(df['TV']);"
   ]
  },
  {
   "cell_type": "markdown",
   "id": "53ee6f20",
   "metadata": {},
   "source": [
    "* Data contains all columns distribution will be same.m"
   ]
  },
  {
   "cell_type": "code",
   "execution_count": 18,
   "id": "eadfd1b8",
   "metadata": {},
   "outputs": [
    {
     "data": {
      "image/png": "[encoded data removed]",
      "text/plain": [
       "<Figure size 432x288 with 1 Axes>"
      ]
     },
     "metadata": {
      "needs_background": "light"
     },
     "output_type": "display_data"
    }
   ],
   "source": [
    "sns.countplot(df['radio']);"
   ]
  },
  {
   "cell_type": "markdown",
   "id": "2fa58834",
   "metadata": {},
   "source": [
    "* Data distribution normally in all the columns."
   ]
  },
  {
   "cell_type": "code",
   "execution_count": 19,
   "id": "72bb891d",
   "metadata": {},
   "outputs": [
    {
     "data": {
      "text/plain": [
       "<AxesSubplot:xlabel='newspaper', ylabel='count'>"
      ]
     },
     "execution_count": 19,
     "metadata": {},
     "output_type": "execute_result"
    },
    {
     "data": {
      "image/png": "[encoded data removed]",
      "text/plain": [
       "<Figure size 432x288 with 1 Axes>"
      ]
     },
     "metadata": {
      "needs_background": "light"
     },
     "output_type": "display_data"
    }
   ],
   "source": [
    "sns.countplot(df['newspaper'])"
   ]
  },
  {
   "cell_type": "markdown",
   "id": "24d76919",
   "metadata": {},
   "source": [
    "* Normally distribution in all the columns of dataset"
   ]
  },
  {
   "cell_type": "code",
   "execution_count": 20,
   "id": "b06a6a7b",
   "metadata": {},
   "outputs": [
    {
     "data": {
      "text/plain": [
       "<AxesSubplot:xlabel='sales', ylabel='count'>"
      ]
     },
     "execution_count": 20,
     "metadata": {},
     "output_type": "execute_result"
    },
    {
     "data": {
      "image/png": "[encoded data removed]",
      "text/plain": [
       "<Figure size 432x288 with 1 Axes>"
      ]
     },
     "metadata": {
      "needs_background": "light"
     },
     "output_type": "display_data"
    }
   ],
   "source": [
    "sns.countplot(df['sales'])"
   ]
  },
  {
   "cell_type": "markdown",
   "id": "3f3040a9",
   "metadata": {},
   "source": [
    "* Normally distribution in all the columns of dataset"
   ]
  },
  {
   "cell_type": "code",
   "execution_count": 21,
   "id": "8f695970",
   "metadata": {},
   "outputs": [
    {
     "data": {
      "text/plain": [
       "<AxesSubplot:>"
      ]
     },
     "execution_count": 21,
     "metadata": {},
     "output_type": "execute_result"
    },
    {
     "data": {
      "image/png": "[encoded data removed]",
      "text/plain": [
       "<Figure size 432x288 with 2 Axes>"
      ]
     },
     "metadata": {
      "needs_background": "light"
     },
     "output_type": "display_data"
    }
   ],
   "source": [
    "sns.heatmap(df.isnull())"
   ]
  },
  {
   "cell_type": "markdown",
   "id": "5cab18c5",
   "metadata": {},
   "source": [
    "* Heatmap contains all the null values in dataset"
   ]
  },
  {
   "cell_type": "code",
   "execution_count": 22,
   "id": "86f0e0a1",
   "metadata": {},
   "outputs": [
    {
     "data": {
      "text/html": [
       "<div>\n",
       "<style scoped>\n",
       "    .dataframe tbody tr th:only-of-type {\n",
       "        vertical-align: middle;\n",
       "    }\n",
       "\n",
       "    .dataframe tbody tr th {\n",
       "        vertical-align: top;\n",
       "    }\n",
       "\n",
       "    .dataframe thead th {\n",
       "        text-align: right;\n",
       "    }\n",
       "</style>\n",
       "<table border=\"1\" class=\"dataframe\">\n",
       "  <thead>\n",
       "    <tr style=\"text-align: right;\">\n",
       "      <th></th>\n",
       "      <th>Unnamed: 0</th>\n",
       "      <th>TV</th>\n",
       "      <th>radio</th>\n",
       "      <th>newspaper</th>\n",
       "      <th>sales</th>\n",
       "    </tr>\n",
       "  </thead>\n",
       "  <tbody>\n",
       "    <tr>\n",
       "      <th>Unnamed: 0</th>\n",
       "      <td>1.000000</td>\n",
       "      <td>0.017715</td>\n",
       "      <td>-0.110680</td>\n",
       "      <td>-0.154944</td>\n",
       "      <td>-0.051616</td>\n",
       "    </tr>\n",
       "    <tr>\n",
       "      <th>TV</th>\n",
       "      <td>0.017715</td>\n",
       "      <td>1.000000</td>\n",
       "      <td>0.054809</td>\n",
       "      <td>0.056648</td>\n",
       "      <td>0.782224</td>\n",
       "    </tr>\n",
       "    <tr>\n",
       "      <th>radio</th>\n",
       "      <td>-0.110680</td>\n",
       "      <td>0.054809</td>\n",
       "      <td>1.000000</td>\n",
       "      <td>0.354104</td>\n",
       "      <td>0.576223</td>\n",
       "    </tr>\n",
       "    <tr>\n",
       "      <th>newspaper</th>\n",
       "      <td>-0.154944</td>\n",
       "      <td>0.056648</td>\n",
       "      <td>0.354104</td>\n",
       "      <td>1.000000</td>\n",
       "      <td>0.228299</td>\n",
       "    </tr>\n",
       "    <tr>\n",
       "      <th>sales</th>\n",
       "      <td>-0.051616</td>\n",
       "      <td>0.782224</td>\n",
       "      <td>0.576223</td>\n",
       "      <td>0.228299</td>\n",
       "      <td>1.000000</td>\n",
       "    </tr>\n",
       "  </tbody>\n",
       "</table>\n",
       "</div>"
      ],
      "text/plain": [
       "            Unnamed: 0        TV     radio  newspaper     sales\n",
       "Unnamed: 0    1.000000  0.017715 -0.110680  -0.154944 -0.051616\n",
       "TV            0.017715  1.000000  0.054809   0.056648  0.782224\n",
       "radio        -0.110680  0.054809  1.000000   0.354104  0.576223\n",
       "newspaper    -0.154944  0.056648  0.354104   1.000000  0.228299\n",
       "sales        -0.051616  0.782224  0.576223   0.228299  1.000000"
      ]
     },
     "execution_count": 22,
     "metadata": {},
     "output_type": "execute_result"
    }
   ],
   "source": [
    "dfcor=df.corr()\n",
    "dfcor"
   ]
  },
  {
   "cell_type": "code",
   "execution_count": 23,
   "id": "5c7660cb",
   "metadata": {},
   "outputs": [
    {
     "data": {
      "text/plain": [
       "<AxesSubplot:>"
      ]
     },
     "execution_count": 23,
     "metadata": {},
     "output_type": "execute_result"
    },
    {
     "data": {
      "image/png": "[encoded data removed]",
      "text/plain": [
       "<Figure size 432x288 with 2 Axes>"
      ]
     },
     "metadata": {
      "needs_background": "light"
     },
     "output_type": "display_data"
    }
   ],
   "source": [
    "sns.heatmap(dfcor)"
   ]
  },
  {
   "cell_type": "markdown",
   "id": "7931a3df",
   "metadata": {},
   "source": [
    "* Heatmap containes the difference of corresponding values of dataset.\n",
    "\n",
    "Light shades are higly corrolated"
   ]
  },
  {
   "cell_type": "code",
   "execution_count": 24,
   "id": "db6497eb",
   "metadata": {},
   "outputs": [
    {
     "data": {
      "text/plain": [
       "<AxesSubplot:>"
      ]
     },
     "execution_count": 24,
     "metadata": {},
     "output_type": "execute_result"
    },
    {
     "data": {
      "image/png": "[encoded data removed]",
      "text/plain": [
       "<Figure size 432x288 with 2 Axes>"
      ]
     },
     "metadata": {
      "needs_background": "light"
     },
     "output_type": "display_data"
    }
   ],
   "source": [
    "plt.figure(figsize=(6,4))\n",
    "sns.heatmap(dfcor, cmap='Blues',annot=True)"
   ]
  },
  {
   "cell_type": "markdown",
   "id": "725042fe",
   "metadata": {},
   "source": [
    "* Dark shades are higly correlated"
   ]
  },
  {
   "cell_type": "code",
   "execution_count": 25,
   "id": "55e79e67",
   "metadata": {},
   "outputs": [
    {
     "data": {
      "text/plain": [
       "<AxesSubplot:>"
      ]
     },
     "execution_count": 25,
     "metadata": {},
     "output_type": "execute_result"
    },
    {
     "data": {
      "image/png": "[encoded data removed]",
      "text/plain": [
       "<Figure size 720x432 with 2 Axes>"
      ]
     },
     "metadata": {
      "needs_background": "light"
     },
     "output_type": "display_data"
    }
   ],
   "source": [
    "plt.figure(figsize=(10,6))\n",
    "sns.heatmap(dfcor,cmap='Oranges',annot=True)"
   ]
  },
  {
   "cell_type": "markdown",
   "id": "c3703e62",
   "metadata": {},
   "source": [
    "\n",
    "* Light shades are higly correlated\n",
    "\n",
    "* sales is higly correlated with newspaper\n",
    "\n",
    "* newspaper is highly negatively correlated with TV\n",
    "\n",
    "* TV is higly positively correlated with Unnamed:0\n",
    "\n",
    "* TV is negatively correlated with Sales\n",
    "\n",
    "* radio is highly correlated with mewspaper\n",
    "\n"
   ]
  },
  {
   "cell_type": "markdown",
   "id": "337154c7",
   "metadata": {},
   "source": [
    "# Plotting Outliers"
   ]
  },
  {
   "cell_type": "code",
   "execution_count": 26,
   "id": "7d348f03",
   "metadata": {},
   "outputs": [
    {
     "data": {
      "text/plain": [
       "Index(['Unnamed: 0', 'TV', 'radio', 'newspaper', 'sales'], dtype='object')"
      ]
     },
     "execution_count": 26,
     "metadata": {},
     "output_type": "execute_result"
    }
   ],
   "source": [
    "df.columns"
   ]
  },
  {
   "cell_type": "code",
   "execution_count": 27,
   "id": "bdd17daf",
   "metadata": {},
   "outputs": [
    {
     "data": {
      "text/plain": [
       "<AxesSubplot:>"
      ]
     },
     "execution_count": 27,
     "metadata": {},
     "output_type": "execute_result"
    },
    {
     "data": {
      "image/png": "[encoded data removed]",
      "text/plain": [
       "<Figure size 432x288 with 1 Axes>"
      ]
     },
     "metadata": {
      "needs_background": "light"
     },
     "output_type": "display_data"
    }
   ],
   "source": [
    "df['TV'].plot.box()"
   ]
  },
  {
   "cell_type": "code",
   "execution_count": 28,
   "id": "02f38120",
   "metadata": {},
   "outputs": [
    {
     "data": {
      "text/plain": [
       "<AxesSubplot:>"
      ]
     },
     "execution_count": 28,
     "metadata": {},
     "output_type": "execute_result"
    },
    {
     "data": {
      "image/png": "[encoded data removed]",
      "text/plain": [
       "<Figure size 432x288 with 1 Axes>"
      ]
     },
     "metadata": {
      "needs_background": "light"
     },
     "output_type": "display_data"
    }
   ],
   "source": [
    "df['radio'].plot.box()"
   ]
  },
  {
   "cell_type": "markdown",
   "id": "6a9c3b2e",
   "metadata": {},
   "source": [
    "* Here tv and radio have no outside viscous so we cant find outliers easily."
   ]
  },
  {
   "cell_type": "code",
   "execution_count": 29,
   "id": "be9f61c4",
   "metadata": {},
   "outputs": [
    {
     "data": {
      "text/plain": [
       "<AxesSubplot:>"
      ]
     },
     "execution_count": 29,
     "metadata": {},
     "output_type": "execute_result"
    },
    {
     "data": {
      "image/png": "[encoded data removed]",
      "text/plain": [
       "<Figure size 432x288 with 1 Axes>"
      ]
     },
     "metadata": {
      "needs_background": "light"
     },
     "output_type": "display_data"
    }
   ],
   "source": [
    "df['newspaper'].plot.box()"
   ]
  },
  {
   "cell_type": "markdown",
   "id": "5f497125",
   "metadata": {},
   "source": [
    "* Here newspaper have outside viscous so we can find outliers easily.\n"
   ]
  },
  {
   "cell_type": "code",
   "execution_count": 30,
   "id": "6486ed14",
   "metadata": {},
   "outputs": [
    {
     "data": {
      "text/plain": [
       "<AxesSubplot:>"
      ]
     },
     "execution_count": 30,
     "metadata": {},
     "output_type": "execute_result"
    },
    {
     "data": {
      "image/png": "[encoded data removed]",
      "text/plain": [
       "<Figure size 432x288 with 1 Axes>"
      ]
     },
     "metadata": {
      "needs_background": "light"
     },
     "output_type": "display_data"
    }
   ],
   "source": [
    "df['sales'].plot.box()"
   ]
  },
  {
   "cell_type": "code",
   "execution_count": 31,
   "id": "1a7b7e30",
   "metadata": {},
   "outputs": [
    {
     "data": {
      "text/plain": [
       "(200, 5)"
      ]
     },
     "execution_count": 31,
     "metadata": {},
     "output_type": "execute_result"
    }
   ],
   "source": [
    "df.shape"
   ]
  },
  {
   "cell_type": "markdown",
   "id": "c3a38d33",
   "metadata": {},
   "source": [
    "* Dataset contains 200 rows and 5 columns"
   ]
  },
  {
   "cell_type": "code",
   "execution_count": 32,
   "id": "927fd510",
   "metadata": {},
   "outputs": [],
   "source": [
    "collist=df.columns.values\n",
    "ncol=5\n",
    "nrows=10"
   ]
  },
  {
   "cell_type": "code",
   "execution_count": 33,
   "id": "e7904cea",
   "metadata": {},
   "outputs": [
    {
     "data": {
      "image/png": "[encoded data removed]",
      "text/plain": [
       "<Figure size 360x1800 with 4 Axes>"
      ]
     },
     "metadata": {
      "needs_background": "light"
     },
     "output_type": "display_data"
    }
   ],
   "source": [
    "plt.figure(figsize=(ncol,5*ncol))\n",
    "for i in range(1, len(collist)):\n",
    "    plt.subplot(nrows,ncol,i+1)\n",
    "    sns.boxplot(df[collist[i]],color='green', orient='v')\n",
    "    plt.tight_layout()"
   ]
  },
  {
   "cell_type": "markdown",
   "id": "59a95684",
   "metadata": {},
   "source": [
    "* We have the collist of the all outliers."
   ]
  },
  {
   "cell_type": "code",
   "execution_count": 34,
   "id": "c9193af1",
   "metadata": {},
   "outputs": [
    {
     "data": {
      "text/plain": [
       "<seaborn.axisgrid.FacetGrid at 0x7f81e913c670>"
      ]
     },
     "execution_count": 34,
     "metadata": {},
     "output_type": "execute_result"
    },
    {
     "data": {
      "image/png": "[encoded data removed]",
      "text/plain": [
       "<Figure size 360x360 with 1 Axes>"
      ]
     },
     "metadata": {
      "needs_background": "light"
     },
     "output_type": "display_data"
    }
   ],
   "source": [
    "sns.displot(df['TV'])"
   ]
  },
  {
   "cell_type": "code",
   "execution_count": 35,
   "id": "ae602982",
   "metadata": {},
   "outputs": [
    {
     "data": {
      "text/plain": [
       "<seaborn.axisgrid.FacetGrid at 0x7f81dbba99a0>"
      ]
     },
     "execution_count": 35,
     "metadata": {},
     "output_type": "execute_result"
    },
    {
     "data": {
      "image/png": "[encoded data removed]",
      "text/plain": [
       "<Figure size 360x360 with 1 Axes>"
      ]
     },
     "metadata": {
      "needs_background": "light"
     },
     "output_type": "display_data"
    }
   ],
   "source": [
    "sns.displot(df['radio'])"
   ]
  },
  {
   "cell_type": "code",
   "execution_count": 36,
   "id": "c4a4c233",
   "metadata": {},
   "outputs": [
    {
     "data": {
      "text/plain": [
       "<seaborn.axisgrid.FacetGrid at 0x7f81e9986670>"
      ]
     },
     "execution_count": 36,
     "metadata": {},
     "output_type": "execute_result"
    },
    {
     "data": {
      "image/png": "[encoded data removed]",
      "text/plain": [
       "<Figure size 360x360 with 1 Axes>"
      ]
     },
     "metadata": {
      "needs_background": "light"
     },
     "output_type": "display_data"
    }
   ],
   "source": [
    "sns.displot(df['newspaper'])"
   ]
  },
  {
   "cell_type": "code",
   "execution_count": 37,
   "id": "41272839",
   "metadata": {},
   "outputs": [
    {
     "data": {
      "text/plain": [
       "<seaborn.axisgrid.FacetGrid at 0x7f81e90a9d60>"
      ]
     },
     "execution_count": 37,
     "metadata": {},
     "output_type": "execute_result"
    },
    {
     "data": {
      "image/png": "[encoded data removed]",
      "text/plain": [
       "<Figure size 360x360 with 1 Axes>"
      ]
     },
     "metadata": {
      "needs_background": "light"
     },
     "output_type": "display_data"
    }
   ],
   "source": [
    "sns.displot(df['sales'])"
   ]
  },
  {
   "cell_type": "markdown",
   "id": "e4046215",
   "metadata": {},
   "source": [
    "* Data is not normally distributed in the TV,Radio,newspaper and sales columns."
   ]
  },
  {
   "cell_type": "code",
   "execution_count": 39,
   "id": "2440f3b4",
   "metadata": {},
   "outputs": [
    {
     "data": {
      "image/png": "[encoded data removed]",
      "text/plain": [
       "<Figure size 1152x1152 with 1 Axes>"
      ]
     },
     "metadata": {
      "needs_background": "light"
     },
     "output_type": "display_data"
    },
    {
     "data": {
      "image/png": "[encoded data removed]",
      "text/plain": [
       "<Figure size 360x360 with 1 Axes>"
      ]
     },
     "metadata": {
      "needs_background": "light"
     },
     "output_type": "display_data"
    },
    {
     "data": {
      "image/png": "[encoded data removed]",
      "text/plain": [
       "<Figure size 360x360 with 1 Axes>"
      ]
     },
     "metadata": {
      "needs_background": "light"
     },
     "output_type": "display_data"
    },
    {
     "data": {
      "image/png": "[encoded data removed]",
      "text/plain": [
       "<Figure size 360x360 with 1 Axes>"
      ]
     },
     "metadata": {
      "needs_background": "light"
     },
     "output_type": "display_data"
    },
    {
     "data": {
      "image/png": "[encoded data removed]",
      "text/plain": [
       "<Figure size 360x360 with 1 Axes>"
      ]
     },
     "metadata": {
      "needs_background": "light"
     },
     "output_type": "display_data"
    },
    {
     "data": {
      "image/png": "[encoded data removed]",
      "text/plain": [
       "<Figure size 360x360 with 1 Axes>"
      ]
     },
     "metadata": {
      "needs_background": "light"
     },
     "output_type": "display_data"
    }
   ],
   "source": [
    "# plt.figure (figsize=(5*totalcol.5*totalcol))\n",
    "\n",
    "plt.figure(figsize=(16,16))\n",
    "for i in range(0, len(collist)):\n",
    "    plt.subplot(nrows,ncol,i+1)\n",
    "    sns.displot(df[collist[i]])\n",
    "    plt.tight_layout()"
   ]
  },
  {
   "cell_type": "markdown",
   "id": "fa79d794",
   "metadata": {},
   "source": [
    "* Other independent variables are right skewed/positively skewed"
   ]
  },
  {
   "cell_type": "code",
   "execution_count": 40,
   "id": "7eb9e61c",
   "metadata": {},
   "outputs": [
    {
     "data": {
      "text/plain": [
       "<matplotlib.collections.PathCollection at 0x7f81e99869d0>"
      ]
     },
     "execution_count": 40,
     "metadata": {},
     "output_type": "execute_result"
    },
    {
     "data": {
      "image/png": "[encoded data removed]",
      "text/plain": [
       "<Figure size 432x288 with 1 Axes>"
      ]
     },
     "metadata": {
      "needs_background": "light"
     },
     "output_type": "display_data"
    }
   ],
   "source": [
    "plt.scatter(df['newspaper'],df['TV'])"
   ]
  },
  {
   "cell_type": "markdown",
   "id": "3c5cc498",
   "metadata": {},
   "source": [
    "* Here scattiring plot values of newspaper and TV"
   ]
  },
  {
   "cell_type": "code",
   "execution_count": 41,
   "id": "baa43c7a",
   "metadata": {},
   "outputs": [
    {
     "data": {
      "text/plain": [
       "<seaborn.axisgrid.PairGrid at 0x7f81e9c8e3d0>"
      ]
     },
     "execution_count": 41,
     "metadata": {},
     "output_type": "execute_result"
    },
    {
     "data": {
      "image/png": "[encoded data removed]",
      "text/plain": [
       "<Figure size 900x900 with 30 Axes>"
      ]
     },
     "metadata": {
      "needs_background": "light"
     },
     "output_type": "display_data"
    }
   ],
   "source": [
    "sns.pairplot(df)"
   ]
  },
  {
   "cell_type": "markdown",
   "id": "9a84567c",
   "metadata": {},
   "source": [
    "* Remove the missing values.\n",
    "\n",
    "* drop the nagativity correlated columns.\n",
    "\n",
    "* remove the outliers.\n",
    "\n"
   ]
  },
  {
   "cell_type": "code",
   "execution_count": 42,
   "id": "f0442c94",
   "metadata": {},
   "outputs": [
    {
     "data": {
      "image/png": "[encoded data removed]",
      "text/plain": [
       "<Figure size 432x288 with 1 Axes>"
      ]
     },
     "metadata": {
      "needs_background": "light"
     },
     "output_type": "display_data"
    }
   ],
   "source": [
    "plt.scatter(df['radio'],df['TV'])\n",
    "plt.show()"
   ]
  },
  {
   "cell_type": "markdown",
   "id": "744b37cc",
   "metadata": {},
   "source": [
    "* Here scatter plot of radio and TV"
   ]
  },
  {
   "cell_type": "code",
   "execution_count": 43,
   "id": "5ea2ef17",
   "metadata": {},
   "outputs": [],
   "source": [
    "df.drop('radio',axis=1,inplace=True)"
   ]
  },
  {
   "cell_type": "code",
   "execution_count": 44,
   "id": "d438640d",
   "metadata": {},
   "outputs": [
    {
     "data": {
      "text/html": [
       "<div>\n",
       "<style scoped>\n",
       "    .dataframe tbody tr th:only-of-type {\n",
       "        vertical-align: middle;\n",
       "    }\n",
       "\n",
       "    .dataframe tbody tr th {\n",
       "        vertical-align: top;\n",
       "    }\n",
       "\n",
       "    .dataframe thead th {\n",
       "        text-align: right;\n",
       "    }\n",
       "</style>\n",
       "<table border=\"1\" class=\"dataframe\">\n",
       "  <thead>\n",
       "    <tr style=\"text-align: right;\">\n",
       "      <th></th>\n",
       "      <th>Unnamed: 0</th>\n",
       "      <th>TV</th>\n",
       "      <th>newspaper</th>\n",
       "      <th>sales</th>\n",
       "    </tr>\n",
       "  </thead>\n",
       "  <tbody>\n",
       "    <tr>\n",
       "      <th>0</th>\n",
       "      <td>1</td>\n",
       "      <td>230.1</td>\n",
       "      <td>69.2</td>\n",
       "      <td>22.1</td>\n",
       "    </tr>\n",
       "    <tr>\n",
       "      <th>1</th>\n",
       "      <td>2</td>\n",
       "      <td>44.5</td>\n",
       "      <td>45.1</td>\n",
       "      <td>10.4</td>\n",
       "    </tr>\n",
       "    <tr>\n",
       "      <th>2</th>\n",
       "      <td>3</td>\n",
       "      <td>17.2</td>\n",
       "      <td>69.3</td>\n",
       "      <td>9.3</td>\n",
       "    </tr>\n",
       "    <tr>\n",
       "      <th>3</th>\n",
       "      <td>4</td>\n",
       "      <td>151.5</td>\n",
       "      <td>58.5</td>\n",
       "      <td>18.5</td>\n",
       "    </tr>\n",
       "    <tr>\n",
       "      <th>4</th>\n",
       "      <td>5</td>\n",
       "      <td>180.8</td>\n",
       "      <td>58.4</td>\n",
       "      <td>12.9</td>\n",
       "    </tr>\n",
       "  </tbody>\n",
       "</table>\n",
       "</div>"
      ],
      "text/plain": [
       "   Unnamed: 0     TV  newspaper  sales\n",
       "0           1  230.1       69.2   22.1\n",
       "1           2   44.5       45.1   10.4\n",
       "2           3   17.2       69.3    9.3\n",
       "3           4  151.5       58.5   18.5\n",
       "4           5  180.8       58.4   12.9"
      ]
     },
     "execution_count": 44,
     "metadata": {},
     "output_type": "execute_result"
    }
   ],
   "source": [
    "df.head()"
   ]
  },
  {
   "cell_type": "code",
   "execution_count": 46,
   "id": "1cb8ecf5",
   "metadata": {},
   "outputs": [
    {
     "data": {
      "text/plain": [
       "(200, 4)"
      ]
     },
     "execution_count": 46,
     "metadata": {},
     "output_type": "execute_result"
    }
   ],
   "source": [
    "df.shape"
   ]
  },
  {
   "cell_type": "markdown",
   "id": "5a0e0cc0",
   "metadata": {},
   "source": [
    "* Dataset contains 200 rows and 4 columns"
   ]
  },
  {
   "cell_type": "code",
   "execution_count": 47,
   "id": "f74b077a",
   "metadata": {},
   "outputs": [
    {
     "data": {
      "text/html": [
       "<div>\n",
       "<style scoped>\n",
       "    .dataframe tbody tr th:only-of-type {\n",
       "        vertical-align: middle;\n",
       "    }\n",
       "\n",
       "    .dataframe tbody tr th {\n",
       "        vertical-align: top;\n",
       "    }\n",
       "\n",
       "    .dataframe thead th {\n",
       "        text-align: right;\n",
       "    }\n",
       "</style>\n",
       "<table border=\"1\" class=\"dataframe\">\n",
       "  <thead>\n",
       "    <tr style=\"text-align: right;\">\n",
       "      <th></th>\n",
       "      <th>Unnamed: 0</th>\n",
       "      <th>TV</th>\n",
       "      <th>newspaper</th>\n",
       "      <th>sales</th>\n",
       "    </tr>\n",
       "  </thead>\n",
       "  <tbody>\n",
       "    <tr>\n",
       "      <th>0</th>\n",
       "      <td>1</td>\n",
       "      <td>230.1</td>\n",
       "      <td>69.2</td>\n",
       "      <td>22.1</td>\n",
       "    </tr>\n",
       "    <tr>\n",
       "      <th>1</th>\n",
       "      <td>2</td>\n",
       "      <td>44.5</td>\n",
       "      <td>45.1</td>\n",
       "      <td>10.4</td>\n",
       "    </tr>\n",
       "    <tr>\n",
       "      <th>2</th>\n",
       "      <td>3</td>\n",
       "      <td>17.2</td>\n",
       "      <td>69.3</td>\n",
       "      <td>9.3</td>\n",
       "    </tr>\n",
       "    <tr>\n",
       "      <th>3</th>\n",
       "      <td>4</td>\n",
       "      <td>151.5</td>\n",
       "      <td>58.5</td>\n",
       "      <td>18.5</td>\n",
       "    </tr>\n",
       "    <tr>\n",
       "      <th>4</th>\n",
       "      <td>5</td>\n",
       "      <td>180.8</td>\n",
       "      <td>58.4</td>\n",
       "      <td>12.9</td>\n",
       "    </tr>\n",
       "  </tbody>\n",
       "</table>\n",
       "</div>"
      ],
      "text/plain": [
       "   Unnamed: 0     TV  newspaper  sales\n",
       "0           1  230.1       69.2   22.1\n",
       "1           2   44.5       45.1   10.4\n",
       "2           3   17.2       69.3    9.3\n",
       "3           4  151.5       58.5   18.5\n",
       "4           5  180.8       58.4   12.9"
      ]
     },
     "execution_count": 47,
     "metadata": {},
     "output_type": "execute_result"
    }
   ],
   "source": [
    "df.head()"
   ]
  },
  {
   "cell_type": "code",
   "execution_count": 48,
   "id": "1b9a3ae7",
   "metadata": {},
   "outputs": [
    {
     "data": {
      "text/plain": [
       "Index(['Unnamed: 0', 'TV', 'newspaper', 'sales'], dtype='object')"
      ]
     },
     "execution_count": 48,
     "metadata": {},
     "output_type": "execute_result"
    }
   ],
   "source": [
    "df.columns"
   ]
  },
  {
   "cell_type": "markdown",
   "id": "b8ffc7e3",
   "metadata": {},
   "source": [
    "# Removing Outliers"
   ]
  },
  {
   "cell_type": "code",
   "execution_count": 49,
   "id": "ea57bb03",
   "metadata": {},
   "outputs": [
    {
     "data": {
      "text/plain": [
       "array([[1.72341210e+00, 9.69852266e-01, 1.77894547e+00, 1.55205313e+00],\n",
       "       [1.70609137e+00, 1.19737623e+00, 6.69578760e-01, 6.96046111e-01],\n",
       "       [1.68877065e+00, 1.51615499e+00, 1.78354865e+00, 9.07405869e-01],\n",
       "       [1.67144992e+00, 5.20496822e-02, 1.28640506e+00, 8.60330287e-01],\n",
       "       [1.65412920e+00, 3.94182198e-01, 1.28180188e+00, 2.15683025e-01],\n",
       "       [1.63680847e+00, 1.61540845e+00, 2.04592999e+00, 1.31091086e+00],\n",
       "       [1.61948775e+00, 1.04557682e+00, 3.24708413e-01, 4.27042783e-01],\n",
       "       [1.60216702e+00, 3.13436589e-01, 8.72486994e-01, 1.58039455e-01],\n",
       "       [1.58484630e+00, 1.61657614e+00, 1.36042422e+00, 1.77205942e+00],\n",
       "       [1.56752558e+00, 6.16042873e-01, 4.30581584e-01, 6.57617064e-01],\n",
       "       [1.55020485e+00, 9.45155670e-01, 2.92486143e-01, 1.04190753e+00],\n",
       "       [1.53288413e+00, 7.90028350e-01, 1.22232878e+00, 6.48970529e-01],\n",
       "       [1.51556340e+00, 1.43908760e+00, 1.62704048e+00, 9.26620392e-01],\n",
       "       [1.49824268e+00, 5.78501712e-01, 1.07502697e+00, 8.30547775e-01],\n",
       "       [1.48092195e+00, 6.66253447e-01, 7.11007392e-01, 9.56402904e-01],\n",
       "       [1.46360123e+00, 5.64664612e-01, 1.02862691e+00, 1.60969670e+00],\n",
       "       [1.44628050e+00, 9.25304978e-01, 3.84117072e+00, 2.92541119e-01],\n",
       "       [1.42895978e+00, 1.56887609e+00, 1.16211917e+00, 1.99398717e+00],\n",
       "       [1.41163905e+00, 9.08957349e-01, 5.64073843e-01, 5.23115400e-01],\n",
       "       [1.39431833e+00, 3.00679600e-03, 5.27248393e-01, 1.10963873e-01],\n",
       "       [1.37699760e+00, 8.33232798e-01, 1.05164281e+00, 7.64257669e-01],\n",
       "       [1.35967688e+00, 1.05509347e+00, 3.24708413e-01, 2.92541119e-01],\n",
       "       [1.34235616e+00, 1.56286250e+00, 8.76721921e-01, 1.61834324e+00],\n",
       "       [1.32503543e+00, 9.48833887e-01, 2.00422516e-01, 2.83894584e-01],\n",
       "       [1.30771471e+00, 9.89527805e-01, 5.64073843e-01, 8.30547775e-01],\n",
       "       [1.29039398e+00, 1.35285385e+00, 5.08835667e-01, 3.88613736e-01],\n",
       "       [1.27307326e+00, 4.83714657e-02, 8.26455181e-01, 1.87821967e-01],\n",
       "       [1.25575253e+00, 1.08662104e+00, 3.52327501e-01, 3.60752677e-01],\n",
       "       [1.23843181e+00, 1.18820988e+00, 3.52327501e-01, 9.37188380e-01],\n",
       "       [1.22111108e+00, 8.92609721e-01, 4.71641962e-01, 6.76831588e-01],\n",
       "       [1.20379036e+00, 1.70316018e+00, 5.82118314e-01, 1.41755147e+00],\n",
       "       [1.18646963e+00, 3.98677796e-01, 3.70371972e-01, 4.07828260e-01],\n",
       "       [1.16914891e+00, 5.82004775e-01, 2.55016247e-02, 8.49762299e-01],\n",
       "       [1.15182818e+00, 1.38438142e+00, 1.39264649e+00, 6.48970529e-01],\n",
       "       [1.13450746e+00, 5.99520091e-01, 1.06582061e+00, 8.68976822e-01],\n",
       "       [1.11718674e+00, 1.67747105e+00, 1.01518562e+00, 2.34897549e-01],\n",
       "       [1.09986601e+00, 1.39956136e+00, 1.17629696e+00, 2.18613240e+00],\n",
       "       [1.08254529e+00, 8.44734522e-01, 6.97197848e-01, 1.30178396e-01],\n",
       "       [1.06522456e+00, 1.21372386e+00, 2.09260624e-01, 7.53689682e-01],\n",
       "       [1.04790384e+00, 9.45330823e-01, 6.65620024e-02, 1.43676599e+00],\n",
       "       [1.03058311e+00, 6.47570443e-01, 4.81492770e-02, 4.95254341e-01],\n",
       "       [1.01326239e+00, 3.49810063e-01, 3.74975153e-01, 5.91326959e-01],\n",
       "       [9.95941664e-01, 1.71133400e+00, 1.32359877e+00, 1.28304980e+00],\n",
       "       [9.78620939e-01, 6.98948705e-01, 1.91216154e-01, 2.15683025e-01],\n",
       "       [9.61300215e-01, 1.42390765e+00, 5.86721496e-01, 1.06112206e+00],\n",
       "       [9.43979490e-01, 3.27623995e-01, 4.35460956e-02, 1.68607443e-01],\n",
       "       [9.26658765e-01, 6.69581357e-01, 2.36879713e-01, 6.57617064e-01],\n",
       "       [9.09338041e-01, 1.08428567e+00, 5.54867481e-01, 1.76341289e+00],\n",
       "       [8.92017316e-01, 9.35989321e-01, 8.90531465e-01, 1.49392920e-01],\n",
       "       [8.74696592e-01, 9.35814168e-01, 2.87514708e-01, 8.30547775e-01],\n",
       "       [8.57375867e-01, 6.16042873e-01, 1.86244718e-01, 5.03900877e-01],\n",
       "       [8.40055142e-01, 5.44638766e-01, 1.24074150e+00, 6.38402541e-01],\n",
       "       [8.22734418e-01, 8.09879042e-01, 4.16403786e-01, 1.64812575e+00],\n",
       "       [8.05413693e-01, 4.15200577e-01, 1.29561142e+00, 1.37912242e+00],\n",
       "       [7.88092969e-01, 1.35051848e+00, 6.74550196e-01, 1.18697718e+00],\n",
       "       [7.70772244e-01, 6.05533683e-01, 1.35545278e+00, 1.85948550e+00],\n",
       "       [7.53451519e-01, 1.63175608e+00, 4.99261050e-01, 1.63755776e+00],\n",
       "       [7.36130795e-01, 1.26606546e-01, 6.42327927e-01, 1.58039455e-01],\n",
       "       [7.18810070e-01, 7.44488528e-01, 3.28943340e-01, 1.87870003e+00],\n",
       "       [7.01489346e-01, 7.43320840e-01, 9.78360166e-01, 8.41115763e-01],\n",
       "       [6.84168621e-01, 1.09228433e+00, 4.21375221e-01, 1.13798015e+00],\n",
       "       [6.66847897e-01, 1.33417085e+00, 1.11148417e+00, 1.95555812e+00],\n",
       "       [6.49527172e-01, 1.07727954e+00, 1.49787521e-01, 3.22323631e-01],\n",
       "       [6.32206447e-01, 5.17781948e-01, 1.01978880e+00, 4.32326777e-03],\n",
       "       [6.14885723e-01, 1.86158622e-01, 7.61366196e-02, 7.64257669e-01],\n",
       "       [5.97564998e-01, 9.11292725e-01, 1.36502740e+00, 9.07405869e-01],\n",
       "       [5.80244274e-01, 1.34917564e+00, 1.30518604e+00, 8.68976822e-01],\n",
       "       [5.62923549e-01, 9.04082253e-02, 9.36931533e-01, 1.19610408e-01],\n",
       "       [5.45602824e-01, 1.05509347e+00, 9.00106083e-01, 9.37188380e-01],\n",
       "       [5.28282100e-01, 8.14549794e-01, 1.54390703e-01, 1.59048218e+00],\n",
       "       [5.10961375e-01, 6.07869059e-01, 3.74975153e-01, 8.21901240e-01],\n",
       "       [4.93640651e-01, 4.34876116e-01, 5.27524584e-02, 3.11755643e-01],\n",
       "       [4.76319926e-01, 1.40405696e+00, 5.18042030e-01, 1.00347849e+00],\n",
       "       [4.58999202e-01, 2.06009314e-01, 3.43397329e-02, 5.80758971e-01],\n",
       "       [4.41678477e-01, 7.74848409e-01, 8.03439274e-01, 5.72112435e-01],\n",
       "       [4.24357752e-01, 1.51965805e+00, 2.70878810e+00, 1.02269301e+00],\n",
       "       [4.07037028e-01, 1.39588315e+00, 4.53597491e-01, 1.36855443e+00],\n",
       "       [3.89716303e-01, 3.09933525e-01, 7.52804279e-01, 3.41057791e-02],\n",
       "       [3.72395579e-01, 1.65394214e+00, 9.73756984e-01, 1.67598681e+00],\n",
       "       [3.55074854e-01, 3.62479475e-01, 3.43121138e-01, 5.80758971e-01],\n",
       "       [3.37754129e-01, 8.24883830e-01, 3.79946589e-01, 4.27042783e-01],\n",
       "       [3.20433405e-01, 1.08311798e+00, 2.92117889e-01, 3.30970166e-01],\n",
       "       [3.03112680e-01, 8.37728396e-01, 8.95779092e-02, 5.23115400e-01],\n",
       "       [2.85791956e-01, 9.18298852e-01, 2.32276531e-01, 8.11813615e-02],\n",
       "       [2.68471231e-01, 7.76016097e-01, 1.49419267e-01, 1.47519504e+00],\n",
       "       [2.51150506e-01, 5.38975481e-01, 1.61783412e+00, 2.26251013e-01],\n",
       "       [2.33829782e-01, 8.26051518e-01, 6.69947015e-01, 3.88613736e-01],\n",
       "       [2.16509057e-01, 4.24366926e-01, 1.50275459e+00, 3.79967201e-01],\n",
       "       [1.99188333e-01, 6.85928986e-01, 1.97227908e+00, 2.15683025e-01],\n",
       "       [1.81867608e-01, 4.34876116e-01, 9.59579186e-01, 5.14468865e-01],\n",
       "       [1.64546884e-01, 1.48792614e-01, 9.78360166e-01, 5.42329924e-01],\n",
       "       [1.47226159e-01, 1.38303858e+00, 1.12593816e-01, 1.29169634e+00],\n",
       "       [1.29905434e-01, 8.25058983e-01, 1.30942097e+00, 1.03326100e+00],\n",
       "       [1.12584710e-01, 1.21273132e+00, 1.92164409e+00, 1.57126765e+00],\n",
       "       [9.52639852e-02, 4.62900623e-01, 9.04709264e-01, 4.84686354e-01],\n",
       "       [7.79432606e-02, 1.89836839e-01, 1.02862691e+00, 5.52897912e-01],\n",
       "       [6.06225361e-02, 5.90353742e-01, 1.13486833e+00, 4.46257307e-01],\n",
       "       [4.33018115e-02, 4.42057396e-01, 3.93756133e-01, 2.83894584e-01],\n",
       "       [2.59810869e-02, 1.66579418e+00, 9.50372823e-01, 2.18613240e+00],\n",
       "       [8.66036229e-03, 1.38283424e-01, 7.06404211e-01, 6.10541482e-01],\n",
       "       [8.66036229e-03, 8.79940308e-01, 8.85928284e-01, 4.46257307e-01],\n",
       "       [2.59810869e-02, 1.74402926e+00, 3.23815396e+00, 1.87870003e+00],\n",
       "       [4.33018115e-02, 1.55486384e+00, 4.21375221e-01, 1.49392920e-01],\n",
       "       [6.06225361e-02, 4.77088029e-01, 5.82486569e-01, 1.30178396e-01],\n",
       "       [7.79432606e-02, 1.06443498e+00, 1.16248742e+00, 1.28304980e+00],\n",
       "       [9.52639852e-02, 1.06755854e-01, 1.30942097e+00, 9.94831951e-01],\n",
       "       [1.12584710e-01, 1.42507534e+00, 3.93111688e-02, 1.31091086e+00],\n",
       "       [1.29905434e-01, 6.61407543e-01, 3.38517957e-01, 1.02269301e+00],\n",
       "       [1.47226159e-01, 1.56403019e+00, 2.28041604e-01, 1.67598681e+00],\n",
       "       [1.64546884e-01, 1.26527727e+00, 1.15328106e+00, 1.11011909e+00],\n",
       "       [1.81867608e-01, 9.19641692e-01, 1.19434143e+00, 1.19610408e-01],\n",
       "       [1.99188333e-01, 1.10530405e+00, 3.38517957e-01, 1.49440956e+00],\n",
       "       [2.16509057e-01, 3.34630122e-01, 1.29597968e+00, 1.48912557e-02],\n",
       "       [2.33829782e-01, 7.30476274e-01, 9.13915627e-01, 3.60752677e-01],\n",
       "       [2.51150506e-01, 8.03865450e-01, 1.81641536e-01, 1.10963873e-01],\n",
       "       [2.68471231e-01, 8.40063771e-01, 1.01942054e+00, 2.73326596e-01],\n",
       "       [2.85791956e-01, 9.15759131e-02, 2.28041604e-01, 3.50184689e-01],\n",
       "       [3.03112680e-01, 8.24883830e-01, 7.25185191e-01, 8.88191346e-01],\n",
       "       [3.20433405e-01, 2.49213762e-01, 2.23926360e+00, 3.60752677e-01],\n",
       "       [3.37754129e-01, 1.49046586e+00, 3.79946589e-01, 1.42619800e+00],\n",
       "       [3.55074854e-01, 6.70544700e-02, 7.20213755e-01, 2.83894584e-01],\n",
       "       [3.72395579e-01, 1.49747198e+00, 9.13547372e-01, 1.34933991e+00],\n",
       "       [3.89716303e-01, 8.98623313e-01, 6.88359740e-01, 4.65471830e-01],\n",
       "       [4.07037028e-01, 2.79573643e-01, 8.35661544e-01, 2.26251013e-01],\n",
       "       [4.24357752e-01, 9.62846140e-01, 2.00910454e+00, 1.09090457e+00],\n",
       "       [4.41678477e-01, 6.98773552e-01, 2.14232060e-01, 6.57617064e-01],\n",
       "       [4.58999202e-01, 1.62591764e+00, 9.22753735e-01, 1.42619800e+00],\n",
       "       [4.76319926e-01, 7.80511695e-01, 9.82963347e-01, 1.00347849e+00],\n",
       "       [4.93640651e-01, 8.55418865e-01, 1.25915423e+00, 2.05163074e+00],\n",
       "       [5.10961375e-01, 1.02105537e+00, 5.77515133e-01, 8.30547775e-01],\n",
       "       [5.28282100e-01, 1.70882347e+00, 1.00597925e+00, 2.38692417e+00],\n",
       "       [5.45602824e-01, 1.37971067e+00, 5.72911952e-01, 2.54112072e-01],\n",
       "       [5.62923549e-01, 1.61891151e+00, 1.30978922e+00, 1.59912871e+00],\n",
       "       [5.80244274e-01, 8.49580427e-01, 6.69578760e-01, 1.07169004e+00],\n",
       "       [5.97564998e-01, 1.28612050e+00, 1.61323094e+00, 6.19188018e-01],\n",
       "       [6.14885723e-01, 1.15300409e+00, 1.01518562e+00, 4.65471830e-01],\n",
       "       [6.32206447e-01, 1.41806922e+00, 9.78360166e-01, 8.68976822e-01],\n",
       "       [6.49527172e-01, 1.47896413e+00, 1.34164324e+00, 1.30226433e+00],\n",
       "       [6.66847897e-01, 1.21489154e+00, 4.62803854e-01, 8.49762299e-01],\n",
       "       [6.84168621e-01, 4.42057396e-01, 1.32820195e+00, 1.28304980e+00],\n",
       "       [7.01489346e-01, 8.59914463e-01, 8.12645637e-01, 5.99973494e-01],\n",
       "       [7.18810070e-01, 5.44813920e-01, 2.07354907e+00, 9.94831951e-01],\n",
       "       [7.36130795e-01, 8.57754241e-01, 3.38149702e-01, 1.16776266e+00],\n",
       "       [7.53451519e-01, 4.95595880e-01, 1.77038355e-01, 6.96046111e-01],\n",
       "       [7.70772244e-01, 5.93681653e-01, 3.84181516e-01, 5.03900877e-01],\n",
       "       [7.88092969e-01, 7.87313476e-02, 9.92169710e-01, 7.15260635e-01],\n",
       "       [8.05413693e-01, 1.08662104e+00, 1.00597925e+00, 1.58039455e-01],\n",
       "       [8.22734418e-01, 1.12281936e+00, 6.32753309e-01, 2.18613240e+00],\n",
       "       [8.40055142e-01, 1.27327593e+00, 8.58677450e-01, 5.99973494e-01],\n",
       "       [8.57375867e-01, 1.19504085e+00, 4.58200672e-01, 7.53689682e-01],\n",
       "       [8.74696592e-01, 1.56070228e+00, 2.96721070e-01, 3.99181724e-01],\n",
       "       [8.92017316e-01, 3.04095087e-01, 8.35293289e-01, 4.65471830e-01],\n",
       "       [9.09338041e-01, 5.90353742e-01, 7.52804279e-01, 4.95254341e-01],\n",
       "       [9.26658765e-01, 2.83251860e-01, 3.28943340e-01, 9.56402904e-01],\n",
       "       [9.43979490e-01, 4.75920341e-01, 9.69153803e-01, 3.03109107e-01],\n",
       "       [9.61300215e-01, 1.66912209e+00, 1.14407469e+00, 2.07949180e+00],\n",
       "       [9.78620939e-01, 6.20538471e-01, 9.18150553e-01, 2.45465537e-01],\n",
       "       [9.95941664e-01, 3.21989902e-02, 2.87882962e-01, 7.53689682e-01],\n",
       "       [1.01326239e+00, 1.58037782e+00, 6.74181942e-01, 1.29169634e+00],\n",
       "       [1.03058311e+00, 1.79152496e-01, 1.86244718e-01, 2.15683025e-01],\n",
       "       [1.04790384e+00, 2.97264113e-01, 6.72064478e-03, 7.25348259e-02],\n",
       "       [1.06522456e+00, 7.16288868e-01, 8.62912377e-01, 1.38824932e-01],\n",
       "       [1.08254529e+00, 4.82926468e-01, 2.28041604e-01, 1.68607443e-01],\n",
       "       [1.09986601e+00, 1.92172214e-01, 1.06582061e+00, 7.64257669e-01],\n",
       "       [1.11718674e+00, 3.48467222e-01, 1.15788424e+00, 4.07828260e-01],\n",
       "       [1.13450746e+00, 1.02123053e+00, 2.49704176e+00, 4.07828260e-01],\n",
       "       [1.15182818e+00, 1.50798117e+00, 4.12168859e-01, 1.15719467e+00],\n",
       "       [1.16914891e+00, 6.97781017e-01, 5.13438849e-01, 3.50184689e-01],\n",
       "       [1.18646963e+00, 7.98202165e-01, 1.24497643e+00, 5.91326959e-01],\n",
       "       [1.20379036e+00, 1.60273904e+00, 1.11185242e+00, 1.87821967e-01],\n",
       "       [1.22111108e+00, 1.13315340e+00, 5.59470662e-01, 1.08033658e+00],\n",
       "       [1.23843181e+00, 2.03849092e-01, 7.75451931e-01, 9.17493494e-02],\n",
       "       [1.25575253e+00, 1.48813048e+00, 6.23915201e-01, 1.23405277e+00],\n",
       "       [1.27307326e+00, 2.49388915e-01, 8.17248818e-01, 4.46257307e-01],\n",
       "       [1.29039398e+00, 8.79940308e-01, 8.03439274e-01, 4.84686354e-01],\n",
       "       [1.30771471e+00, 1.51633014e+00, 5.17673775e-01, 2.49356478e+00],\n",
       "       [1.32503543e+00, 1.18353913e+00, 4.72010216e-01, 1.18697718e+00],\n",
       "       [1.34235616e+00, 2.70407294e-01, 2.13863806e-01, 4.46257307e-01],\n",
       "       [1.35967688e+00, 1.51399477e+00, 3.15502050e-01, 4.27042783e-01],\n",
       "       [1.37699760e+00, 2.16693657e-01, 5.96296113e-01, 2.73326596e-01],\n",
       "       [1.39431833e+00, 1.11601758e-01, 1.02439198e+00, 6.76831588e-01],\n",
       "       [1.41163905e+00, 8.34400486e-01, 1.45184340e-01, 3.50184689e-01],\n",
       "       [1.42895978e+00, 1.06075676e+00, 3.93111688e-02, 1.02269301e+00],\n",
       "       [1.44628050e+00, 1.64127273e+00, 1.89862818e+00, 2.33984859e+00],\n",
       "       [1.46360123e+00, 1.24659427e+00, 2.55016247e-02, 6.87399576e-01],\n",
       "       [1.48092195e+00, 6.76762637e-01, 5.04232486e-01, 1.64812575e+00],\n",
       "       [1.49824268e+00, 8.80728498e-02, 1.82009791e-01, 7.15260635e-01],\n",
       "       [1.51556340e+00, 5.14454038e-01, 5.68677025e-01, 6.29756005e-01],\n",
       "       [1.53288413e+00, 1.62258973e+00, 1.23613832e+00, 3.60752677e-01],\n",
       "       [1.55020485e+00, 1.49863967e+00, 3.29311594e-01, 1.40698348e+00],\n",
       "       [1.56752558e+00, 1.25576062e+00, 1.13947151e+00, 6.19188018e-01],\n",
       "       [1.58484630e+00, 8.35393020e-01, 1.13026515e+00, 7.92118728e-01],\n",
       "       [1.60216702e+00, 1.51615499e+00, 4.81492770e-02, 1.56069967e+00],\n",
       "       [1.61948775e+00, 2.30705910e-01, 1.24074150e+00, 1.07169004e+00],\n",
       "       [1.63680847e+00, 3.10313024e-02, 1.13026515e+00, 6.29756005e-01],\n",
       "       [1.65412920e+00, 1.27094056e+00, 7.71217005e-01, 1.23405277e+00],\n",
       "       [1.67144992e+00, 6.17035408e-01, 1.03359834e+00, 8.30547775e-01],\n",
       "       [1.68877065e+00, 3.49810063e-01, 1.11185242e+00, 2.34897549e-01],\n",
       "       [1.70609137e+00, 1.59456522e+00, 1.64085003e+00, 2.20534693e+00],\n",
       "       [1.72341210e+00, 9.93206022e-01, 1.00597925e+00, 1.19610408e-01]])"
      ]
     },
     "execution_count": 49,
     "metadata": {},
     "output_type": "execute_result"
    }
   ],
   "source": [
    "from scipy.stats import zscore\n",
    "z=np.abs(zscore(df))\n",
    "z"
   ]
  },
  {
   "cell_type": "markdown",
   "id": "22501245",
   "metadata": {},
   "source": [
    "* Here removed outliers of dataset\n"
   ]
  },
  {
   "cell_type": "code",
   "execution_count": 50,
   "id": "c8cf2c55",
   "metadata": {},
   "outputs": [
    {
     "name": "stdout",
     "output_type": "stream",
     "text": [
      "(array([ 16, 101]), array([2, 2]))\n"
     ]
    }
   ],
   "source": [
    "threshold=3\n",
    "print(np.where(z>3)) "
   ]
  },
  {
   "cell_type": "markdown",
   "id": "f6e7ca3e",
   "metadata": {},
   "source": [
    "* Thershold is 3 and print np where z>3\n"
   ]
  },
  {
   "cell_type": "code",
   "execution_count": 51,
   "id": "bf65537b",
   "metadata": {},
   "outputs": [],
   "source": [
    "df_new=df[(z<3).all(axis=1)]"
   ]
  },
  {
   "cell_type": "code",
   "execution_count": 52,
   "id": "2c47ce47",
   "metadata": {},
   "outputs": [
    {
     "data": {
      "text/html": [
       "<div>\n",
       "<style scoped>\n",
       "    .dataframe tbody tr th:only-of-type {\n",
       "        vertical-align: middle;\n",
       "    }\n",
       "\n",
       "    .dataframe tbody tr th {\n",
       "        vertical-align: top;\n",
       "    }\n",
       "\n",
       "    .dataframe thead th {\n",
       "        text-align: right;\n",
       "    }\n",
       "</style>\n",
       "<table border=\"1\" class=\"dataframe\">\n",
       "  <thead>\n",
       "    <tr style=\"text-align: right;\">\n",
       "      <th></th>\n",
       "      <th>Unnamed: 0</th>\n",
       "      <th>TV</th>\n",
       "      <th>newspaper</th>\n",
       "      <th>sales</th>\n",
       "    </tr>\n",
       "  </thead>\n",
       "  <tbody>\n",
       "    <tr>\n",
       "      <th>0</th>\n",
       "      <td>1</td>\n",
       "      <td>230.1</td>\n",
       "      <td>69.2</td>\n",
       "      <td>22.1</td>\n",
       "    </tr>\n",
       "    <tr>\n",
       "      <th>1</th>\n",
       "      <td>2</td>\n",
       "      <td>44.5</td>\n",
       "      <td>45.1</td>\n",
       "      <td>10.4</td>\n",
       "    </tr>\n",
       "    <tr>\n",
       "      <th>2</th>\n",
       "      <td>3</td>\n",
       "      <td>17.2</td>\n",
       "      <td>69.3</td>\n",
       "      <td>9.3</td>\n",
       "    </tr>\n",
       "    <tr>\n",
       "      <th>3</th>\n",
       "      <td>4</td>\n",
       "      <td>151.5</td>\n",
       "      <td>58.5</td>\n",
       "      <td>18.5</td>\n",
       "    </tr>\n",
       "    <tr>\n",
       "      <th>4</th>\n",
       "      <td>5</td>\n",
       "      <td>180.8</td>\n",
       "      <td>58.4</td>\n",
       "      <td>12.9</td>\n",
       "    </tr>\n",
       "    <tr>\n",
       "      <th>...</th>\n",
       "      <td>...</td>\n",
       "      <td>...</td>\n",
       "      <td>...</td>\n",
       "      <td>...</td>\n",
       "    </tr>\n",
       "    <tr>\n",
       "      <th>195</th>\n",
       "      <td>196</td>\n",
       "      <td>38.2</td>\n",
       "      <td>13.8</td>\n",
       "      <td>7.6</td>\n",
       "    </tr>\n",
       "    <tr>\n",
       "      <th>196</th>\n",
       "      <td>197</td>\n",
       "      <td>94.2</td>\n",
       "      <td>8.1</td>\n",
       "      <td>9.7</td>\n",
       "    </tr>\n",
       "    <tr>\n",
       "      <th>197</th>\n",
       "      <td>198</td>\n",
       "      <td>177.0</td>\n",
       "      <td>6.4</td>\n",
       "      <td>12.8</td>\n",
       "    </tr>\n",
       "    <tr>\n",
       "      <th>198</th>\n",
       "      <td>199</td>\n",
       "      <td>283.6</td>\n",
       "      <td>66.2</td>\n",
       "      <td>25.5</td>\n",
       "    </tr>\n",
       "    <tr>\n",
       "      <th>199</th>\n",
       "      <td>200</td>\n",
       "      <td>232.1</td>\n",
       "      <td>8.7</td>\n",
       "      <td>13.4</td>\n",
       "    </tr>\n",
       "  </tbody>\n",
       "</table>\n",
       "<p>198 rows × 4 columns</p>\n",
       "</div>"
      ],
      "text/plain": [
       "     Unnamed: 0     TV  newspaper  sales\n",
       "0             1  230.1       69.2   22.1\n",
       "1             2   44.5       45.1   10.4\n",
       "2             3   17.2       69.3    9.3\n",
       "3             4  151.5       58.5   18.5\n",
       "4             5  180.8       58.4   12.9\n",
       "..          ...    ...        ...    ...\n",
       "195         196   38.2       13.8    7.6\n",
       "196         197   94.2        8.1    9.7\n",
       "197         198  177.0        6.4   12.8\n",
       "198         199  283.6       66.2   25.5\n",
       "199         200  232.1        8.7   13.4\n",
       "\n",
       "[198 rows x 4 columns]"
      ]
     },
     "execution_count": 52,
     "metadata": {},
     "output_type": "execute_result"
    }
   ],
   "source": [
    "df_new"
   ]
  },
  {
   "cell_type": "code",
   "execution_count": 53,
   "id": "52d60c1a",
   "metadata": {},
   "outputs": [
    {
     "data": {
      "text/plain": [
       "(200, 4)"
      ]
     },
     "execution_count": 53,
     "metadata": {},
     "output_type": "execute_result"
    }
   ],
   "source": [
    "df.shape"
   ]
  },
  {
   "cell_type": "markdown",
   "id": "66f326e4",
   "metadata": {},
   "source": [
    "* Dataset contains 198 rows and 4 columns"
   ]
  },
  {
   "cell_type": "code",
   "execution_count": 54,
   "id": "64ff37c9",
   "metadata": {},
   "outputs": [
    {
     "data": {
      "text/plain": [
       "(198, 4)"
      ]
     },
     "execution_count": 54,
     "metadata": {},
     "output_type": "execute_result"
    }
   ],
   "source": [
    "df_new.shape"
   ]
  },
  {
   "cell_type": "markdown",
   "id": "2643d63c",
   "metadata": {},
   "source": [
    "* Dataset contains 198 rows and 4 columns\n"
   ]
  },
  {
   "cell_type": "markdown",
   "id": "a9e5eb79",
   "metadata": {},
   "source": [
    "# Feature Engineering"
   ]
  },
  {
   "cell_type": "code",
   "execution_count": 55,
   "id": "6c9f1d20",
   "metadata": {},
   "outputs": [],
   "source": [
    "from sklearn.preprocessing import StandardScaler\n",
    "\n",
    "scaler = StandardScaler()\n",
    "scaledX = scaler.fit_transform(df)"
   ]
  },
  {
   "cell_type": "code",
   "execution_count": 56,
   "id": "44945901",
   "metadata": {},
   "outputs": [
    {
     "data": {
      "text/plain": [
       "array([[-1.72341210e+00,  9.69852266e-01,  1.77894547e+00,\n",
       "         1.55205313e+00],\n",
       "       [-1.70609137e+00, -1.19737623e+00,  6.69578760e-01,\n",
       "        -6.96046111e-01],\n",
       "       [-1.68877065e+00, -1.51615499e+00,  1.78354865e+00,\n",
       "        -9.07405869e-01],\n",
       "       [-1.67144992e+00,  5.20496822e-02,  1.28640506e+00,\n",
       "         8.60330287e-01],\n",
       "       [-1.65412920e+00,  3.94182198e-01,  1.28180188e+00,\n",
       "        -2.15683025e-01],\n",
       "       [-1.63680847e+00, -1.61540845e+00,  2.04592999e+00,\n",
       "        -1.31091086e+00],\n",
       "       [-1.61948775e+00, -1.04557682e+00, -3.24708413e-01,\n",
       "        -4.27042783e-01],\n",
       "       [-1.60216702e+00, -3.13436589e-01, -8.72486994e-01,\n",
       "        -1.58039455e-01],\n",
       "       [-1.58484630e+00, -1.61657614e+00, -1.36042422e+00,\n",
       "        -1.77205942e+00],\n",
       "       [-1.56752558e+00,  6.16042873e-01, -4.30581584e-01,\n",
       "        -6.57617064e-01],\n",
       "       [-1.55020485e+00, -9.45155670e-01, -2.92486143e-01,\n",
       "        -1.04190753e+00],\n",
       "       [-1.53288413e+00,  7.90028350e-01, -1.22232878e+00,\n",
       "         6.48970529e-01],\n",
       "       [-1.51556340e+00, -1.43908760e+00,  1.62704048e+00,\n",
       "        -9.26620392e-01],\n",
       "       [-1.49824268e+00, -5.78501712e-01, -1.07502697e+00,\n",
       "        -8.30547775e-01],\n",
       "       [-1.48092195e+00,  6.66253447e-01,  7.11007392e-01,\n",
       "         9.56402904e-01],\n",
       "       [-1.46360123e+00,  5.64664612e-01,  1.02862691e+00,\n",
       "         1.60969670e+00],\n",
       "       [-1.44628050e+00, -9.25304978e-01,  3.84117072e+00,\n",
       "        -2.92541119e-01],\n",
       "       [-1.42895978e+00,  1.56887609e+00,  1.16211917e+00,\n",
       "         1.99398717e+00],\n",
       "       [-1.41163905e+00, -9.08957349e-01, -5.64073843e-01,\n",
       "        -5.23115400e-01],\n",
       "       [-1.39431833e+00,  3.00679600e-03, -5.27248393e-01,\n",
       "         1.10963873e-01],\n",
       "       [-1.37699760e+00,  8.33232798e-01,  1.05164281e+00,\n",
       "         7.64257669e-01],\n",
       "       [-1.35967688e+00,  1.05509347e+00, -3.24708413e-01,\n",
       "        -2.92541119e-01],\n",
       "       [-1.34235616e+00, -1.56286250e+00,  8.76721921e-01,\n",
       "        -1.61834324e+00],\n",
       "       [-1.32503543e+00,  9.48833887e-01, -2.00422516e-01,\n",
       "         2.83894584e-01],\n",
       "       [-1.30771471e+00, -9.89527805e-01, -5.64073843e-01,\n",
       "        -8.30547775e-01],\n",
       "       [-1.29039398e+00,  1.35285385e+00, -5.08835667e-01,\n",
       "        -3.88613736e-01],\n",
       "       [-1.27307326e+00, -4.83714657e-02, -8.26455181e-01,\n",
       "         1.87821967e-01],\n",
       "       [-1.25575253e+00,  1.08662104e+00, -3.52327501e-01,\n",
       "         3.60752677e-01],\n",
       "       [-1.23843181e+00,  1.18820988e+00, -3.52327501e-01,\n",
       "         9.37188380e-01],\n",
       "       [-1.22111108e+00, -8.92609721e-01,  4.71641962e-01,\n",
       "        -6.76831588e-01],\n",
       "       [-1.20379036e+00,  1.70316018e+00,  5.82118314e-01,\n",
       "         1.41755147e+00],\n",
       "       [-1.18646963e+00, -3.98677796e-01,  3.70371972e-01,\n",
       "        -4.07828260e-01],\n",
       "       [-1.16914891e+00, -5.82004775e-01, -2.55016247e-02,\n",
       "        -8.49762299e-01],\n",
       "       [-1.15182818e+00,  1.38438142e+00, -1.39264649e+00,\n",
       "         6.48970529e-01],\n",
       "       [-1.13450746e+00, -5.99520091e-01, -1.06582061e+00,\n",
       "        -8.68976822e-01],\n",
       "       [-1.11718674e+00,  1.67747105e+00, -1.01518562e+00,\n",
       "        -2.34897549e-01],\n",
       "       [-1.09986601e+00,  1.39956136e+00, -1.17629696e+00,\n",
       "         2.18613240e+00],\n",
       "       [-1.08254529e+00, -8.44734522e-01,  6.97197848e-01,\n",
       "         1.30178396e-01],\n",
       "       [-1.06522456e+00, -1.21372386e+00,  2.09260624e-01,\n",
       "        -7.53689682e-01],\n",
       "       [-1.04790384e+00,  9.45330823e-01,  6.65620024e-02,\n",
       "         1.43676599e+00],\n",
       "       [-1.03058311e+00,  6.47570443e-01,  4.81492770e-02,\n",
       "         4.95254341e-01],\n",
       "       [-1.01326239e+00,  3.49810063e-01,  3.74975153e-01,\n",
       "         5.91326959e-01],\n",
       "       [-9.95941664e-01,  1.71133400e+00, -1.32359877e+00,\n",
       "         1.28304980e+00],\n",
       "       [-9.78620939e-01,  6.98948705e-01, -1.91216154e-01,\n",
       "        -2.15683025e-01],\n",
       "       [-9.61300215e-01, -1.42390765e+00,  5.86721496e-01,\n",
       "        -1.06112206e+00],\n",
       "       [-9.43979490e-01,  3.27623995e-01,  4.35460956e-02,\n",
       "         1.68607443e-01],\n",
       "       [-9.26658765e-01, -6.69581357e-01,  2.36879713e-01,\n",
       "        -6.57617064e-01],\n",
       "       [-9.09338041e-01,  1.08428567e+00, -5.54867481e-01,\n",
       "         1.76341289e+00],\n",
       "       [-8.92017316e-01,  9.35989321e-01,  8.90531465e-01,\n",
       "         1.49392920e-01],\n",
       "       [-8.74696592e-01, -9.35814168e-01,  2.87514708e-01,\n",
       "        -8.30547775e-01],\n",
       "       [-8.57375867e-01,  6.16042873e-01,  1.86244718e-01,\n",
       "        -5.03900877e-01],\n",
       "       [-8.40055142e-01, -5.44638766e-01, -1.24074150e+00,\n",
       "        -6.38402541e-01],\n",
       "       [-8.22734418e-01,  8.09879042e-01,  4.16403786e-01,\n",
       "         1.64812575e+00],\n",
       "       [-8.05413693e-01,  4.15200577e-01,  1.29561142e+00,\n",
       "         1.37912242e+00],\n",
       "       [-7.88092969e-01,  1.35051848e+00, -6.74550196e-01,\n",
       "         1.18697718e+00],\n",
       "       [-7.70772244e-01,  6.05533683e-01,  1.35545278e+00,\n",
       "         1.85948550e+00],\n",
       "       [-7.53451519e-01, -1.63175608e+00,  4.99261050e-01,\n",
       "        -1.63755776e+00],\n",
       "       [-7.36130795e-01, -1.26606546e-01, -6.42327927e-01,\n",
       "        -1.58039455e-01],\n",
       "       [-7.18810070e-01,  7.44488528e-01,  3.28943340e-01,\n",
       "         1.87870003e+00],\n",
       "       [-7.01489346e-01,  7.43320840e-01, -9.78360166e-01,\n",
       "         8.41115763e-01],\n",
       "       [-6.84168621e-01, -1.09228433e+00, -4.21375221e-01,\n",
       "        -1.13798015e+00],\n",
       "       [-6.66847897e-01,  1.33417085e+00,  1.11148417e+00,\n",
       "         1.95555812e+00],\n",
       "       [-6.49527172e-01,  1.07727954e+00, -1.49787521e-01,\n",
       "         3.22323631e-01],\n",
       "       [-6.32206447e-01, -5.17781948e-01, -1.01978880e+00,\n",
       "        -4.32326777e-03],\n",
       "       [-6.14885723e-01, -1.86158622e-01, -7.61366196e-02,\n",
       "         7.64257669e-01],\n",
       "       [-5.97564998e-01, -9.11292725e-01, -1.36502740e+00,\n",
       "        -9.07405869e-01],\n",
       "       [-5.80244274e-01, -1.34917564e+00, -1.30518604e+00,\n",
       "        -8.68976822e-01],\n",
       "       [-5.62923549e-01, -9.04082253e-02, -9.36931533e-01,\n",
       "        -1.19610408e-01],\n",
       "       [-5.45602824e-01,  1.05509347e+00, -9.00106083e-01,\n",
       "         9.37188380e-01],\n",
       "       [-5.28282100e-01,  8.14549794e-01, -1.54390703e-01,\n",
       "         1.59048218e+00],\n",
       "       [-5.10961375e-01,  6.07869059e-01,  3.74975153e-01,\n",
       "         8.21901240e-01],\n",
       "       [-4.93640651e-01, -4.34876116e-01,  5.27524584e-02,\n",
       "        -3.11755643e-01],\n",
       "       [-4.76319926e-01, -1.40405696e+00, -5.18042030e-01,\n",
       "        -1.00347849e+00],\n",
       "       [-4.58999202e-01, -2.06009314e-01,  3.43397329e-02,\n",
       "        -5.80758971e-01],\n",
       "       [-4.41678477e-01,  7.74848409e-01, -8.03439274e-01,\n",
       "         5.72112435e-01],\n",
       "       [-4.24357752e-01, -1.51965805e+00,  2.70878810e+00,\n",
       "        -1.02269301e+00],\n",
       "       [-4.07037028e-01, -1.39588315e+00, -4.53597491e-01,\n",
       "        -1.36855443e+00],\n",
       "       [-3.89716303e-01, -3.09933525e-01, -7.52804279e-01,\n",
       "         3.41057791e-02],\n",
       "       [-3.72395579e-01, -1.65394214e+00, -9.73756984e-01,\n",
       "        -1.67598681e+00],\n",
       "       [-3.55074854e-01, -3.62479475e-01, -3.43121138e-01,\n",
       "        -5.80758971e-01],\n",
       "       [-3.37754129e-01, -8.24883830e-01, -3.79946589e-01,\n",
       "        -4.27042783e-01],\n",
       "       [-3.20433405e-01,  1.08311798e+00,  2.92117889e-01,\n",
       "        -3.30970166e-01],\n",
       "       [-3.03112680e-01, -8.37728396e-01,  8.95779092e-02,\n",
       "        -5.23115400e-01],\n",
       "       [-2.85791956e-01, -9.18298852e-01,  2.32276531e-01,\n",
       "        -8.11813615e-02],\n",
       "       [-2.68471231e-01,  7.76016097e-01,  1.49419267e-01,\n",
       "         1.47519504e+00],\n",
       "       [-2.51150506e-01,  5.38975481e-01,  1.61783412e+00,\n",
       "         2.26251013e-01],\n",
       "       [-2.33829782e-01, -8.26051518e-01, -6.69947015e-01,\n",
       "        -3.88613736e-01],\n",
       "       [-2.16509057e-01, -4.24366926e-01,  1.50275459e+00,\n",
       "         3.79967201e-01],\n",
       "       [-1.99188333e-01, -6.85928986e-01,  1.97227908e+00,\n",
       "        -2.15683025e-01],\n",
       "       [-1.81867608e-01, -4.34876116e-01,  9.59579186e-01,\n",
       "         5.14468865e-01],\n",
       "       [-1.64546884e-01, -1.48792614e-01, -9.78360166e-01,\n",
       "        -5.42329924e-01],\n",
       "       [-1.47226159e-01, -1.38303858e+00,  1.12593816e-01,\n",
       "        -1.29169634e+00],\n",
       "       [-1.29905434e-01,  8.25058983e-01,  1.30942097e+00,\n",
       "         1.03326100e+00],\n",
       "       [-1.12584710e-01,  1.21273132e+00,  1.92164409e+00,\n",
       "         1.57126765e+00],\n",
       "       [-9.52639852e-02, -4.62900623e-01, -9.04709264e-01,\n",
       "        -4.84686354e-01],\n",
       "       [-7.79432606e-02,  1.89836839e-01,  1.02862691e+00,\n",
       "         5.52897912e-01],\n",
       "       [-6.06225361e-02,  5.90353742e-01, -1.13486833e+00,\n",
       "        -4.46257307e-01],\n",
       "       [-4.33018115e-02,  4.42057396e-01, -3.93756133e-01,\n",
       "         2.83894584e-01],\n",
       "       [-2.59810869e-02,  1.66579418e+00,  9.50372823e-01,\n",
       "         2.18613240e+00],\n",
       "       [-8.66036229e-03, -1.38283424e-01,  7.06404211e-01,\n",
       "         6.10541482e-01],\n",
       "       [ 8.66036229e-03,  8.79940308e-01,  8.85928284e-01,\n",
       "        -4.46257307e-01],\n",
       "       [ 2.59810869e-02,  1.74402926e+00,  3.23815396e+00,\n",
       "         1.87870003e+00],\n",
       "       [ 4.33018115e-02,  1.55486384e+00, -4.21375221e-01,\n",
       "         1.49392920e-01],\n",
       "       [ 6.06225361e-02,  4.77088029e-01, -5.82486569e-01,\n",
       "         1.30178396e-01],\n",
       "       [ 7.79432606e-02,  1.06443498e+00, -1.16248742e+00,\n",
       "         1.28304980e+00],\n",
       "       [ 9.52639852e-02, -1.06755854e-01,  1.30942097e+00,\n",
       "         9.94831951e-01],\n",
       "       [ 1.12584710e-01, -1.42507534e+00, -3.93111688e-02,\n",
       "        -1.31091086e+00],\n",
       "       [ 1.29905434e-01, -6.61407543e-01, -3.38517957e-01,\n",
       "        -1.02269301e+00],\n",
       "       [ 1.47226159e-01, -1.56403019e+00, -2.28041604e-01,\n",
       "        -1.67598681e+00],\n",
       "       [ 1.64546884e-01,  1.26527727e+00, -1.15328106e+00,\n",
       "         1.11011909e+00],\n",
       "       [ 1.81867608e-01,  9.19641692e-01,  1.19434143e+00,\n",
       "        -1.19610408e-01],\n",
       "       [ 1.99188333e-01,  1.10530405e+00, -3.38517957e-01,\n",
       "         1.49440956e+00],\n",
       "       [ 2.16509057e-01,  3.34630122e-01, -1.29597968e+00,\n",
       "         1.48912557e-02],\n",
       "       [ 2.33829782e-01,  7.30476274e-01, -9.13915627e-01,\n",
       "         3.60752677e-01],\n",
       "       [ 2.51150506e-01, -8.03865450e-01,  1.81641536e-01,\n",
       "         1.10963873e-01],\n",
       "       [ 2.68471231e-01, -8.40063771e-01,  1.01942054e+00,\n",
       "        -2.73326596e-01],\n",
       "       [ 2.85791956e-01, -9.15759131e-02, -2.28041604e-01,\n",
       "        -3.50184689e-01],\n",
       "       [ 3.03112680e-01, -8.24883830e-01, -7.25185191e-01,\n",
       "        -8.88191346e-01],\n",
       "       [ 3.20433405e-01, -2.49213762e-01,  2.23926360e+00,\n",
       "         3.60752677e-01],\n",
       "       [ 3.37754129e-01, -1.49046586e+00, -3.79946589e-01,\n",
       "        -1.42619800e+00],\n",
       "       [ 3.55074854e-01, -6.70544700e-02,  7.20213755e-01,\n",
       "         2.83894584e-01],\n",
       "       [ 3.72395579e-01, -1.49747198e+00,  9.13547372e-01,\n",
       "        -1.34933991e+00],\n",
       "       [ 3.89716303e-01,  8.98623313e-01, -6.88359740e-01,\n",
       "        -4.65471830e-01],\n",
       "       [ 4.07037028e-01, -2.79573643e-01, -8.35661544e-01,\n",
       "         2.26251013e-01],\n",
       "       [ 4.24357752e-01,  9.62846140e-01,  2.00910454e+00,\n",
       "         1.09090457e+00],\n",
       "       [ 4.41678477e-01, -6.98773552e-01, -2.14232060e-01,\n",
       "        -6.57617064e-01],\n",
       "       [ 4.58999202e-01, -1.62591764e+00,  9.22753735e-01,\n",
       "        -1.42619800e+00],\n",
       "       [ 4.76319926e-01, -7.80511695e-01, -9.82963347e-01,\n",
       "        -1.00347849e+00],\n",
       "       [ 4.93640651e-01,  8.55418865e-01, -1.25915423e+00,\n",
       "         2.05163074e+00],\n",
       "       [ 5.10961375e-01, -1.02105537e+00,  5.77515133e-01,\n",
       "        -8.30547775e-01],\n",
       "       [ 5.28282100e-01, -1.70882347e+00, -1.00597925e+00,\n",
       "        -2.38692417e+00],\n",
       "       [ 5.45602824e-01,  1.37971067e+00,  5.72911952e-01,\n",
       "        -2.54112072e-01],\n",
       "       [ 5.62923549e-01, -1.61891151e+00, -1.30978922e+00,\n",
       "        -1.59912871e+00],\n",
       "       [ 5.80244274e-01,  8.49580427e-01,  6.69578760e-01,\n",
       "         1.07169004e+00],\n",
       "       [ 5.97564998e-01, -1.28612050e+00,  1.61323094e+00,\n",
       "        -6.19188018e-01],\n",
       "       [ 6.14885723e-01, -1.15300409e+00, -1.01518562e+00,\n",
       "        -4.65471830e-01],\n",
       "       [ 6.32206447e-01, -1.41806922e+00, -9.78360166e-01,\n",
       "        -8.68976822e-01],\n",
       "       [ 6.49527172e-01,  1.47896413e+00,  1.34164324e+00,\n",
       "         1.30226433e+00],\n",
       "       [ 6.66847897e-01, -1.21489154e+00, -4.62803854e-01,\n",
       "        -8.49762299e-01],\n",
       "       [ 6.84168621e-01,  4.42057396e-01, -1.32820195e+00,\n",
       "         1.28304980e+00],\n",
       "       [ 7.01489346e-01, -8.59914463e-01, -8.12645637e-01,\n",
       "        -5.99973494e-01],\n",
       "       [ 7.18810070e-01,  5.44813920e-01,  2.07354907e+00,\n",
       "         9.94831951e-01],\n",
       "       [ 7.36130795e-01,  8.57754241e-01,  3.38149702e-01,\n",
       "         1.16776266e+00],\n",
       "       [ 7.53451519e-01, -4.95595880e-01,  1.77038355e-01,\n",
       "        -6.96046111e-01],\n",
       "       [ 7.70772244e-01, -5.93681653e-01,  3.84181516e-01,\n",
       "        -5.03900877e-01],\n",
       "       [ 7.88092969e-01, -7.87313476e-02, -9.92169710e-01,\n",
       "        -7.15260635e-01],\n",
       "       [ 8.05413693e-01,  1.08662104e+00, -1.00597925e+00,\n",
       "        -1.58039455e-01],\n",
       "       [ 8.22734418e-01,  1.12281936e+00,  6.32753309e-01,\n",
       "         2.18613240e+00],\n",
       "       [ 8.40055142e-01, -1.27327593e+00, -8.58677450e-01,\n",
       "        -5.99973494e-01],\n",
       "       [ 8.57375867e-01, -1.19504085e+00, -4.58200672e-01,\n",
       "        -7.53689682e-01],\n",
       "       [ 8.74696592e-01,  1.56070228e+00,  2.96721070e-01,\n",
       "         3.99181724e-01],\n",
       "       [ 8.92017316e-01, -3.04095087e-01,  8.35293289e-01,\n",
       "        -4.65471830e-01],\n",
       "       [ 9.09338041e-01,  5.90353742e-01, -7.52804279e-01,\n",
       "         4.95254341e-01],\n",
       "       [ 9.26658765e-01,  2.83251860e-01,  3.28943340e-01,\n",
       "         9.56402904e-01],\n",
       "       [ 9.43979490e-01,  4.75920341e-01, -9.69153803e-01,\n",
       "         3.03109107e-01],\n",
       "       [ 9.61300215e-01, -1.66912209e+00, -1.14407469e+00,\n",
       "        -2.07949180e+00],\n",
       "       [ 9.78620939e-01, -6.20538471e-01,  9.18150553e-01,\n",
       "         2.45465537e-01],\n",
       "       [ 9.95941664e-01,  3.21989902e-02, -2.87882962e-01,\n",
       "        -7.53689682e-01],\n",
       "       [ 1.01326239e+00, -1.58037782e+00,  6.74181942e-01,\n",
       "        -1.29169634e+00],\n",
       "       [ 1.03058311e+00, -1.79152496e-01,  1.86244718e-01,\n",
       "        -2.15683025e-01],\n",
       "       [ 1.04790384e+00,  2.97264113e-01,  6.72064478e-03,\n",
       "         7.25348259e-02],\n",
       "       [ 1.06522456e+00, -7.16288868e-01,  8.62912377e-01,\n",
       "        -1.38824932e-01],\n",
       "       [ 1.08254529e+00,  4.82926468e-01, -2.28041604e-01,\n",
       "         1.68607443e-01],\n",
       "       [ 1.09986601e+00,  1.92172214e-01, -1.06582061e+00,\n",
       "         7.64257669e-01],\n",
       "       [ 1.11718674e+00, -3.48467222e-01, -1.15788424e+00,\n",
       "        -4.07828260e-01],\n",
       "       [ 1.13450746e+00,  1.02123053e+00,  2.49704176e+00,\n",
       "        -4.07828260e-01],\n",
       "       [ 1.15182818e+00, -1.50798117e+00, -4.12168859e-01,\n",
       "        -1.15719467e+00],\n",
       "       [ 1.16914891e+00,  6.97781017e-01, -5.13438849e-01,\n",
       "        -3.50184689e-01],\n",
       "       [ 1.18646963e+00,  7.98202165e-01,  1.24497643e+00,\n",
       "         5.91326959e-01],\n",
       "       [ 1.20379036e+00,  1.60273904e+00, -1.11185242e+00,\n",
       "         1.87821967e-01],\n",
       "       [ 1.22111108e+00, -1.13315340e+00, -5.59470662e-01,\n",
       "        -1.08033658e+00],\n",
       "       [ 1.23843181e+00,  2.03849092e-01,  7.75451931e-01,\n",
       "         9.17493494e-02],\n",
       "       [ 1.25575253e+00, -1.48813048e+00, -6.23915201e-01,\n",
       "        -1.23405277e+00],\n",
       "       [ 1.27307326e+00,  2.49388915e-01, -8.17248818e-01,\n",
       "        -4.46257307e-01],\n",
       "       [ 1.29039398e+00,  8.79940308e-01, -8.03439274e-01,\n",
       "        -4.84686354e-01],\n",
       "       [ 1.30771471e+00,  1.51633014e+00,  5.17673775e-01,\n",
       "         2.49356478e+00],\n",
       "       [ 1.32503543e+00,  1.18353913e+00, -4.72010216e-01,\n",
       "         1.18697718e+00],\n",
       "       [ 1.34235616e+00,  2.70407294e-01,  2.13863806e-01,\n",
       "        -4.46257307e-01],\n",
       "       [ 1.35967688e+00,  1.51399477e+00, -3.15502050e-01,\n",
       "        -4.27042783e-01],\n",
       "       [ 1.37699760e+00,  2.16693657e-01, -5.96296113e-01,\n",
       "        -2.73326596e-01],\n",
       "       [ 1.39431833e+00,  1.11601758e-01, -1.02439198e+00,\n",
       "        -6.76831588e-01],\n",
       "       [ 1.41163905e+00,  8.34400486e-01, -1.45184340e-01,\n",
       "        -3.50184689e-01],\n",
       "       [ 1.42895978e+00, -1.06075676e+00, -3.93111688e-02,\n",
       "        -1.02269301e+00],\n",
       "       [ 1.44628050e+00,  1.64127273e+00,  1.89862818e+00,\n",
       "         2.33984859e+00],\n",
       "       [ 1.46360123e+00,  1.24659427e+00, -2.55016247e-02,\n",
       "         6.87399576e-01],\n",
       "       [ 1.48092195e+00,  6.76762637e-01, -5.04232486e-01,\n",
       "         1.64812575e+00],\n",
       "       [ 1.49824268e+00, -8.80728498e-02, -1.82009791e-01,\n",
       "        -7.15260635e-01],\n",
       "       [ 1.51556340e+00,  5.14454038e-01, -5.68677025e-01,\n",
       "         6.29756005e-01],\n",
       "       [ 1.53288413e+00,  1.62258973e+00, -1.23613832e+00,\n",
       "         3.60752677e-01],\n",
       "       [ 1.55020485e+00, -1.49863967e+00, -3.29311594e-01,\n",
       "        -1.40698348e+00],\n",
       "       [ 1.56752558e+00, -1.25576062e+00, -1.13947151e+00,\n",
       "        -6.19188018e-01],\n",
       "       [ 1.58484630e+00, -8.35393020e-01, -1.13026515e+00,\n",
       "        -7.92118728e-01],\n",
       "       [ 1.60216702e+00, -1.51615499e+00,  4.81492770e-02,\n",
       "        -1.56069967e+00],\n",
       "       [ 1.61948775e+00,  2.30705910e-01, -1.24074150e+00,\n",
       "         1.07169004e+00],\n",
       "       [ 1.63680847e+00,  3.10313024e-02, -1.13026515e+00,\n",
       "         6.29756005e-01],\n",
       "       [ 1.65412920e+00, -1.27094056e+00, -7.71217005e-01,\n",
       "        -1.23405277e+00],\n",
       "       [ 1.67144992e+00, -6.17035408e-01, -1.03359834e+00,\n",
       "        -8.30547775e-01],\n",
       "       [ 1.68877065e+00,  3.49810063e-01, -1.11185242e+00,\n",
       "        -2.34897549e-01],\n",
       "       [ 1.70609137e+00,  1.59456522e+00,  1.64085003e+00,\n",
       "         2.20534693e+00],\n",
       "       [ 1.72341210e+00,  9.93206022e-01, -1.00597925e+00,\n",
       "        -1.19610408e-01]])"
      ]
     },
     "execution_count": 56,
     "metadata": {},
     "output_type": "execute_result"
    }
   ],
   "source": [
    "scaledX"
   ]
  },
  {
   "cell_type": "markdown",
   "id": "307fa02a",
   "metadata": {},
   "source": [
    "* The standard scaler values of the following\n"
   ]
  },
  {
   "cell_type": "code",
   "execution_count": 58,
   "id": "ffc46512",
   "metadata": {},
   "outputs": [],
   "source": [
    "from sklearn.decomposition import PCA\n",
    "\n",
    "testpca = PCA()\n",
    "Y = testpca.fit(scaledX)"
   ]
  },
  {
   "cell_type": "code",
   "execution_count": 59,
   "id": "15273846",
   "metadata": {},
   "outputs": [
    {
     "data": {
      "text/plain": [
       "array([0.45904603, 0.2833742 , 0.20808651, 0.04949325])"
      ]
     },
     "execution_count": 59,
     "metadata": {},
     "output_type": "execute_result"
    }
   ],
   "source": [
    "Y.explained_variance_ratio_"
   ]
  },
  {
   "cell_type": "markdown",
   "id": "ff58b71e",
   "metadata": {},
   "source": [
    "* The varience accuracy ratio of PCA"
   ]
  },
  {
   "cell_type": "code",
   "execution_count": 61,
   "id": "2414c147",
   "metadata": {},
   "outputs": [
    {
     "data": {
      "text/plain": [
       "array([ 45.90460298,  74.24202341,  95.0506749 , 100.        ])"
      ]
     },
     "execution_count": 61,
     "metadata": {},
     "output_type": "execute_result"
    }
   ],
   "source": [
    "var_cumu = np.cumsum(Y.explained_variance_ratio_)*100\n",
    "var_cumu"
   ]
  },
  {
   "cell_type": "markdown",
   "id": "6ea0e5c2",
   "metadata": {},
   "source": [
    "* The varience accracy ratio of PCA\n"
   ]
  },
  {
   "cell_type": "code",
   "execution_count": 62,
   "id": "635e666a",
   "metadata": {},
   "outputs": [
    {
     "name": "stdout",
     "output_type": "stream",
     "text": [
      "Number of components explaining 99% variance: 3\n"
     ]
    }
   ],
   "source": [
    "k = np.argmax(var_cumu>99)\n",
    "print(\"Number of components explaining 99% variance:\",k)"
   ]
  },
  {
   "cell_type": "code",
   "execution_count": 63,
   "id": "0bac0d55",
   "metadata": {},
   "outputs": [
    {
     "data": {
      "image/png": "[encoded data removed]",
      "text/plain": [
       "<Figure size 432x288 with 1 Axes>"
      ]
     },
     "metadata": {
      "needs_background": "light"
     },
     "output_type": "display_data"
    }
   ],
   "source": [
    "plt.ylabel('Cumulative Expalined varience')\n",
    "plt.xlabel('Principle components')\n",
    "plt.axvline(x=k, color=\"k\",linestyle=\"--\")\n",
    "plt.axhline(y=9, color=\"r\",linestyle=\"--\")\n",
    "\n",
    "plt.plot(var_cumu)\n",
    "plt.show()"
   ]
  },
  {
   "cell_type": "markdown",
   "id": "05245af8",
   "metadata": {},
   "source": [
    "* Here the y label define the cumulative explained varience and x label defined the principal components\n"
   ]
  },
  {
   "cell_type": "markdown",
   "id": "079ceb2e",
   "metadata": {},
   "source": [
    "# Checking Skewness"
   ]
  },
  {
   "cell_type": "code",
   "execution_count": 64,
   "id": "6ce71cff",
   "metadata": {},
   "outputs": [
    {
     "data": {
      "text/plain": [
       "Unnamed: 0    0.000000\n",
       "TV           -0.069853\n",
       "newspaper     0.894720\n",
       "sales         0.407571\n",
       "dtype: float64"
      ]
     },
     "execution_count": 64,
     "metadata": {},
     "output_type": "execute_result"
    }
   ],
   "source": [
    "df.skew()"
   ]
  },
  {
   "cell_type": "markdown",
   "id": "cd3c0d3b",
   "metadata": {},
   "source": [
    "# Regression ,Methods"
   ]
  },
  {
   "cell_type": "code",
   "execution_count": 65,
   "id": "d3643173",
   "metadata": {},
   "outputs": [],
   "source": [
    "from sklearn.model_selection import train_test_split\n",
    "from sklearn.metrics import accuracy_score"
   ]
  },
  {
   "cell_type": "code",
   "execution_count": 66,
   "id": "540488f4",
   "metadata": {},
   "outputs": [],
   "source": [
    "x = df.drop(['TV'],axis=1)\n",
    "y = df[\"sales\"]"
   ]
  },
  {
   "cell_type": "code",
   "execution_count": 67,
   "id": "4020e8bc",
   "metadata": {},
   "outputs": [
    {
     "name": "stdout",
     "output_type": "stream",
     "text": [
      "0.26713973190754753\n",
      "0.26657195287690344\n",
      "0.34089898974934096\n",
      "0.5361196157801377\n",
      "0.27386127875258304\n",
      "0.14822178304721914\n",
      "0.21213203435596412\n",
      "0.2815003094890381\n",
      "0.2755160447398498\n",
      "0.20225995873897262\n",
      "0.32821833088246705\n",
      "0.2645751311064591\n",
      "0.40694724548282735\n",
      "0.28630350499024115\n",
      "0.5424411712272807\n",
      "0.27108088919148926\n",
      "0.2763397118831029\n",
      "0.6221906557649448\n",
      "0.5691567393428578\n",
      "0.8857457053497095\n",
      "0.5317210478505366\n",
      "0.3969581307590987\n",
      "0.1600189382731325\n",
      "0.6851233023288139\n",
      "0.3138229572304239\n",
      "0.2787961131853758\n",
      "0.24058010698889443\n",
      "0.2836451047604125\n",
      "0.37193189340702343\n",
      "0.27688746209726933\n",
      "0.5815340215170719\n",
      "0.23419753382237998\n",
      "0.26883587422947713\n",
      "0.3533390508399618\n",
      "1.5722980672001134\n",
      "0.2899843255952106\n",
      "1.110691840087233\n",
      "0.2912876325017677\n",
      "0.2486326242032243\n",
      "0.3672172175272898\n",
      "0.3174233383946047\n",
      "0.33439225741362755\n",
      "0.2354878881270659\n",
      "0.3242707435947856\n",
      "0.20338052110179194\n",
      "0.25405797477240244\n",
      "0.13706888336846848\n",
      "0.9488429956020281\n",
      "0.7295702346400428\n",
      "0.37132033054868957\n",
      "0.18909673650694178\n",
      "0.36118491864216223\n",
      "0.2815003094890381\n",
      "0.8329393007824031\n",
      "0.26657195287690416\n",
      "0.5197610173450058\n",
      "0.2668559933974149\n",
      "0.25135993750360897\n",
      "0.3665977896741055\n",
      "0.1992409839791244\n",
      "0.251359937503609\n",
      "0.3247376563543955\n",
      "0.516104288263173\n",
      "0.1325735930559236\n",
      "0.334392257413628\n",
      "0.37294893630483655\n",
      "0.896880114281691\n",
      "0.3643175438093434\n",
      "0.30301515113634453\n",
      "0.4150574987549643\n",
      "0.2863035049902409\n",
      "0.4701708264669408\n",
      "0.2779797245712846\n",
      "0.39999999999999997\n",
      "0.2933608802492352\n",
      "0.2705213821157548\n",
      "0.27163924382879356\n",
      "0.28015147417932423\n",
      "0.3361997962972361\n",
      "0.29076701075853606\n",
      "0.2959320151246864\n",
      "0.30871188882683204\n",
      "0.3167065365650514\n",
      "0.3226312277057339\n",
      "0.3015113445777636\n",
      "0.33507122716331117\n",
      "0.6258327785172862\n",
      "0.3395629990193725\n",
      "0.2774341308665842\n",
      "0.26657195287690355\n",
      "0.1642245321798693\n",
      "0.3665977896741055\n",
      "0.2897229606700063\n",
      "0.21105794120443466\n",
      "0.6084007849695093\n",
      "0.273584511346101\n",
      "0.23419753382238004\n",
      "0.2844452335847638\n",
      "0.3539816807449651\n",
      "0.3254367694485227\n",
      "0.19809700715160813\n",
      "0.34156502553198675\n",
      "0.21320071635561025\n",
      "0.2831104292524653\n",
      "0.5624621199366552\n",
      "0.2534608929251696\n",
      "0.3771905715586316\n",
      "0.32683050931359203\n",
      "0.29464925219348814\n",
      "0.6690110294873751\n",
      "0.34509550720186033\n",
      "0.35717748749852307\n",
      "0.2599533757729596\n",
      "0.23126791494897966\n",
      "0.3981015554916217\n",
      "0.2817693017238382\n",
      "0.24308621740219885\n",
      "0.3747726583604326\n",
      "0.30125998034517615\n",
      "0.384155902695452\n",
      "0.18869568253158467\n",
      "0.3751767260339797\n",
      "0.45990776413880147\n",
      "0.360975110365009\n",
      "0.3155082479832413\n",
      "0.40113475405291305\n",
      "0.19540168418367895\n",
      "0.2982270845168056\n",
      "0.27852424952911664\n",
      "0.5889127115440639\n",
      "0.2570225788926064\n",
      "0.387689347678048\n",
      "0.3109126351029605\n",
      "0.30050462609256157\n",
      "0.30000000000000016\n",
      "0.3181385251932262\n",
      "0.6661740604285632\n",
      "0.3190896140869861\n",
      "0.7561866051565459\n",
      "0.4492417854765759\n",
      "0.3526952500303049\n",
      "0.19540168418367856\n",
      "0.36431754380934345\n",
      "0.2608261931445977\n",
      "0.4439833466710346\n",
      "0.3755803589920618\n",
      "0.21915816897917142\n",
      "0.5967081414398552\n",
      "0.35611540519638046\n",
      "0.20113315354397793\n",
      "0.34200832880164916\n",
      "0.2812310599683276\n",
      "0.12309149097933306\n",
      "0.3263665906846953\n",
      "0.5178627406773132\n",
      "0.47593607923244413\n",
      "0.83403001181376\n",
      "0.6365151334819269\n",
      "0.406201920231798\n",
      "0.2315952582337633\n",
      "0.22292817160908485\n",
      "0.3827729764692794\n",
      "0.19847906537954943\n",
      "0.2315952582337636\n",
      "0.59045437049476\n",
      "0.5513069870221071\n",
      "0.34793764679983413\n",
      "0.3904154741096241\n",
      "0.31646724183004354\n",
      "0.6100173867368143\n",
      "0.2412090756622109\n",
      "0.31261361570998913\n",
      "0.31766191290283935\n",
      "0.32192602199319614\n",
      "0.5744562646538031\n",
      "0.3092022972198956\n",
      "0.2522624895547564\n",
      "0.37029881463652026\n",
      "0.2774341308665841\n",
      "0.4858606858561475\n",
      "0.2793390467340772\n",
      "0.3781934730138836\n",
      "0.40601537513804203\n",
      "0.32286595398465956\n",
      "0.6190168157504431\n",
      "0.597722951937373\n",
      "0.2801514741793241\n",
      "0.471458086443246\n",
      "0.25346089292516955\n",
      "0.40713336360162866\n",
      "0.27496556258204513\n",
      "0.2749655625820452\n",
      "0.5474458600601247\n",
      "0.2847114435013211\n",
      "0.34684727230155676\n",
      "0.3611849186421623\n",
      "0.3118857599710627\n",
      "0.2651471861118468\n",
      "0.22962419891481997\n",
      "0.27716093126229363\n"
     ]
    }
   ],
   "source": [
    "from sklearn.metrics import mean_squared_error\n",
    "for i in range(200):\n",
    "    x_train, x_test, y_train, y_test = train_test_split(x, y, test_size=0.33, random_state=i)\n",
    "    from sklearn.tree import DecisionTreeRegressor\n",
    "    lm=DecisionTreeRegressor()\n",
    "    lm.fit(x_train,y_train)\n",
    "    y_pred=lm.predict(x_test)\n",
    "    mse=mean_squared_error(y_test,y_pred)\n",
    "    rmse = np.sqrt(mse)\n",
    "    print(rmse)"
   ]
  },
  {
   "cell_type": "code",
   "execution_count": 68,
   "id": "de2c30e8",
   "metadata": {},
   "outputs": [],
   "source": [
    "from sklearn.tree import DecisionTreeRegressor\n",
    "regressor = DecisionTreeRegressor()\n",
    "regressor.fit(x_train,y_train)\n",
    "y_pred_regressor = regressor.predict(x_test)"
   ]
  },
  {
   "cell_type": "code",
   "execution_count": 69,
   "id": "ea0e5535",
   "metadata": {},
   "outputs": [],
   "source": [
    "y_pred = regressor.predict(x_test)"
   ]
  },
  {
   "cell_type": "code",
   "execution_count": 70,
   "id": "0f70623d",
   "metadata": {},
   "outputs": [
    {
     "data": {
      "text/plain": [
       "array([17.3, 14.8, 13.3, 10.1, 12.8, 22.6, 18.5,  9.5, 10.1, 16.6, 11.4,\n",
       "        9.4, 19.6, 11.5, 12.2, 12.4, 15.2, 19. ,  9.7, 14.1, 12.6,  3.2,\n",
       "       21.7, 11.8, 11.9, 25.5,  9.7, 11.7, 10.4, 13.6, 20.8,  7.6, 14.7,\n",
       "       17.6,  5.3,  9.7,  9.7, 16.6,  5.5, 10.8, 20.2, 10.5, 14.8, 10.9,\n",
       "       14.1,  9.4, 11.7,  6.6,  6.9, 17.4, 12.6, 14.9, 24.2, 20.2, 10.5,\n",
       "       10.5,  8. , 15.5, 14.8, 21.7, 24.2, 21.7, 18.5,  7.3, 12.9, 15.2])"
      ]
     },
     "execution_count": 70,
     "metadata": {},
     "output_type": "execute_result"
    }
   ],
   "source": [
    "y_pred"
   ]
  },
  {
   "cell_type": "code",
   "execution_count": 71,
   "id": "2bb3d9e2",
   "metadata": {},
   "outputs": [
    {
     "data": {
      "text/plain": [
       "100.0"
      ]
     },
     "execution_count": 71,
     "metadata": {},
     "output_type": "execute_result"
    }
   ],
   "source": [
    "dt_accuracy = round(regressor.score(x_train,y_train)*100,2)\n",
    "dt_accuracy"
   ]
  },
  {
   "cell_type": "markdown",
   "id": "75397d86",
   "metadata": {},
   "source": [
    "* The test accuracy of decisiontreeregressor is 100"
   ]
  },
  {
   "cell_type": "code",
   "execution_count": 72,
   "id": "9324647c",
   "metadata": {},
   "outputs": [
    {
     "data": {
      "text/plain": [
       "LinearRegression()"
      ]
     },
     "execution_count": 72,
     "metadata": {},
     "output_type": "execute_result"
    }
   ],
   "source": [
    "from sklearn.linear_model import LinearRegression\n",
    "regressor = LinearRegression()\n",
    "regressor.fit(x_train,y_train)"
   ]
  },
  {
   "cell_type": "code",
   "execution_count": 73,
   "id": "bddec7b3",
   "metadata": {},
   "outputs": [
    {
     "data": {
      "text/plain": [
       "array([17.3, 14.9, 13.2, 10.1, 12.9, 22.6, 18.3,  9.5, 10.1, 16.7, 11.4,\n",
       "        9.3, 19.6, 11.5, 12.2, 12.5, 15.2, 19. ,  9.7, 14. , 12.7,  1.6,\n",
       "       21.4, 11.8, 11.9, 27. ,  9.7, 11.7, 10.4, 13.4, 21.2,  7.6, 14.6,\n",
       "       17.2,  5.3,  9.7,  9.9, 16.6,  5.9, 10.7, 20.1, 10.6, 14.8, 10.9,\n",
       "       14.2,  9.3, 11.7,  6.7,  7. , 17.4, 12.6, 15. , 24.7, 20.2, 10.6,\n",
       "       10.6,  8.1, 15.5, 15. , 21.5, 23.8, 21.8, 18.4,  7.3, 12.9, 15.3])"
      ]
     },
     "execution_count": 73,
     "metadata": {},
     "output_type": "execute_result"
    }
   ],
   "source": [
    "y_pred = regressor.predict(x_test)\n",
    "y_pred"
   ]
  },
  {
   "cell_type": "code",
   "execution_count": 74,
   "id": "3cd10c8a",
   "metadata": {},
   "outputs": [
    {
     "data": {
      "text/plain": [
       "100.0"
      ]
     },
     "execution_count": 74,
     "metadata": {},
     "output_type": "execute_result"
    }
   ],
   "source": [
    "lr_accuracy = round(regressor.score(x_train,y_train)*100,2)\n",
    "lr_accuracy"
   ]
  },
  {
   "cell_type": "markdown",
   "id": "5a29774e",
   "metadata": {},
   "source": [
    "* The test accuracy of logisticregressor is 100\n"
   ]
  },
  {
   "cell_type": "code",
   "execution_count": 75,
   "id": "291e234b",
   "metadata": {},
   "outputs": [],
   "source": [
    "from sklearn.ensemble import RandomForestRegressor\n",
    "regressor = RandomForestRegressor()\n",
    "regressor.fit(x_train,y_train)\n",
    "y_pred = regressor.predict(x_test)"
   ]
  },
  {
   "cell_type": "code",
   "execution_count": 76,
   "id": "d7661436",
   "metadata": {},
   "outputs": [
    {
     "data": {
      "text/plain": [
       "array([17.294, 14.817, 13.265, 10.183, 12.848, 22.38 , 18.261,  9.498,\n",
       "       10.18 , 16.735, 11.4  ,  9.434, 19.594, 11.486, 12.233, 12.439,\n",
       "       15.171, 19.105,  9.621, 13.943, 12.682,  4.12 , 21.306, 11.808,\n",
       "       11.916, 25.689,  9.644, 11.675, 10.335, 13.361, 20.817,  7.521,\n",
       "       14.641, 17.229,  5.475,  9.673,  9.721, 16.731,  5.173, 10.805,\n",
       "       20.075, 10.531, 14.782, 10.86 , 14.269,  9.354, 11.652,  6.504,\n",
       "        6.93 , 17.392, 12.556, 14.844, 24.533, 20.131, 10.535, 10.515,\n",
       "        8.119, 15.539, 14.892, 21.853, 23.876, 21.972, 18.262,  7.223,\n",
       "       12.863, 15.34 ])"
      ]
     },
     "execution_count": 76,
     "metadata": {},
     "output_type": "execute_result"
    }
   ],
   "source": [
    "y_pred = regressor.predict(x_test)\n",
    "y_pred"
   ]
  },
  {
   "cell_type": "code",
   "execution_count": 77,
   "id": "ba019d47",
   "metadata": {},
   "outputs": [
    {
     "data": {
      "text/plain": [
       "99.97"
      ]
     },
     "execution_count": 77,
     "metadata": {},
     "output_type": "execute_result"
    }
   ],
   "source": [
    "rf_accuracy = round(regressor.score(x_train,y_train)*100,2)\n",
    "rf_accuracy"
   ]
  },
  {
   "cell_type": "markdown",
   "id": "5be386cf",
   "metadata": {},
   "source": [
    "* The test accuracy of randomforestregressor is 99.97\n"
   ]
  },
  {
   "cell_type": "markdown",
   "id": "9379ea09",
   "metadata": {},
   "source": [
    "# Cross Validation Method"
   ]
  },
  {
   "cell_type": "code",
   "execution_count": 78,
   "id": "192ae013",
   "metadata": {},
   "outputs": [],
   "source": [
    "from sklearn.model_selection import cross_val_score"
   ]
  },
  {
   "cell_type": "code",
   "execution_count": 79,
   "id": "91f8be60",
   "metadata": {},
   "outputs": [
    {
     "name": "stdout",
     "output_type": "stream",
     "text": [
      "0.9955048279760185\n"
     ]
    }
   ],
   "source": [
    "print(cross_val_score(regressor,x,y,cv=5).mean())"
   ]
  },
  {
   "cell_type": "markdown",
   "id": "8c4a324e",
   "metadata": {},
   "source": [
    "# Hyperparameter Tunning"
   ]
  },
  {
   "cell_type": "code",
   "execution_count": 80,
   "id": "eeaf6764",
   "metadata": {},
   "outputs": [],
   "source": [
    "from sklearn.model_selection import GridSearchCV"
   ]
  },
  {
   "cell_type": "code",
   "execution_count": 81,
   "id": "65b24ee0",
   "metadata": {},
   "outputs": [],
   "source": [
    "parameter = {\"max_depth\":[1,3,5,7,9,11,12],\n",
    "             'criterion':['mse','friedman_mse']}"
   ]
  },
  {
   "cell_type": "code",
   "execution_count": 82,
   "id": "4145dc3e",
   "metadata": {},
   "outputs": [],
   "source": [
    "GCV = GridSearchCV(DecisionTreeRegressor(),parameter,cv=5)"
   ]
  },
  {
   "cell_type": "code",
   "execution_count": 83,
   "id": "ae707282",
   "metadata": {},
   "outputs": [
    {
     "data": {
      "text/plain": [
       "GridSearchCV(cv=5, estimator=DecisionTreeRegressor(),\n",
       "             param_grid={'criterion': ['mse', 'friedman_mse'],\n",
       "                         'max_depth': [1, 3, 5, 7, 9, 11, 12]})"
      ]
     },
     "execution_count": 83,
     "metadata": {},
     "output_type": "execute_result"
    }
   ],
   "source": [
    "GCV.fit(x_train,y_train)"
   ]
  },
  {
   "cell_type": "code",
   "execution_count": 84,
   "id": "0b540775",
   "metadata": {},
   "outputs": [
    {
     "data": {
      "text/plain": [
       "{'criterion': 'mse', 'max_depth': 12}"
      ]
     },
     "execution_count": 84,
     "metadata": {},
     "output_type": "execute_result"
    }
   ],
   "source": [
    "GCV.best_params_"
   ]
  },
  {
   "cell_type": "markdown",
   "id": "fb82044a",
   "metadata": {},
   "source": [
    "# Evaluate The Model"
   ]
  },
  {
   "cell_type": "code",
   "execution_count": 85,
   "id": "71834915",
   "metadata": {},
   "outputs": [
    {
     "name": "stdout",
     "output_type": "stream",
     "text": [
      "99.4508468462677\n"
     ]
    }
   ],
   "source": [
    "Final_mod = DecisionTreeRegressor()\n",
    "Final_mod.fit(x_train,y_train)\n",
    "pred = Final_mod.predict(x_test)\n",
    "print((regressor.score(x_test,y_test)*100))"
   ]
  },
  {
   "cell_type": "markdown",
   "id": "b45d20d2",
   "metadata": {},
   "source": [
    "# Saving The Model"
   ]
  },
  {
   "cell_type": "code",
   "execution_count": 86,
   "id": "c319626b",
   "metadata": {},
   "outputs": [
    {
     "data": {
      "text/plain": [
       "['FinalModle.pkl']"
      ]
     },
     "execution_count": 86,
     "metadata": {},
     "output_type": "execute_result"
    }
   ],
   "source": [
    "import joblib\n",
    "joblib.dump(Final_mod,\"FinalModle.pkl\")"
   ]
  },
  {
   "cell_type": "markdown",
   "id": "e9231a58",
   "metadata": {},
   "source": [
    "# Prediction Method"
   ]
  },
  {
   "cell_type": "code",
   "execution_count": 87,
   "id": "80172ee6",
   "metadata": {},
   "outputs": [
    {
     "name": "stdout",
     "output_type": "stream",
     "text": [
      "[17.294 14.817 13.265 10.183 12.848 22.38  18.261  9.498 10.18  16.735\n",
      " 11.4    9.434 19.594 11.486 12.233 12.439 15.171 19.105  9.621 13.943\n",
      " 12.682  4.12  21.306 11.808 11.916 25.689  9.644 11.675 10.335 13.361\n",
      " 20.817  7.521 14.641 17.229  5.475  9.673]\n",
      "[17.3 14.9 13.2 10.1 12.9 22.6 18.3  9.5 10.1 16.7 11.4  9.3 19.6 11.5\n",
      " 12.2 12.5 15.2 19.   9.7 14.  12.7  1.6 21.4 11.8 11.9 27.   9.7 11.7\n",
      " 10.4 13.4 21.2  7.6 14.6 17.2  5.3  9.7]\n"
     ]
    }
   ],
   "source": [
    "preds = regressor.predict(x_test)\n",
    "print(preds[:36])\n",
    "print(y_test[:36].values)"
   ]
  },
  {
   "cell_type": "markdown",
   "id": "cdea40f7",
   "metadata": {},
   "source": [
    "* The train and test data is balanced most regressor methods hit the 99% accuracy with the datset.\n"
   ]
  },
  {
   "cell_type": "code",
   "execution_count": null,
   "id": "8665ed9c",
   "metadata": {},
   "outputs": [],
   "source": []
  }
 ],
 "metadata": {
  "kernelspec": {
   "display_name": "Python 3",
   "language": "python",
   "name": "python3"
  },
  "language_info": {
   "codemirror_mode": {
    "name": "ipython",
    "version": 3
   },
   "file_extension": ".py",
   "mimetype": "text/x-python",
   "name": "python",
   "nbconvert_exporter": "python",
   "pygments_lexer": "ipython3",
   "version": "3.8.8"
  }
 },
 "nbformat": 4,
 "nbformat_minor": 5
}
