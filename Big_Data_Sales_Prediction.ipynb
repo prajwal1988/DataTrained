{
 "cells": [
  {
   "cell_type": "markdown",
   "id": "10e5d07c",
   "metadata": {},
   "source": [
    "# Big Data Mart Sales Problems"
   ]
  },
  {
   "cell_type": "code",
   "execution_count": 1,
   "id": "1133813b",
   "metadata": {},
   "outputs": [],
   "source": [
    "#importing the libraries\n",
    "import pandas as pd\n",
    "import numpy as np\n",
    "import matplotlib.pyplot as plt\n",
    "%matplotlib inline\n",
    "import seaborn as sns\n",
    "import warnings \n",
    "warnings.filterwarnings('ignore') "
   ]
  },
  {
   "cell_type": "markdown",
   "id": "a57f12d7",
   "metadata": {},
   "source": [
    "# Examining the Data"
   ]
  },
  {
   "cell_type": "code",
   "execution_count": 2,
   "id": "2a0fa9cf",
   "metadata": {},
   "outputs": [],
   "source": [
    "#importing train csv file\n",
    "\n",
    "data_train=pd.read_csv(\"bigdatamart_Train.csv\")\n",
    "\n",
    "#importing test csv file\n",
    "\n",
    "data_test=pd.read_csv(\"bigdatamart_Test.csv\")\n"
   ]
  },
  {
   "cell_type": "code",
   "execution_count": 3,
   "id": "642460bf",
   "metadata": {},
   "outputs": [
    {
     "data": {
      "text/html": [
       "<div>\n",
       "<style scoped>\n",
       "    .dataframe tbody tr th:only-of-type {\n",
       "        vertical-align: middle;\n",
       "    }\n",
       "\n",
       "    .dataframe tbody tr th {\n",
       "        vertical-align: top;\n",
       "    }\n",
       "\n",
       "    .dataframe thead th {\n",
       "        text-align: right;\n",
       "    }\n",
       "</style>\n",
       "<table border=\"1\" class=\"dataframe\">\n",
       "  <thead>\n",
       "    <tr style=\"text-align: right;\">\n",
       "      <th></th>\n",
       "      <th>Item_Identifier</th>\n",
       "      <th>Item_Weight</th>\n",
       "      <th>Item_Fat_Content</th>\n",
       "      <th>Item_Visibility</th>\n",
       "      <th>Item_Type</th>\n",
       "      <th>Item_MRP</th>\n",
       "      <th>Outlet_Identifier</th>\n",
       "      <th>Outlet_Establishment_Year</th>\n",
       "      <th>Outlet_Size</th>\n",
       "      <th>Outlet_Location_Type</th>\n",
       "      <th>Outlet_Type</th>\n",
       "      <th>Item_Outlet_Sales</th>\n",
       "    </tr>\n",
       "  </thead>\n",
       "  <tbody>\n",
       "    <tr>\n",
       "      <th>0</th>\n",
       "      <td>FDA15</td>\n",
       "      <td>9.30</td>\n",
       "      <td>Low Fat</td>\n",
       "      <td>0.016047</td>\n",
       "      <td>Dairy</td>\n",
       "      <td>249.8092</td>\n",
       "      <td>OUT049</td>\n",
       "      <td>1999</td>\n",
       "      <td>Medium</td>\n",
       "      <td>Tier 1</td>\n",
       "      <td>Supermarket Type1</td>\n",
       "      <td>3735.1380</td>\n",
       "    </tr>\n",
       "    <tr>\n",
       "      <th>1</th>\n",
       "      <td>DRC01</td>\n",
       "      <td>5.92</td>\n",
       "      <td>Regular</td>\n",
       "      <td>0.019278</td>\n",
       "      <td>Soft Drinks</td>\n",
       "      <td>48.2692</td>\n",
       "      <td>OUT018</td>\n",
       "      <td>2009</td>\n",
       "      <td>Medium</td>\n",
       "      <td>Tier 3</td>\n",
       "      <td>Supermarket Type2</td>\n",
       "      <td>443.4228</td>\n",
       "    </tr>\n",
       "    <tr>\n",
       "      <th>2</th>\n",
       "      <td>FDN15</td>\n",
       "      <td>17.50</td>\n",
       "      <td>Low Fat</td>\n",
       "      <td>0.016760</td>\n",
       "      <td>Meat</td>\n",
       "      <td>141.6180</td>\n",
       "      <td>OUT049</td>\n",
       "      <td>1999</td>\n",
       "      <td>Medium</td>\n",
       "      <td>Tier 1</td>\n",
       "      <td>Supermarket Type1</td>\n",
       "      <td>2097.2700</td>\n",
       "    </tr>\n",
       "    <tr>\n",
       "      <th>3</th>\n",
       "      <td>FDX07</td>\n",
       "      <td>19.20</td>\n",
       "      <td>Regular</td>\n",
       "      <td>0.000000</td>\n",
       "      <td>Fruits and Vegetables</td>\n",
       "      <td>182.0950</td>\n",
       "      <td>OUT010</td>\n",
       "      <td>1998</td>\n",
       "      <td>NaN</td>\n",
       "      <td>Tier 3</td>\n",
       "      <td>Grocery Store</td>\n",
       "      <td>732.3800</td>\n",
       "    </tr>\n",
       "    <tr>\n",
       "      <th>4</th>\n",
       "      <td>NCD19</td>\n",
       "      <td>8.93</td>\n",
       "      <td>Low Fat</td>\n",
       "      <td>0.000000</td>\n",
       "      <td>Household</td>\n",
       "      <td>53.8614</td>\n",
       "      <td>OUT013</td>\n",
       "      <td>1987</td>\n",
       "      <td>High</td>\n",
       "      <td>Tier 3</td>\n",
       "      <td>Supermarket Type1</td>\n",
       "      <td>994.7052</td>\n",
       "    </tr>\n",
       "  </tbody>\n",
       "</table>\n",
       "</div>"
      ],
      "text/plain": [
       "  Item_Identifier  Item_Weight Item_Fat_Content  Item_Visibility  \\\n",
       "0           FDA15         9.30          Low Fat         0.016047   \n",
       "1           DRC01         5.92          Regular         0.019278   \n",
       "2           FDN15        17.50          Low Fat         0.016760   \n",
       "3           FDX07        19.20          Regular         0.000000   \n",
       "4           NCD19         8.93          Low Fat         0.000000   \n",
       "\n",
       "               Item_Type  Item_MRP Outlet_Identifier  \\\n",
       "0                  Dairy  249.8092            OUT049   \n",
       "1            Soft Drinks   48.2692            OUT018   \n",
       "2                   Meat  141.6180            OUT049   \n",
       "3  Fruits and Vegetables  182.0950            OUT010   \n",
       "4              Household   53.8614            OUT013   \n",
       "\n",
       "   Outlet_Establishment_Year Outlet_Size Outlet_Location_Type  \\\n",
       "0                       1999      Medium               Tier 1   \n",
       "1                       2009      Medium               Tier 3   \n",
       "2                       1999      Medium               Tier 1   \n",
       "3                       1998         NaN               Tier 3   \n",
       "4                       1987        High               Tier 3   \n",
       "\n",
       "         Outlet_Type  Item_Outlet_Sales  \n",
       "0  Supermarket Type1          3735.1380  \n",
       "1  Supermarket Type2           443.4228  \n",
       "2  Supermarket Type1          2097.2700  \n",
       "3      Grocery Store           732.3800  \n",
       "4  Supermarket Type1           994.7052  "
      ]
     },
     "execution_count": 3,
     "metadata": {},
     "output_type": "execute_result"
    }
   ],
   "source": [
    "data_train.head()"
   ]
  },
  {
   "cell_type": "code",
   "execution_count": 4,
   "id": "f9ab4193",
   "metadata": {},
   "outputs": [
    {
     "name": "stdout",
     "output_type": "stream",
     "text": [
      "(8523, 12)\n"
     ]
    }
   ],
   "source": [
    "#checking for the shape of the data\n",
    "\n",
    "print(data_train.shape)"
   ]
  },
  {
   "cell_type": "code",
   "execution_count": 5,
   "id": "eae36711",
   "metadata": {},
   "outputs": [
    {
     "data": {
      "text/plain": [
       "Item_Identifier                 0\n",
       "Item_Weight                  1463\n",
       "Item_Fat_Content                0\n",
       "Item_Visibility                 0\n",
       "Item_Type                       0\n",
       "Item_MRP                        0\n",
       "Outlet_Identifier               0\n",
       "Outlet_Establishment_Year       0\n",
       "Outlet_Size                  2410\n",
       "Outlet_Location_Type            0\n",
       "Outlet_Type                     0\n",
       "Item_Outlet_Sales               0\n",
       "dtype: int64"
      ]
     },
     "execution_count": 5,
     "metadata": {},
     "output_type": "execute_result"
    }
   ],
   "source": [
    "#checking for null values isnull method\n",
    "\n",
    "data_train.isnull().sum() "
   ]
  },
  {
   "cell_type": "code",
   "execution_count": 6,
   "id": "143cae8a",
   "metadata": {},
   "outputs": [
    {
     "data": {
      "text/plain": [
       "<AxesSubplot:xlabel='Item_Weight', ylabel='Density'>"
      ]
     },
     "execution_count": 6,
     "metadata": {},
     "output_type": "execute_result"
    },
    {
     "data": {
      "image/png": "[encoded data removed]",
      "text/plain": [
       "<Figure size 432x288 with 1 Axes>"
      ]
     },
     "metadata": {
      "needs_background": "light"
     },
     "output_type": "display_data"
    }
   ],
   "source": [
    "#checking for distplot to fill the nan values\n",
    "\n",
    "sns.distplot(data_train['Item_Weight']) "
   ]
  },
  {
   "cell_type": "markdown",
   "id": "e1dd66dc",
   "metadata": {},
   "source": [
    "* seems to be like normal distribution so by using mean method we fill the values\n",
    "\n"
   ]
  },
  {
   "cell_type": "code",
   "execution_count": 7,
   "id": "633e4665",
   "metadata": {},
   "outputs": [],
   "source": [
    "#filling the missing colimns using mean method\n",
    "\n",
    "data_train['Item_Weight']=data_train['Item_Weight'].fillna(data_train['Item_Weight'].mean())"
   ]
  },
  {
   "cell_type": "code",
   "execution_count": 8,
   "id": "ed0ce7bd",
   "metadata": {},
   "outputs": [],
   "source": [
    "# filling the missing columns using mode method\n",
    "\n",
    "data_train['Outlet_Size']=data_train['Outlet_Size'].fillna(data_train['Outlet_Size'].mode()[0])"
   ]
  },
  {
   "cell_type": "code",
   "execution_count": 9,
   "id": "96dbfc9e",
   "metadata": {},
   "outputs": [
    {
     "data": {
      "text/plain": [
       "Item_Identifier              0\n",
       "Item_Weight                  0\n",
       "Item_Fat_Content             0\n",
       "Item_Visibility              0\n",
       "Item_Type                    0\n",
       "Item_MRP                     0\n",
       "Outlet_Identifier            0\n",
       "Outlet_Establishment_Year    0\n",
       "Outlet_Size                  0\n",
       "Outlet_Location_Type         0\n",
       "Outlet_Type                  0\n",
       "Item_Outlet_Sales            0\n",
       "dtype: int64"
      ]
     },
     "execution_count": 9,
     "metadata": {},
     "output_type": "execute_result"
    }
   ],
   "source": [
    "# again checking for the isnull method for train data\n",
    "\n",
    "data_train.isnull().sum()"
   ]
  },
  {
   "cell_type": "code",
   "execution_count": 10,
   "id": "ade96e68",
   "metadata": {},
   "outputs": [
    {
     "name": "stdout",
     "output_type": "stream",
     "text": [
      "<class 'pandas.core.frame.DataFrame'>\n",
      "RangeIndex: 8523 entries, 0 to 8522\n",
      "Data columns (total 12 columns):\n",
      " #   Column                     Non-Null Count  Dtype  \n",
      "---  ------                     --------------  -----  \n",
      " 0   Item_Identifier            8523 non-null   object \n",
      " 1   Item_Weight                8523 non-null   float64\n",
      " 2   Item_Fat_Content           8523 non-null   object \n",
      " 3   Item_Visibility            8523 non-null   float64\n",
      " 4   Item_Type                  8523 non-null   object \n",
      " 5   Item_MRP                   8523 non-null   float64\n",
      " 6   Outlet_Identifier          8523 non-null   object \n",
      " 7   Outlet_Establishment_Year  8523 non-null   int64  \n",
      " 8   Outlet_Size                8523 non-null   object \n",
      " 9   Outlet_Location_Type       8523 non-null   object \n",
      " 10  Outlet_Type                8523 non-null   object \n",
      " 11  Item_Outlet_Sales          8523 non-null   float64\n",
      "dtypes: float64(4), int64(1), object(7)\n",
      "memory usage: 799.2+ KB\n"
     ]
    }
   ],
   "source": [
    "# checking for info\n",
    "\n",
    "data_train.info()"
   ]
  },
  {
   "cell_type": "markdown",
   "id": "a36d2108",
   "metadata": {},
   "source": [
    "* The data types from info method seems to be correct for all the columns in the dataset\n"
   ]
  },
  {
   "cell_type": "code",
   "execution_count": 11,
   "id": "0c110b43",
   "metadata": {},
   "outputs": [
    {
     "data": {
      "text/html": [
       "<div>\n",
       "<style scoped>\n",
       "    .dataframe tbody tr th:only-of-type {\n",
       "        vertical-align: middle;\n",
       "    }\n",
       "\n",
       "    .dataframe tbody tr th {\n",
       "        vertical-align: top;\n",
       "    }\n",
       "\n",
       "    .dataframe thead th {\n",
       "        text-align: right;\n",
       "    }\n",
       "</style>\n",
       "<table border=\"1\" class=\"dataframe\">\n",
       "  <thead>\n",
       "    <tr style=\"text-align: right;\">\n",
       "      <th></th>\n",
       "      <th>Item_Weight</th>\n",
       "      <th>Item_Visibility</th>\n",
       "      <th>Item_MRP</th>\n",
       "      <th>Outlet_Establishment_Year</th>\n",
       "      <th>Item_Outlet_Sales</th>\n",
       "    </tr>\n",
       "  </thead>\n",
       "  <tbody>\n",
       "    <tr>\n",
       "      <th>count</th>\n",
       "      <td>8523.000000</td>\n",
       "      <td>8523.000000</td>\n",
       "      <td>8523.000000</td>\n",
       "      <td>8523.000000</td>\n",
       "      <td>8523.000000</td>\n",
       "    </tr>\n",
       "    <tr>\n",
       "      <th>mean</th>\n",
       "      <td>12.857645</td>\n",
       "      <td>0.066132</td>\n",
       "      <td>140.992782</td>\n",
       "      <td>1997.831867</td>\n",
       "      <td>2181.288914</td>\n",
       "    </tr>\n",
       "    <tr>\n",
       "      <th>std</th>\n",
       "      <td>4.226124</td>\n",
       "      <td>0.051598</td>\n",
       "      <td>62.275067</td>\n",
       "      <td>8.371760</td>\n",
       "      <td>1706.499616</td>\n",
       "    </tr>\n",
       "    <tr>\n",
       "      <th>min</th>\n",
       "      <td>4.555000</td>\n",
       "      <td>0.000000</td>\n",
       "      <td>31.290000</td>\n",
       "      <td>1985.000000</td>\n",
       "      <td>33.290000</td>\n",
       "    </tr>\n",
       "    <tr>\n",
       "      <th>25%</th>\n",
       "      <td>9.310000</td>\n",
       "      <td>0.026989</td>\n",
       "      <td>93.826500</td>\n",
       "      <td>1987.000000</td>\n",
       "      <td>834.247400</td>\n",
       "    </tr>\n",
       "    <tr>\n",
       "      <th>50%</th>\n",
       "      <td>12.857645</td>\n",
       "      <td>0.053931</td>\n",
       "      <td>143.012800</td>\n",
       "      <td>1999.000000</td>\n",
       "      <td>1794.331000</td>\n",
       "    </tr>\n",
       "    <tr>\n",
       "      <th>75%</th>\n",
       "      <td>16.000000</td>\n",
       "      <td>0.094585</td>\n",
       "      <td>185.643700</td>\n",
       "      <td>2004.000000</td>\n",
       "      <td>3101.296400</td>\n",
       "    </tr>\n",
       "    <tr>\n",
       "      <th>max</th>\n",
       "      <td>21.350000</td>\n",
       "      <td>0.328391</td>\n",
       "      <td>266.888400</td>\n",
       "      <td>2009.000000</td>\n",
       "      <td>13086.964800</td>\n",
       "    </tr>\n",
       "  </tbody>\n",
       "</table>\n",
       "</div>"
      ],
      "text/plain": [
       "       Item_Weight  Item_Visibility     Item_MRP  Outlet_Establishment_Year  \\\n",
       "count  8523.000000      8523.000000  8523.000000                8523.000000   \n",
       "mean     12.857645         0.066132   140.992782                1997.831867   \n",
       "std       4.226124         0.051598    62.275067                   8.371760   \n",
       "min       4.555000         0.000000    31.290000                1985.000000   \n",
       "25%       9.310000         0.026989    93.826500                1987.000000   \n",
       "50%      12.857645         0.053931   143.012800                1999.000000   \n",
       "75%      16.000000         0.094585   185.643700                2004.000000   \n",
       "max      21.350000         0.328391   266.888400                2009.000000   \n",
       "\n",
       "       Item_Outlet_Sales  \n",
       "count        8523.000000  \n",
       "mean         2181.288914  \n",
       "std          1706.499616  \n",
       "min            33.290000  \n",
       "25%           834.247400  \n",
       "50%          1794.331000  \n",
       "75%          3101.296400  \n",
       "max         13086.964800  "
      ]
     },
     "execution_count": 11,
     "metadata": {},
     "output_type": "execute_result"
    }
   ],
   "source": [
    "# lets check for describe method\n",
    "\n",
    "data_train.describe()"
   ]
  },
  {
   "cell_type": "markdown",
   "id": "e8767438",
   "metadata": {},
   "source": [
    "from the describe method we can know that the average weight of the product is 12,\n",
    "the standard deviation is 4 \n",
    "the data looks normal for the item_weight column,\n",
    "the data for item_visibility also looks decent,\n",
    "for other columns also the data looks normal but in the sales are some up and downs but no need to worry about the sales since that we are going to predict\n"
   ]
  },
  {
   "cell_type": "code",
   "execution_count": 12,
   "id": "4aa50df4",
   "metadata": {},
   "outputs": [
    {
     "data": {
      "text/plain": [
       "Item_Identifier              1559\n",
       "Item_Weight                   416\n",
       "Item_Fat_Content                5\n",
       "Item_Visibility              7880\n",
       "Item_Type                      16\n",
       "Item_MRP                     5938\n",
       "Outlet_Identifier              10\n",
       "Outlet_Establishment_Year       9\n",
       "Outlet_Size                     3\n",
       "Outlet_Location_Type            3\n",
       "Outlet_Type                     4\n",
       "Item_Outlet_Sales            3493\n",
       "dtype: int64"
      ]
     },
     "execution_count": 12,
     "metadata": {},
     "output_type": "execute_result"
    }
   ],
   "source": [
    "#checking unique values in dataset\n",
    "data_train.apply(lambda x: len(x.unique()))"
   ]
  },
  {
   "cell_type": "code",
   "execution_count": 13,
   "id": "111d99ce",
   "metadata": {},
   "outputs": [
    {
     "name": "stdout",
     "output_type": "stream",
     "text": [
      "['Item_Identifier', 'Item_Fat_Content', 'Item_Type', 'Outlet_Identifier', 'Outlet_Size', 'Outlet_Location_Type', 'Outlet_Type']\n"
     ]
    }
   ],
   "source": [
    "#checking for catogorical variables\n",
    "\n",
    "cat_col=[]\n",
    "for x in data_train.dtypes.index:\n",
    "    if data_train.dtypes[x]==\"object\":\n",
    "        cat_col.append(x)\n",
    "        \n",
    "print(cat_col)"
   ]
  },
  {
   "cell_type": "code",
   "execution_count": 14,
   "id": "09605b08",
   "metadata": {},
   "outputs": [
    {
     "data": {
      "image/png": "[encoded data removed]",
      "text/plain": [
       "<Figure size 1440x720 with 2 Axes>"
      ]
     },
     "metadata": {
      "needs_background": "light"
     },
     "output_type": "display_data"
    }
   ],
   "source": [
    "#lets plot the heat map to find the corelation\n",
    "\n",
    "df_corr=data_train.corr().abs()\n",
    "plt.figure(figsize=(20,10))\n",
    "sns.heatmap(df_corr,vmin=-1,vmax=1,annot=True,square=True,center=0,fmt='.1g',linewidth=.2)\n",
    "plt.tight_layout()"
   ]
  },
  {
   "cell_type": "markdown",
   "id": "1389aff6",
   "metadata": {},
   "source": [
    "From heat map we can see that there is no much corelation between one feature with the other feature, but with label the highest corelated columns is item_mrp of 60% where low corleated with item_weight"
   ]
  },
  {
   "cell_type": "markdown",
   "id": "357a5ec7",
   "metadata": {},
   "source": [
    "As per my analysis i feel some of the features are not required for the increase of the sales like item_id, item_visibility(area alloted for the products to be stored) may be there will be little contribution but not more so i want to drop that columns too and store id that is also not required beacause we may get online when we search so lets go ahead and delete all the columns which r mentioned"
   ]
  },
  {
   "cell_type": "code",
   "execution_count": 15,
   "id": "a68d2a1a",
   "metadata": {},
   "outputs": [],
   "source": [
    "# droping the columns\n",
    "\n",
    "data_train=data_train.drop(['Item_Identifier','Item_Visibility','Outlet_Identifier'],axis=1)"
   ]
  },
  {
   "cell_type": "markdown",
   "id": "756a19fd",
   "metadata": {},
   "source": [
    "I feel remaining all the other features will help me in predicting the sales let me explain about the features item_weight some customers they prefer to take products based on the weight because in their family the size of the members may be less or more based on them they count the product on weight,item_fat that also everyone sees beacuse in this the persons health comes into picture may be that patient may be a patient or non patient but they concern about the health so sales also depends on that if it is of low fat they buy the product so for this instead of explaining in this lets plot the graphs for all the features v/s label and lets check"
   ]
  },
  {
   "cell_type": "code",
   "execution_count": 16,
   "id": "1d460f71",
   "metadata": {},
   "outputs": [
    {
     "data": {
      "text/plain": [
       "0       14\n",
       "1        4\n",
       "2       14\n",
       "3       15\n",
       "4       26\n",
       "        ..\n",
       "8518    26\n",
       "8519    11\n",
       "8520     9\n",
       "8521     4\n",
       "8522    16\n",
       "Name: Outlet_Years, Length: 8523, dtype: int64"
      ]
     },
     "execution_count": 16,
     "metadata": {},
     "output_type": "execute_result"
    }
   ],
   "source": [
    "# creating small values for the establishment of the year\n",
    "\n",
    "data_train['Outlet_Years']=2013-data_train['Outlet_Establishment_Year']\n",
    "data_train['Outlet_Years']"
   ]
  },
  {
   "cell_type": "markdown",
   "id": "5111ec2a",
   "metadata": {},
   "source": [
    "We are reducing the year of the establishment to the lesser values using, the data scientists when they have collected the data that year minus the establishment year so that we get good results on the basis of smalling the year"
   ]
  },
  {
   "cell_type": "code",
   "execution_count": 17,
   "id": "9e657269",
   "metadata": {},
   "outputs": [],
   "source": [
    "# droping the outlet _establishment_year beacuse we have got new column\n",
    "\n",
    "data_train.drop(['Outlet_Establishment_Year'],axis=1,inplace=True)\n"
   ]
  },
  {
   "cell_type": "code",
   "execution_count": 18,
   "id": "11ea51b0",
   "metadata": {},
   "outputs": [
    {
     "data": {
      "text/plain": [
       "array([ 4, 14, 10, ...,  8, 13, 14])"
      ]
     },
     "execution_count": 18,
     "metadata": {},
     "output_type": "execute_result"
    }
   ],
   "source": [
    "# converting the string data as continous data using lable encoder\n",
    "\n",
    "from sklearn.preprocessing import LabelEncoder\n",
    "lab_enc=LabelEncoder()\n",
    "item=lab_enc.fit_transform(data_train['Item_Type'])\n",
    "item"
   ]
  },
  {
   "cell_type": "code",
   "execution_count": 19,
   "id": "c0f31f90",
   "metadata": {},
   "outputs": [
    {
     "data": {
      "text/plain": [
       "0        4\n",
       "1       14\n",
       "2       10\n",
       "3        6\n",
       "4        9\n",
       "        ..\n",
       "8518    13\n",
       "8519     0\n",
       "8520     8\n",
       "8521    13\n",
       "8522    14\n",
       "Length: 8523, dtype: int64"
      ]
     },
     "execution_count": 19,
     "metadata": {},
     "output_type": "execute_result"
    }
   ],
   "source": [
    "pd.Series(item)"
   ]
  },
  {
   "cell_type": "code",
   "execution_count": 20,
   "id": "fd8f9635",
   "metadata": {},
   "outputs": [],
   "source": [
    "data_train['Item_Type']=item"
   ]
  },
  {
   "cell_type": "code",
   "execution_count": 21,
   "id": "723fd061",
   "metadata": {},
   "outputs": [
    {
     "data": {
      "text/plain": [
       "array([1, 2, 1, ..., 1, 2, 1])"
      ]
     },
     "execution_count": 21,
     "metadata": {},
     "output_type": "execute_result"
    }
   ],
   "source": [
    "# converting the string data.\n",
    "\n",
    "from sklearn.preprocessing import LabelEncoder\n",
    "lab_enc=LabelEncoder()\n",
    "type=lab_enc.fit_transform(data_train['Outlet_Type'])\n",
    "type"
   ]
  },
  {
   "cell_type": "code",
   "execution_count": 22,
   "id": "bf05bb1d",
   "metadata": {},
   "outputs": [
    {
     "data": {
      "text/plain": [
       "0       1\n",
       "1       2\n",
       "2       1\n",
       "3       0\n",
       "4       1\n",
       "       ..\n",
       "8518    1\n",
       "8519    1\n",
       "8520    1\n",
       "8521    2\n",
       "8522    1\n",
       "Length: 8523, dtype: int64"
      ]
     },
     "execution_count": 22,
     "metadata": {},
     "output_type": "execute_result"
    }
   ],
   "source": [
    "pd.Series(type)"
   ]
  },
  {
   "cell_type": "code",
   "execution_count": 23,
   "id": "26887221",
   "metadata": {},
   "outputs": [],
   "source": [
    "data_train['Outlet_Type']=type"
   ]
  },
  {
   "cell_type": "code",
   "execution_count": 24,
   "id": "a36940ea",
   "metadata": {},
   "outputs": [
    {
     "data": {
      "text/plain": [
       "array([1, 2, 1, ..., 1, 2, 1])"
      ]
     },
     "execution_count": 24,
     "metadata": {},
     "output_type": "execute_result"
    }
   ],
   "source": [
    "# converting the string data to continous data.\n",
    "\n",
    "from sklearn.preprocessing import LabelEncoder\n",
    "lab_enc=LabelEncoder()\n",
    "item_fat=lab_enc.fit_transform(data_train['Item_Fat_Content'])\n",
    "item_fat"
   ]
  },
  {
   "cell_type": "code",
   "execution_count": 25,
   "id": "19cec04f",
   "metadata": {},
   "outputs": [
    {
     "data": {
      "text/plain": [
       "0       1\n",
       "1       2\n",
       "2       1\n",
       "3       2\n",
       "4       1\n",
       "       ..\n",
       "8518    1\n",
       "8519    2\n",
       "8520    1\n",
       "8521    2\n",
       "8522    1\n",
       "Length: 8523, dtype: int64"
      ]
     },
     "execution_count": 25,
     "metadata": {},
     "output_type": "execute_result"
    }
   ],
   "source": [
    "pd.Series(item_fat)"
   ]
  },
  {
   "cell_type": "code",
   "execution_count": 26,
   "id": "05f17163",
   "metadata": {},
   "outputs": [],
   "source": [
    "data_train['Item_Fat_Content']=item_fat"
   ]
  },
  {
   "cell_type": "code",
   "execution_count": 27,
   "id": "f7a4177e",
   "metadata": {},
   "outputs": [
    {
     "data": {
      "text/plain": [
       "Medium    5203\n",
       "Small     2388\n",
       "High       932\n",
       "Name: Outlet_Size, dtype: int64"
      ]
     },
     "execution_count": 27,
     "metadata": {},
     "output_type": "execute_result"
    }
   ],
   "source": [
    "data_train['Outlet_Size'].value_counts()"
   ]
  },
  {
   "cell_type": "code",
   "execution_count": 28,
   "id": "942731c7",
   "metadata": {},
   "outputs": [
    {
     "data": {
      "text/plain": [
       "array([1, 1, 1, ..., 2, 1, 2])"
      ]
     },
     "execution_count": 28,
     "metadata": {},
     "output_type": "execute_result"
    }
   ],
   "source": [
    "# converting the string data to continous data.\n",
    "\n",
    "from sklearn.preprocessing import LabelEncoder\n",
    "lab_enc=LabelEncoder()\n",
    "outlet=lab_enc.fit_transform(data_train['Outlet_Size'])\n",
    "outlet"
   ]
  },
  {
   "cell_type": "code",
   "execution_count": 29,
   "id": "67958618",
   "metadata": {},
   "outputs": [
    {
     "data": {
      "text/plain": [
       "0       1\n",
       "1       1\n",
       "2       1\n",
       "3       1\n",
       "4       0\n",
       "       ..\n",
       "8518    0\n",
       "8519    1\n",
       "8520    2\n",
       "8521    1\n",
       "8522    2\n",
       "Length: 8523, dtype: int64"
      ]
     },
     "execution_count": 29,
     "metadata": {},
     "output_type": "execute_result"
    }
   ],
   "source": [
    "pd.Series(outlet)"
   ]
  },
  {
   "cell_type": "code",
   "execution_count": 30,
   "id": "401cbe2e",
   "metadata": {},
   "outputs": [],
   "source": [
    "data_train['Outlet_Size']=outlet"
   ]
  },
  {
   "cell_type": "code",
   "execution_count": 31,
   "id": "9ef94534",
   "metadata": {},
   "outputs": [
    {
     "data": {
      "text/plain": [
       "array([0, 2, 0, ..., 1, 2, 0])"
      ]
     },
     "execution_count": 31,
     "metadata": {},
     "output_type": "execute_result"
    }
   ],
   "source": [
    "# converting the string data to continous data.\n",
    "\n",
    "from sklearn.preprocessing import LabelEncoder\n",
    "lab_enc=LabelEncoder()\n",
    "outlet_location=lab_enc.fit_transform(data_train['Outlet_Location_Type'])\n",
    "outlet_location"
   ]
  },
  {
   "cell_type": "code",
   "execution_count": 32,
   "id": "5a38a860",
   "metadata": {},
   "outputs": [
    {
     "data": {
      "text/plain": [
       "0       0\n",
       "1       2\n",
       "2       0\n",
       "3       2\n",
       "4       2\n",
       "       ..\n",
       "8518    2\n",
       "8519    1\n",
       "8520    1\n",
       "8521    2\n",
       "8522    0\n",
       "Length: 8523, dtype: int64"
      ]
     },
     "execution_count": 32,
     "metadata": {},
     "output_type": "execute_result"
    }
   ],
   "source": [
    "pd.Series(outlet_location)"
   ]
  },
  {
   "cell_type": "code",
   "execution_count": 33,
   "id": "c3f6e2f7",
   "metadata": {},
   "outputs": [],
   "source": [
    "data_train['Outlet_Location_Type']=outlet_location"
   ]
  },
  {
   "cell_type": "code",
   "execution_count": 34,
   "id": "51fd0f49",
   "metadata": {},
   "outputs": [
    {
     "data": {
      "text/html": [
       "<div>\n",
       "<style scoped>\n",
       "    .dataframe tbody tr th:only-of-type {\n",
       "        vertical-align: middle;\n",
       "    }\n",
       "\n",
       "    .dataframe tbody tr th {\n",
       "        vertical-align: top;\n",
       "    }\n",
       "\n",
       "    .dataframe thead th {\n",
       "        text-align: right;\n",
       "    }\n",
       "</style>\n",
       "<table border=\"1\" class=\"dataframe\">\n",
       "  <thead>\n",
       "    <tr style=\"text-align: right;\">\n",
       "      <th></th>\n",
       "      <th>Item_Weight</th>\n",
       "      <th>Item_Fat_Content</th>\n",
       "      <th>Item_Type</th>\n",
       "      <th>Item_MRP</th>\n",
       "      <th>Outlet_Size</th>\n",
       "      <th>Outlet_Location_Type</th>\n",
       "      <th>Outlet_Type</th>\n",
       "      <th>Item_Outlet_Sales</th>\n",
       "      <th>Outlet_Years</th>\n",
       "    </tr>\n",
       "  </thead>\n",
       "  <tbody>\n",
       "    <tr>\n",
       "      <th>0</th>\n",
       "      <td>9.300</td>\n",
       "      <td>1</td>\n",
       "      <td>4</td>\n",
       "      <td>249.8092</td>\n",
       "      <td>1</td>\n",
       "      <td>0</td>\n",
       "      <td>1</td>\n",
       "      <td>3735.1380</td>\n",
       "      <td>14</td>\n",
       "    </tr>\n",
       "    <tr>\n",
       "      <th>1</th>\n",
       "      <td>5.920</td>\n",
       "      <td>2</td>\n",
       "      <td>14</td>\n",
       "      <td>48.2692</td>\n",
       "      <td>1</td>\n",
       "      <td>2</td>\n",
       "      <td>2</td>\n",
       "      <td>443.4228</td>\n",
       "      <td>4</td>\n",
       "    </tr>\n",
       "    <tr>\n",
       "      <th>2</th>\n",
       "      <td>17.500</td>\n",
       "      <td>1</td>\n",
       "      <td>10</td>\n",
       "      <td>141.6180</td>\n",
       "      <td>1</td>\n",
       "      <td>0</td>\n",
       "      <td>1</td>\n",
       "      <td>2097.2700</td>\n",
       "      <td>14</td>\n",
       "    </tr>\n",
       "    <tr>\n",
       "      <th>3</th>\n",
       "      <td>19.200</td>\n",
       "      <td>2</td>\n",
       "      <td>6</td>\n",
       "      <td>182.0950</td>\n",
       "      <td>1</td>\n",
       "      <td>2</td>\n",
       "      <td>0</td>\n",
       "      <td>732.3800</td>\n",
       "      <td>15</td>\n",
       "    </tr>\n",
       "    <tr>\n",
       "      <th>4</th>\n",
       "      <td>8.930</td>\n",
       "      <td>1</td>\n",
       "      <td>9</td>\n",
       "      <td>53.8614</td>\n",
       "      <td>0</td>\n",
       "      <td>2</td>\n",
       "      <td>1</td>\n",
       "      <td>994.7052</td>\n",
       "      <td>26</td>\n",
       "    </tr>\n",
       "    <tr>\n",
       "      <th>...</th>\n",
       "      <td>...</td>\n",
       "      <td>...</td>\n",
       "      <td>...</td>\n",
       "      <td>...</td>\n",
       "      <td>...</td>\n",
       "      <td>...</td>\n",
       "      <td>...</td>\n",
       "      <td>...</td>\n",
       "      <td>...</td>\n",
       "    </tr>\n",
       "    <tr>\n",
       "      <th>8518</th>\n",
       "      <td>6.865</td>\n",
       "      <td>1</td>\n",
       "      <td>13</td>\n",
       "      <td>214.5218</td>\n",
       "      <td>0</td>\n",
       "      <td>2</td>\n",
       "      <td>1</td>\n",
       "      <td>2778.3834</td>\n",
       "      <td>26</td>\n",
       "    </tr>\n",
       "    <tr>\n",
       "      <th>8519</th>\n",
       "      <td>8.380</td>\n",
       "      <td>2</td>\n",
       "      <td>0</td>\n",
       "      <td>108.1570</td>\n",
       "      <td>1</td>\n",
       "      <td>1</td>\n",
       "      <td>1</td>\n",
       "      <td>549.2850</td>\n",
       "      <td>11</td>\n",
       "    </tr>\n",
       "    <tr>\n",
       "      <th>8520</th>\n",
       "      <td>10.600</td>\n",
       "      <td>1</td>\n",
       "      <td>8</td>\n",
       "      <td>85.1224</td>\n",
       "      <td>2</td>\n",
       "      <td>1</td>\n",
       "      <td>1</td>\n",
       "      <td>1193.1136</td>\n",
       "      <td>9</td>\n",
       "    </tr>\n",
       "    <tr>\n",
       "      <th>8521</th>\n",
       "      <td>7.210</td>\n",
       "      <td>2</td>\n",
       "      <td>13</td>\n",
       "      <td>103.1332</td>\n",
       "      <td>1</td>\n",
       "      <td>2</td>\n",
       "      <td>2</td>\n",
       "      <td>1845.5976</td>\n",
       "      <td>4</td>\n",
       "    </tr>\n",
       "    <tr>\n",
       "      <th>8522</th>\n",
       "      <td>14.800</td>\n",
       "      <td>1</td>\n",
       "      <td>14</td>\n",
       "      <td>75.4670</td>\n",
       "      <td>2</td>\n",
       "      <td>0</td>\n",
       "      <td>1</td>\n",
       "      <td>765.6700</td>\n",
       "      <td>16</td>\n",
       "    </tr>\n",
       "  </tbody>\n",
       "</table>\n",
       "<p>8523 rows × 9 columns</p>\n",
       "</div>"
      ],
      "text/plain": [
       "      Item_Weight  Item_Fat_Content  Item_Type  Item_MRP  Outlet_Size  \\\n",
       "0           9.300                 1          4  249.8092            1   \n",
       "1           5.920                 2         14   48.2692            1   \n",
       "2          17.500                 1         10  141.6180            1   \n",
       "3          19.200                 2          6  182.0950            1   \n",
       "4           8.930                 1          9   53.8614            0   \n",
       "...           ...               ...        ...       ...          ...   \n",
       "8518        6.865                 1         13  214.5218            0   \n",
       "8519        8.380                 2          0  108.1570            1   \n",
       "8520       10.600                 1          8   85.1224            2   \n",
       "8521        7.210                 2         13  103.1332            1   \n",
       "8522       14.800                 1         14   75.4670            2   \n",
       "\n",
       "      Outlet_Location_Type  Outlet_Type  Item_Outlet_Sales  Outlet_Years  \n",
       "0                        0            1          3735.1380            14  \n",
       "1                        2            2           443.4228             4  \n",
       "2                        0            1          2097.2700            14  \n",
       "3                        2            0           732.3800            15  \n",
       "4                        2            1           994.7052            26  \n",
       "...                    ...          ...                ...           ...  \n",
       "8518                     2            1          2778.3834            26  \n",
       "8519                     1            1           549.2850            11  \n",
       "8520                     1            1          1193.1136             9  \n",
       "8521                     2            2          1845.5976             4  \n",
       "8522                     0            1           765.6700            16  \n",
       "\n",
       "[8523 rows x 9 columns]"
      ]
     },
     "execution_count": 34,
     "metadata": {},
     "output_type": "execute_result"
    }
   ],
   "source": [
    "data_train"
   ]
  },
  {
   "cell_type": "code",
   "execution_count": 36,
   "id": "676dff37",
   "metadata": {},
   "outputs": [
    {
     "data": {
      "image/png": "[encoded data removed]",
      "text/plain": [
       "<Figure size 1440x1800 with 9 Axes>"
      ]
     },
     "metadata": {},
     "output_type": "display_data"
    }
   ],
   "source": [
    "# ploting the distribution to check the distribution.\n",
    "\n",
    "plt.figure(figsize=(20,25),facecolor='white')\n",
    "plotnumber=1\n",
    "for column in data_train:\n",
    "    if plotnumber<=9:\n",
    "        ax=plt.subplot(3,3,plotnumber)\n",
    "        sns.distplot(data_train[column])\n",
    "        plt.xlabel(column,fontsize=20)\n",
    "    plotnumber+=1\n",
    "plt.tight_layout()\n"
   ]
  },
  {
   "cell_type": "markdown",
   "id": "c81cbdb7",
   "metadata": {},
   "source": [
    "Except 'Item Outlet Sales' all data distributed normally"
   ]
  },
  {
   "cell_type": "code",
   "execution_count": 37,
   "id": "22c0deb3",
   "metadata": {},
   "outputs": [],
   "source": [
    "# removing the skewness using \"log transforation\"\n",
    "\n",
    "data_train['Item_Outlet_Sales']=np.log(1+data_train['Item_Outlet_Sales'])\n"
   ]
  },
  {
   "cell_type": "code",
   "execution_count": 38,
   "id": "a97b6997",
   "metadata": {},
   "outputs": [
    {
     "data": {
      "text/plain": [
       "<AxesSubplot:xlabel='Item_Outlet_Sales', ylabel='Density'>"
      ]
     },
     "execution_count": 38,
     "metadata": {},
     "output_type": "execute_result"
    },
    {
     "data": {
      "image/png": "[encoded data removed]",
      "text/plain": [
       "<Figure size 432x288 with 1 Axes>"
      ]
     },
     "metadata": {
      "needs_background": "light"
     },
     "output_type": "display_data"
    }
   ],
   "source": [
    "sns.distplot(data_train['Item_Outlet_Sales'])"
   ]
  },
  {
   "cell_type": "markdown",
   "id": "9e77382a",
   "metadata": {},
   "source": [
    " Now Item_Outlet_Sales reduced skewness"
   ]
  },
  {
   "cell_type": "code",
   "execution_count": 40,
   "id": "4f827e40",
   "metadata": {},
   "outputs": [],
   "source": [
    "# Seperating features and label columns\n",
    "\n",
    "x=data_train.drop(columns=['Item_Outlet_Sales'],axis=1)\n",
    "y=data_train['Item_Outlet_Sales']"
   ]
  },
  {
   "cell_type": "code",
   "execution_count": 43,
   "id": "adc55c5d",
   "metadata": {},
   "outputs": [
    {
     "data": {
      "image/png": "[encoded data removed]",
      "text/plain": [
       "<Figure size 1440x1800 with 8 Axes>"
      ]
     },
     "metadata": {},
     "output_type": "display_data"
    }
   ],
   "source": [
    "# ploting to see the distribution of data.\n",
    "\n",
    "plt.figure(figsize=(20,25),facecolor='white')\n",
    "plotnumber=1\n",
    "for column in data_train:\n",
    "    if plotnumber<=8:\n",
    "        ax=plt.subplot(4,2,plotnumber)\n",
    "        plt.scatter(y,data_train[column])\n",
    "        plt.xlabel(column,fontsize=20)\n",
    "        plt.ylabel('Item_Outlet_Sales',fontsize=20)\n",
    "    plotnumber+=1\n",
    "\n",
    "plt.tight_layout()"
   ]
  },
  {
   "cell_type": "markdown",
   "id": "9b255315",
   "metadata": {},
   "source": [
    "From the scatter plot we can compare our feature and label relation"
   ]
  },
  {
   "cell_type": "markdown",
   "id": "ea4132e6",
   "metadata": {},
   "source": [
    "1.In the first graph of item weight and sales if the price range from 6 to 8 the sales are high that means they are corelated to each other based on the weight of the product the sales of the product depends.\n",
    "\n",
    "2.When the item has high fat content is more the sales are very less of 1 to 2 which means that the sales and fat content are inversly proportion to each other when ever the product has less fat content then only the sales increases.\n",
    "\n",
    "3.Based on the item type the sales increases, on the type of products 4 and 5 the sales are very less but after the type 5 the less got increased so mostly the customers are investing more on the products after the 5th type on the type 4 or type 5.\n",
    "\n",
    "4.The item mrp and sales are directly proportions as the prouct MRP is more the sales are also increasing in the same manner so by this we can say both are corelated.In all the other products also the features and label are directly corelated.so each and every feature has their contribution on the outlet sales.\n"
   ]
  },
  {
   "cell_type": "code",
   "execution_count": 45,
   "id": "40f6b366",
   "metadata": {},
   "outputs": [
    {
     "data": {
      "text/html": [
       "<div>\n",
       "<style scoped>\n",
       "    .dataframe tbody tr th:only-of-type {\n",
       "        vertical-align: middle;\n",
       "    }\n",
       "\n",
       "    .dataframe tbody tr th {\n",
       "        vertical-align: top;\n",
       "    }\n",
       "\n",
       "    .dataframe thead th {\n",
       "        text-align: right;\n",
       "    }\n",
       "</style>\n",
       "<table border=\"1\" class=\"dataframe\">\n",
       "  <thead>\n",
       "    <tr style=\"text-align: right;\">\n",
       "      <th></th>\n",
       "      <th>Item_Weight</th>\n",
       "      <th>Item_Fat_Content</th>\n",
       "      <th>Item_Type</th>\n",
       "      <th>Item_MRP</th>\n",
       "      <th>Outlet_Size</th>\n",
       "      <th>Outlet_Location_Type</th>\n",
       "      <th>Outlet_Type</th>\n",
       "      <th>Item_Outlet_Sales</th>\n",
       "      <th>Outlet_Years</th>\n",
       "    </tr>\n",
       "  </thead>\n",
       "  <tbody>\n",
       "    <tr>\n",
       "      <th>0</th>\n",
       "      <td>-0.841872</td>\n",
       "      <td>1</td>\n",
       "      <td>4</td>\n",
       "      <td>1.747454</td>\n",
       "      <td>1</td>\n",
       "      <td>0</td>\n",
       "      <td>1</td>\n",
       "      <td>8.225808</td>\n",
       "      <td>-0.139541</td>\n",
       "    </tr>\n",
       "    <tr>\n",
       "      <th>1</th>\n",
       "      <td>-1.641706</td>\n",
       "      <td>2</td>\n",
       "      <td>14</td>\n",
       "      <td>-1.489023</td>\n",
       "      <td>1</td>\n",
       "      <td>2</td>\n",
       "      <td>2</td>\n",
       "      <td>6.096776</td>\n",
       "      <td>-1.334103</td>\n",
       "    </tr>\n",
       "    <tr>\n",
       "      <th>2</th>\n",
       "      <td>1.098554</td>\n",
       "      <td>1</td>\n",
       "      <td>10</td>\n",
       "      <td>0.010040</td>\n",
       "      <td>1</td>\n",
       "      <td>0</td>\n",
       "      <td>1</td>\n",
       "      <td>7.648868</td>\n",
       "      <td>-0.139541</td>\n",
       "    </tr>\n",
       "    <tr>\n",
       "      <th>3</th>\n",
       "      <td>1.500838</td>\n",
       "      <td>2</td>\n",
       "      <td>6</td>\n",
       "      <td>0.660050</td>\n",
       "      <td>1</td>\n",
       "      <td>2</td>\n",
       "      <td>0</td>\n",
       "      <td>6.597664</td>\n",
       "      <td>-0.020085</td>\n",
       "    </tr>\n",
       "    <tr>\n",
       "      <th>4</th>\n",
       "      <td>-0.929428</td>\n",
       "      <td>1</td>\n",
       "      <td>9</td>\n",
       "      <td>-1.399220</td>\n",
       "      <td>0</td>\n",
       "      <td>2</td>\n",
       "      <td>1</td>\n",
       "      <td>6.903451</td>\n",
       "      <td>1.293934</td>\n",
       "    </tr>\n",
       "  </tbody>\n",
       "</table>\n",
       "</div>"
      ],
      "text/plain": [
       "   Item_Weight  Item_Fat_Content  Item_Type  Item_MRP  Outlet_Size  \\\n",
       "0    -0.841872                 1          4  1.747454            1   \n",
       "1    -1.641706                 2         14 -1.489023            1   \n",
       "2     1.098554                 1         10  0.010040            1   \n",
       "3     1.500838                 2          6  0.660050            1   \n",
       "4    -0.929428                 1          9 -1.399220            0   \n",
       "\n",
       "   Outlet_Location_Type  Outlet_Type  Item_Outlet_Sales  Outlet_Years  \n",
       "0                     0            1           8.225808     -0.139541  \n",
       "1                     2            2           6.096776     -1.334103  \n",
       "2                     0            1           7.648868     -0.139541  \n",
       "3                     2            0           6.597664     -0.020085  \n",
       "4                     2            1           6.903451      1.293934  "
      ]
     },
     "execution_count": 45,
     "metadata": {},
     "output_type": "execute_result"
    }
   ],
   "source": [
    "#scailing the age and fare column because of the continous data\n",
    "\n",
    "from sklearn.preprocessing import StandardScaler\n",
    "scaler=StandardScaler()\n",
    "feature_scale=['Item_Weight','Item_MRP','Outlet_Years']\n",
    "data_train[feature_scale]=scaler.fit_transform(data_train[feature_scale])\n",
    "data_train.head()\n"
   ]
  },
  {
   "cell_type": "markdown",
   "id": "6067389a",
   "metadata": {},
   "source": [
    "# Excuting texting data"
   ]
  },
  {
   "cell_type": "code",
   "execution_count": 46,
   "id": "ef25b2da",
   "metadata": {},
   "outputs": [
    {
     "data": {
      "text/html": [
       "<div>\n",
       "<style scoped>\n",
       "    .dataframe tbody tr th:only-of-type {\n",
       "        vertical-align: middle;\n",
       "    }\n",
       "\n",
       "    .dataframe tbody tr th {\n",
       "        vertical-align: top;\n",
       "    }\n",
       "\n",
       "    .dataframe thead th {\n",
       "        text-align: right;\n",
       "    }\n",
       "</style>\n",
       "<table border=\"1\" class=\"dataframe\">\n",
       "  <thead>\n",
       "    <tr style=\"text-align: right;\">\n",
       "      <th></th>\n",
       "      <th>Item_Identifier</th>\n",
       "      <th>Item_Weight</th>\n",
       "      <th>Item_Fat_Content</th>\n",
       "      <th>Item_Visibility</th>\n",
       "      <th>Item_Type</th>\n",
       "      <th>Item_MRP</th>\n",
       "      <th>Outlet_Identifier</th>\n",
       "      <th>Outlet_Establishment_Year</th>\n",
       "      <th>Outlet_Size</th>\n",
       "      <th>Outlet_Location_Type</th>\n",
       "      <th>Outlet_Type</th>\n",
       "    </tr>\n",
       "  </thead>\n",
       "  <tbody>\n",
       "    <tr>\n",
       "      <th>0</th>\n",
       "      <td>FDW58</td>\n",
       "      <td>20.750</td>\n",
       "      <td>Low Fat</td>\n",
       "      <td>0.007565</td>\n",
       "      <td>Snack Foods</td>\n",
       "      <td>107.8622</td>\n",
       "      <td>OUT049</td>\n",
       "      <td>1999</td>\n",
       "      <td>Medium</td>\n",
       "      <td>Tier 1</td>\n",
       "      <td>Supermarket Type1</td>\n",
       "    </tr>\n",
       "    <tr>\n",
       "      <th>1</th>\n",
       "      <td>FDW14</td>\n",
       "      <td>8.300</td>\n",
       "      <td>reg</td>\n",
       "      <td>0.038428</td>\n",
       "      <td>Dairy</td>\n",
       "      <td>87.3198</td>\n",
       "      <td>OUT017</td>\n",
       "      <td>2007</td>\n",
       "      <td>NaN</td>\n",
       "      <td>Tier 2</td>\n",
       "      <td>Supermarket Type1</td>\n",
       "    </tr>\n",
       "    <tr>\n",
       "      <th>2</th>\n",
       "      <td>NCN55</td>\n",
       "      <td>14.600</td>\n",
       "      <td>Low Fat</td>\n",
       "      <td>0.099575</td>\n",
       "      <td>Others</td>\n",
       "      <td>241.7538</td>\n",
       "      <td>OUT010</td>\n",
       "      <td>1998</td>\n",
       "      <td>NaN</td>\n",
       "      <td>Tier 3</td>\n",
       "      <td>Grocery Store</td>\n",
       "    </tr>\n",
       "    <tr>\n",
       "      <th>3</th>\n",
       "      <td>FDQ58</td>\n",
       "      <td>7.315</td>\n",
       "      <td>Low Fat</td>\n",
       "      <td>0.015388</td>\n",
       "      <td>Snack Foods</td>\n",
       "      <td>155.0340</td>\n",
       "      <td>OUT017</td>\n",
       "      <td>2007</td>\n",
       "      <td>NaN</td>\n",
       "      <td>Tier 2</td>\n",
       "      <td>Supermarket Type1</td>\n",
       "    </tr>\n",
       "    <tr>\n",
       "      <th>4</th>\n",
       "      <td>FDY38</td>\n",
       "      <td>NaN</td>\n",
       "      <td>Regular</td>\n",
       "      <td>0.118599</td>\n",
       "      <td>Dairy</td>\n",
       "      <td>234.2300</td>\n",
       "      <td>OUT027</td>\n",
       "      <td>1985</td>\n",
       "      <td>Medium</td>\n",
       "      <td>Tier 3</td>\n",
       "      <td>Supermarket Type3</td>\n",
       "    </tr>\n",
       "  </tbody>\n",
       "</table>\n",
       "</div>"
      ],
      "text/plain": [
       "  Item_Identifier  Item_Weight Item_Fat_Content  Item_Visibility    Item_Type  \\\n",
       "0           FDW58       20.750          Low Fat         0.007565  Snack Foods   \n",
       "1           FDW14        8.300              reg         0.038428        Dairy   \n",
       "2           NCN55       14.600          Low Fat         0.099575       Others   \n",
       "3           FDQ58        7.315          Low Fat         0.015388  Snack Foods   \n",
       "4           FDY38          NaN          Regular         0.118599        Dairy   \n",
       "\n",
       "   Item_MRP Outlet_Identifier  Outlet_Establishment_Year Outlet_Size  \\\n",
       "0  107.8622            OUT049                       1999      Medium   \n",
       "1   87.3198            OUT017                       2007         NaN   \n",
       "2  241.7538            OUT010                       1998         NaN   \n",
       "3  155.0340            OUT017                       2007         NaN   \n",
       "4  234.2300            OUT027                       1985      Medium   \n",
       "\n",
       "  Outlet_Location_Type        Outlet_Type  \n",
       "0               Tier 1  Supermarket Type1  \n",
       "1               Tier 2  Supermarket Type1  \n",
       "2               Tier 3      Grocery Store  \n",
       "3               Tier 2  Supermarket Type1  \n",
       "4               Tier 3  Supermarket Type3  "
      ]
     },
     "execution_count": 46,
     "metadata": {},
     "output_type": "execute_result"
    }
   ],
   "source": [
    "data_test.head()"
   ]
  },
  {
   "cell_type": "code",
   "execution_count": 47,
   "id": "c1f6698d",
   "metadata": {},
   "outputs": [
    {
     "data": {
      "text/plain": [
       "(5681, 11)"
      ]
     },
     "execution_count": 47,
     "metadata": {},
     "output_type": "execute_result"
    }
   ],
   "source": [
    "#checking for the shape of the data\n",
    "\n",
    "data_test.shape"
   ]
  },
  {
   "cell_type": "code",
   "execution_count": 48,
   "id": "a58e74d6",
   "metadata": {},
   "outputs": [
    {
     "data": {
      "text/plain": [
       "Item_Identifier                 0\n",
       "Item_Weight                   976\n",
       "Item_Fat_Content                0\n",
       "Item_Visibility                 0\n",
       "Item_Type                       0\n",
       "Item_MRP                        0\n",
       "Outlet_Identifier               0\n",
       "Outlet_Establishment_Year       0\n",
       "Outlet_Size                  1606\n",
       "Outlet_Location_Type            0\n",
       "Outlet_Type                     0\n",
       "dtype: int64"
      ]
     },
     "execution_count": 48,
     "metadata": {},
     "output_type": "execute_result"
    }
   ],
   "source": [
    "#checking for null values isnull method\n",
    "\n",
    "data_test.isnull().sum()"
   ]
  },
  {
   "cell_type": "code",
   "execution_count": 50,
   "id": "8ef1606a",
   "metadata": {},
   "outputs": [],
   "source": [
    "# filling missing values using mean method\n",
    "\n",
    "data_test['Item_Weight']=data_test['Item_Weight'].fillna(data_test['Item_Weight'].mean())\n"
   ]
  },
  {
   "cell_type": "code",
   "execution_count": 53,
   "id": "5e9e6188",
   "metadata": {},
   "outputs": [],
   "source": [
    "# filling missing values using mode method\n",
    "\n",
    "data_test['Outlet_Size']=data_test['Outlet_Size'].fillna(data_test['Outlet_Size'].mode()[0])"
   ]
  },
  {
   "cell_type": "code",
   "execution_count": 55,
   "id": "d7a480e6",
   "metadata": {},
   "outputs": [
    {
     "data": {
      "text/plain": [
       "Item_Identifier              0\n",
       "Item_Weight                  0\n",
       "Item_Fat_Content             0\n",
       "Item_Visibility              0\n",
       "Item_Type                    0\n",
       "Item_MRP                     0\n",
       "Outlet_Identifier            0\n",
       "Outlet_Establishment_Year    0\n",
       "Outlet_Size                  0\n",
       "Outlet_Location_Type         0\n",
       "Outlet_Type                  0\n",
       "dtype: int64"
      ]
     },
     "execution_count": 55,
     "metadata": {},
     "output_type": "execute_result"
    }
   ],
   "source": [
    "# checking null value again.\n",
    "\n",
    "data_test.isnull().sum()"
   ]
  },
  {
   "cell_type": "code",
   "execution_count": 56,
   "id": "d9d9a469",
   "metadata": {},
   "outputs": [
    {
     "data": {
      "text/plain": [
       "0       14\n",
       "1        6\n",
       "2       15\n",
       "3        6\n",
       "4       28\n",
       "        ..\n",
       "5676    16\n",
       "5677     4\n",
       "5678    11\n",
       "5679     6\n",
       "5680    11\n",
       "Name: Outlet_Years, Length: 5681, dtype: int64"
      ]
     },
     "execution_count": 56,
     "metadata": {},
     "output_type": "execute_result"
    }
   ],
   "source": [
    "# creating small values for the establishment of the year\n",
    "\n",
    "data_test['Outlet_Years']=2013-data_test['Outlet_Establishment_Year']\n",
    "data_test['Outlet_Years'] "
   ]
  },
  {
   "cell_type": "code",
   "execution_count": 58,
   "id": "081c6b06",
   "metadata": {},
   "outputs": [],
   "source": [
    "# droping columns which dont contribute much for sales\n",
    "\n",
    "data_test=data_test.drop(['Item_Identifier','Item_Visibility','Outlet_Identifier','Outlet_Establishment_Year'],axis=1)"
   ]
  },
  {
   "cell_type": "code",
   "execution_count": 60,
   "id": "e6b682a9",
   "metadata": {},
   "outputs": [
    {
     "data": {
      "text/plain": [
       "array([13,  4, 11, ...,  8,  3,  3])"
      ]
     },
     "execution_count": 60,
     "metadata": {},
     "output_type": "execute_result"
    }
   ],
   "source": [
    "# converting string data into continous data, using label encoder\n",
    "\n",
    "from sklearn.preprocessing import LabelEncoder\n",
    "lab_enc=LabelEncoder()\n",
    "item=lab_enc.fit_transform(data_test['Item_Type'])\n",
    "item"
   ]
  },
  {
   "cell_type": "code",
   "execution_count": 61,
   "id": "fe9eefea",
   "metadata": {},
   "outputs": [],
   "source": [
    "pd.Series(item)\n",
    "data_test['Item_Type']=item"
   ]
  },
  {
   "cell_type": "code",
   "execution_count": 63,
   "id": "486d292d",
   "metadata": {},
   "outputs": [],
   "source": [
    "# converting string data into continous data, using label encoder\n",
    "\n",
    "lab_enc=LabelEncoder()\n",
    "type=lab_enc.fit_transform(data_test['Outlet_Type'])\n",
    "pd.Series(type)\n",
    "data_test['Outlet_Type']=type\n",
    "\n",
    "lab_enc=LabelEncoder()\n",
    "type=lab_enc.fit_transform(data_test['Outlet_Location_Type'])\n",
    "pd.Series(type)\n",
    "data_test['Outlet_Location_Type']=type\n",
    "\n",
    "lab_enc=LabelEncoder()\n",
    "type=lab_enc.fit_transform(data_test['Outlet_Size'])\n",
    "pd.Series(type)\n",
    "data_test['Outlet_Size']=type\n",
    "\n",
    "lab_enc=LabelEncoder()\n",
    "type=lab_enc.fit_transform(data_test['Item_Fat_Content'])\n",
    "pd.Series(type)\n",
    "data_test['Item_Fat_Content']=type\n"
   ]
  },
  {
   "cell_type": "code",
   "execution_count": 64,
   "id": "2b05d2bd",
   "metadata": {},
   "outputs": [],
   "source": [
    "# scaling the age and fare column because of the continous data\n",
    "\n",
    "from sklearn.preprocessing import StandardScaler\n",
    "scaler=StandardScaler()\n",
    "feature_scale=['Item_Weight','Item_MRP','Outlet_Years']\n",
    "data_test[feature_scale]=scaler.fit_transform(data_test[feature_scale])\n"
   ]
  },
  {
   "cell_type": "code",
   "execution_count": 65,
   "id": "8e962dc7",
   "metadata": {},
   "outputs": [
    {
     "data": {
      "text/html": [
       "<div>\n",
       "<style scoped>\n",
       "    .dataframe tbody tr th:only-of-type {\n",
       "        vertical-align: middle;\n",
       "    }\n",
       "\n",
       "    .dataframe tbody tr th {\n",
       "        vertical-align: top;\n",
       "    }\n",
       "\n",
       "    .dataframe thead th {\n",
       "        text-align: right;\n",
       "    }\n",
       "</style>\n",
       "<table border=\"1\" class=\"dataframe\">\n",
       "  <thead>\n",
       "    <tr style=\"text-align: right;\">\n",
       "      <th></th>\n",
       "      <th>Item_Weight</th>\n",
       "      <th>Item_Fat_Content</th>\n",
       "      <th>Item_Type</th>\n",
       "      <th>Item_MRP</th>\n",
       "      <th>Outlet_Size</th>\n",
       "      <th>Outlet_Location_Type</th>\n",
       "      <th>Outlet_Type</th>\n",
       "      <th>Outlet_Years</th>\n",
       "    </tr>\n",
       "  </thead>\n",
       "  <tbody>\n",
       "    <tr>\n",
       "      <th>0</th>\n",
       "      <td>1.897460e+00</td>\n",
       "      <td>1</td>\n",
       "      <td>13</td>\n",
       "      <td>-0.536555</td>\n",
       "      <td>1</td>\n",
       "      <td>0</td>\n",
       "      <td>1</td>\n",
       "      <td>-0.139891</td>\n",
       "    </tr>\n",
       "    <tr>\n",
       "      <th>1</th>\n",
       "      <td>-1.035530e+00</td>\n",
       "      <td>4</td>\n",
       "      <td>4</td>\n",
       "      <td>-0.868937</td>\n",
       "      <td>1</td>\n",
       "      <td>1</td>\n",
       "      <td>1</td>\n",
       "      <td>-1.095512</td>\n",
       "    </tr>\n",
       "    <tr>\n",
       "      <th>2</th>\n",
       "      <td>4.486336e-01</td>\n",
       "      <td>1</td>\n",
       "      <td>11</td>\n",
       "      <td>1.629848</td>\n",
       "      <td>1</td>\n",
       "      <td>2</td>\n",
       "      <td>0</td>\n",
       "      <td>-0.020438</td>\n",
       "    </tr>\n",
       "    <tr>\n",
       "      <th>3</th>\n",
       "      <td>-1.267578e+00</td>\n",
       "      <td>1</td>\n",
       "      <td>13</td>\n",
       "      <td>0.226697</td>\n",
       "      <td>1</td>\n",
       "      <td>1</td>\n",
       "      <td>1</td>\n",
       "      <td>-1.095512</td>\n",
       "    </tr>\n",
       "    <tr>\n",
       "      <th>4</th>\n",
       "      <td>-5.230960e-14</td>\n",
       "      <td>2</td>\n",
       "      <td>4</td>\n",
       "      <td>1.508110</td>\n",
       "      <td>1</td>\n",
       "      <td>2</td>\n",
       "      <td>3</td>\n",
       "      <td>1.532446</td>\n",
       "    </tr>\n",
       "  </tbody>\n",
       "</table>\n",
       "</div>"
      ],
      "text/plain": [
       "    Item_Weight  Item_Fat_Content  Item_Type  Item_MRP  Outlet_Size  \\\n",
       "0  1.897460e+00                 1         13 -0.536555            1   \n",
       "1 -1.035530e+00                 4          4 -0.868937            1   \n",
       "2  4.486336e-01                 1         11  1.629848            1   \n",
       "3 -1.267578e+00                 1         13  0.226697            1   \n",
       "4 -5.230960e-14                 2          4  1.508110            1   \n",
       "\n",
       "   Outlet_Location_Type  Outlet_Type  Outlet_Years  \n",
       "0                     0            1     -0.139891  \n",
       "1                     1            1     -1.095512  \n",
       "2                     2            0     -0.020438  \n",
       "3                     1            1     -1.095512  \n",
       "4                     2            3      1.532446  "
      ]
     },
     "execution_count": 65,
     "metadata": {},
     "output_type": "execute_result"
    }
   ],
   "source": [
    "data_test.head()"
   ]
  },
  {
   "cell_type": "code",
   "execution_count": 66,
   "id": "c874532c",
   "metadata": {},
   "outputs": [
    {
     "data": {
      "text/html": [
       "<div>\n",
       "<style scoped>\n",
       "    .dataframe tbody tr th:only-of-type {\n",
       "        vertical-align: middle;\n",
       "    }\n",
       "\n",
       "    .dataframe tbody tr th {\n",
       "        vertical-align: top;\n",
       "    }\n",
       "\n",
       "    .dataframe thead th {\n",
       "        text-align: right;\n",
       "    }\n",
       "</style>\n",
       "<table border=\"1\" class=\"dataframe\">\n",
       "  <thead>\n",
       "    <tr style=\"text-align: right;\">\n",
       "      <th></th>\n",
       "      <th>Item_Weight</th>\n",
       "      <th>Item_Fat_Content</th>\n",
       "      <th>Item_Type</th>\n",
       "      <th>Item_MRP</th>\n",
       "      <th>Outlet_Size</th>\n",
       "      <th>Outlet_Location_Type</th>\n",
       "      <th>Outlet_Type</th>\n",
       "      <th>Item_Outlet_Sales</th>\n",
       "      <th>Outlet_Years</th>\n",
       "    </tr>\n",
       "  </thead>\n",
       "  <tbody>\n",
       "    <tr>\n",
       "      <th>0</th>\n",
       "      <td>-0.841872</td>\n",
       "      <td>1</td>\n",
       "      <td>4</td>\n",
       "      <td>1.747454</td>\n",
       "      <td>1</td>\n",
       "      <td>0</td>\n",
       "      <td>1</td>\n",
       "      <td>8.225808</td>\n",
       "      <td>-0.139541</td>\n",
       "    </tr>\n",
       "    <tr>\n",
       "      <th>1</th>\n",
       "      <td>-1.641706</td>\n",
       "      <td>2</td>\n",
       "      <td>14</td>\n",
       "      <td>-1.489023</td>\n",
       "      <td>1</td>\n",
       "      <td>2</td>\n",
       "      <td>2</td>\n",
       "      <td>6.096776</td>\n",
       "      <td>-1.334103</td>\n",
       "    </tr>\n",
       "    <tr>\n",
       "      <th>2</th>\n",
       "      <td>1.098554</td>\n",
       "      <td>1</td>\n",
       "      <td>10</td>\n",
       "      <td>0.010040</td>\n",
       "      <td>1</td>\n",
       "      <td>0</td>\n",
       "      <td>1</td>\n",
       "      <td>7.648868</td>\n",
       "      <td>-0.139541</td>\n",
       "    </tr>\n",
       "    <tr>\n",
       "      <th>3</th>\n",
       "      <td>1.500838</td>\n",
       "      <td>2</td>\n",
       "      <td>6</td>\n",
       "      <td>0.660050</td>\n",
       "      <td>1</td>\n",
       "      <td>2</td>\n",
       "      <td>0</td>\n",
       "      <td>6.597664</td>\n",
       "      <td>-0.020085</td>\n",
       "    </tr>\n",
       "    <tr>\n",
       "      <th>4</th>\n",
       "      <td>-0.929428</td>\n",
       "      <td>1</td>\n",
       "      <td>9</td>\n",
       "      <td>-1.399220</td>\n",
       "      <td>0</td>\n",
       "      <td>2</td>\n",
       "      <td>1</td>\n",
       "      <td>6.903451</td>\n",
       "      <td>1.293934</td>\n",
       "    </tr>\n",
       "  </tbody>\n",
       "</table>\n",
       "</div>"
      ],
      "text/plain": [
       "   Item_Weight  Item_Fat_Content  Item_Type  Item_MRP  Outlet_Size  \\\n",
       "0    -0.841872                 1          4  1.747454            1   \n",
       "1    -1.641706                 2         14 -1.489023            1   \n",
       "2     1.098554                 1         10  0.010040            1   \n",
       "3     1.500838                 2          6  0.660050            1   \n",
       "4    -0.929428                 1          9 -1.399220            0   \n",
       "\n",
       "   Outlet_Location_Type  Outlet_Type  Item_Outlet_Sales  Outlet_Years  \n",
       "0                     0            1           8.225808     -0.139541  \n",
       "1                     2            2           6.096776     -1.334103  \n",
       "2                     0            1           7.648868     -0.139541  \n",
       "3                     2            0           6.597664     -0.020085  \n",
       "4                     2            1           6.903451      1.293934  "
      ]
     },
     "execution_count": 66,
     "metadata": {},
     "output_type": "execute_result"
    }
   ],
   "source": [
    "data_train.head()"
   ]
  },
  {
   "cell_type": "code",
   "execution_count": 67,
   "id": "7e57e249",
   "metadata": {},
   "outputs": [],
   "source": [
    "# seperating feature column and lable column\n",
    "\n",
    "x=data_train.drop(columns=['Item_Outlet_Sales'],axis=1)\n",
    "y=data_train['Item_Outlet_Sales']"
   ]
  },
  {
   "cell_type": "code",
   "execution_count": 69,
   "id": "54bb1bf9",
   "metadata": {},
   "outputs": [],
   "source": [
    "#importing all the required libraries to build model\n",
    "\n",
    "from sklearn.linear_model import LinearRegression,Lasso,Ridge\n",
    "from sklearn.neighbors import KNeighborsRegressor\n",
    "from sklearn.tree import DecisionTreeRegressor\n",
    "from sklearn.ensemble import RandomForestRegressor\n",
    "from sklearn.svm import SVR\n",
    "from sklearn.model_selection import train_test_split,GridSearchCV,cross_val_score\n",
    "from sklearn.metrics import mean_squared_error,mean_absolute_error\n",
    "from sklearn import metrics\n"
   ]
  },
  {
   "cell_type": "markdown",
   "id": "bf8be3f6",
   "metadata": {},
   "source": [
    "# Liner Regression"
   ]
  },
  {
   "cell_type": "code",
   "execution_count": 70,
   "id": "afdc181d",
   "metadata": {},
   "outputs": [
    {
     "data": {
      "text/plain": [
       "LinearRegression()"
      ]
     },
     "execution_count": 70,
     "metadata": {},
     "output_type": "execute_result"
    }
   ],
   "source": [
    "x_train,x_test,y_train,y_test=train_test_split(x,y,test_size=0.25,random_state=250)\n",
    "lr=LinearRegression()\n",
    "lr.fit(x_train,y_train)"
   ]
  },
  {
   "cell_type": "markdown",
   "id": "39481615",
   "metadata": {},
   "source": [
    "# Predicting Model Evaluvation"
   ]
  },
  {
   "cell_type": "code",
   "execution_count": 71,
   "id": "8e0aee4b",
   "metadata": {},
   "outputs": [],
   "source": [
    "y_pred_test=lr.predict(x_test)"
   ]
  },
  {
   "cell_type": "markdown",
   "id": "3ddde307",
   "metadata": {},
   "source": [
    "# Actual Prediction"
   ]
  },
  {
   "cell_type": "code",
   "execution_count": 72,
   "id": "d5712172",
   "metadata": {},
   "outputs": [
    {
     "data": {
      "text/plain": [
       "array([7.48367746, 7.01100593, 6.87924423, ..., 7.15641943, 8.09161946,\n",
       "       6.83031597])"
      ]
     },
     "execution_count": 72,
     "metadata": {},
     "output_type": "execute_result"
    }
   ],
   "source": [
    "y_pred=lr.predict(data_test)\n",
    "y_pred"
   ]
  },
  {
   "cell_type": "markdown",
   "id": "13937384",
   "metadata": {},
   "source": [
    "Model Evaluvation"
   ]
  },
  {
   "cell_type": "code",
   "execution_count": 73,
   "id": "07433a23",
   "metadata": {},
   "outputs": [
    {
     "data": {
      "text/plain": [
       "0.5745482047283981"
      ]
     },
     "execution_count": 73,
     "metadata": {},
     "output_type": "execute_result"
    }
   ],
   "source": [
    "lr.score(x_test,y_test)"
   ]
  },
  {
   "cell_type": "code",
   "execution_count": 74,
   "id": "3196e0dd",
   "metadata": {},
   "outputs": [
    {
     "name": "stdout",
     "output_type": "stream",
     "text": [
      "Cross validation score:  57.94236492363108\n"
     ]
    }
   ],
   "source": [
    "# finding cross val score \n",
    "\n",
    "scr=cross_val_score(lr,x,y,cv=5)\n",
    "print('Cross validation score: ',scr.mean()*100)"
   ]
  },
  {
   "cell_type": "markdown",
   "id": "5948bcc9",
   "metadata": {},
   "source": [
    "Error Calculating"
   ]
  },
  {
   "cell_type": "code",
   "execution_count": 75,
   "id": "53d70330",
   "metadata": {},
   "outputs": [
    {
     "data": {
      "text/plain": [
       "0.43552453363181787"
      ]
     },
     "execution_count": 75,
     "metadata": {},
     "output_type": "execute_result"
    }
   ],
   "source": [
    "mean_squared_error(y_test,y_pred_test)"
   ]
  },
  {
   "cell_type": "code",
   "execution_count": 76,
   "id": "40da827f",
   "metadata": {},
   "outputs": [
    {
     "data": {
      "text/plain": [
       "0.5223308956000042"
      ]
     },
     "execution_count": 76,
     "metadata": {},
     "output_type": "execute_result"
    }
   ],
   "source": [
    "mean_absolute_error(y_test,y_pred_test)"
   ]
  },
  {
   "cell_type": "code",
   "execution_count": 77,
   "id": "781b84f4",
   "metadata": {},
   "outputs": [
    {
     "data": {
      "text/plain": [
       "0.7227246333147945"
      ]
     },
     "execution_count": 77,
     "metadata": {},
     "output_type": "execute_result"
    }
   ],
   "source": [
    "np.sqrt(mean_absolute_error(y_test,y_pred_test))"
   ]
  },
  {
   "cell_type": "markdown",
   "id": "c87a0766",
   "metadata": {},
   "source": [
    "# KNeighbores Regressor"
   ]
  },
  {
   "cell_type": "code",
   "execution_count": 79,
   "id": "7d5e9524",
   "metadata": {},
   "outputs": [
    {
     "data": {
      "text/plain": [
       "KNeighborsRegressor()"
      ]
     },
     "execution_count": 79,
     "metadata": {},
     "output_type": "execute_result"
    }
   ],
   "source": [
    "knn=KNeighborsRegressor()\n",
    "knn.fit(x_train,y_train)"
   ]
  },
  {
   "cell_type": "code",
   "execution_count": 80,
   "id": "6124b3dc",
   "metadata": {},
   "outputs": [],
   "source": [
    "y_pred_test=knn.predict(x_test)"
   ]
  },
  {
   "cell_type": "code",
   "execution_count": 81,
   "id": "3636c75d",
   "metadata": {},
   "outputs": [
    {
     "data": {
      "text/plain": [
       "array([7.49827676, 7.89484181, 6.75448181, ..., 7.49769284, 8.16327529,\n",
       "       7.34049207])"
      ]
     },
     "execution_count": 81,
     "metadata": {},
     "output_type": "execute_result"
    }
   ],
   "source": [
    "y_pred=knn.predict(data_test)\n",
    "y_pred"
   ]
  },
  {
   "cell_type": "markdown",
   "id": "cd2851c7",
   "metadata": {},
   "source": [
    "Metric Evaluvation"
   ]
  },
  {
   "cell_type": "code",
   "execution_count": 82,
   "id": "521da82c",
   "metadata": {},
   "outputs": [
    {
     "data": {
      "text/plain": [
       "65.42526724475877"
      ]
     },
     "execution_count": 82,
     "metadata": {},
     "output_type": "execute_result"
    }
   ],
   "source": [
    "knn.score(x_test,y_test)*100"
   ]
  },
  {
   "cell_type": "code",
   "execution_count": 83,
   "id": "9078dd9b",
   "metadata": {},
   "outputs": [
    {
     "name": "stdout",
     "output_type": "stream",
     "text": [
      "Cross validation score:  65.73481607168694\n"
     ]
    }
   ],
   "source": [
    "# finding cross val score\n",
    "\n",
    "scr=cross_val_score(knn,x,y,cv=5)\n",
    "print('Cross validation score: ',scr.mean()*100)"
   ]
  },
  {
   "cell_type": "markdown",
   "id": "a34893f0",
   "metadata": {},
   "source": [
    "Error Calculation"
   ]
  },
  {
   "cell_type": "code",
   "execution_count": 84,
   "id": "48477d6b",
   "metadata": {},
   "outputs": [
    {
     "data": {
      "text/plain": [
       "0.35393303133339205"
      ]
     },
     "execution_count": 84,
     "metadata": {},
     "output_type": "execute_result"
    }
   ],
   "source": [
    "mean_squared_error(y_test,y_pred_test)"
   ]
  },
  {
   "cell_type": "code",
   "execution_count": 85,
   "id": "576bea4e",
   "metadata": {},
   "outputs": [
    {
     "data": {
      "text/plain": [
       "0.460361085814657"
      ]
     },
     "execution_count": 85,
     "metadata": {},
     "output_type": "execute_result"
    }
   ],
   "source": [
    "mean_absolute_error(y_test,y_pred_test)"
   ]
  },
  {
   "cell_type": "code",
   "execution_count": 86,
   "id": "290cf980",
   "metadata": {},
   "outputs": [
    {
     "data": {
      "text/plain": [
       "0.6784991420883721"
      ]
     },
     "execution_count": 86,
     "metadata": {},
     "output_type": "execute_result"
    }
   ],
   "source": [
    "np.sqrt(mean_absolute_error(y_test,y_pred_test))"
   ]
  },
  {
   "cell_type": "markdown",
   "id": "80b091fa",
   "metadata": {},
   "source": [
    "# Decision Tree Regressor"
   ]
  },
  {
   "cell_type": "code",
   "execution_count": 87,
   "id": "f2241230",
   "metadata": {},
   "outputs": [
    {
     "data": {
      "text/plain": [
       "DecisionTreeRegressor()"
      ]
     },
     "execution_count": 87,
     "metadata": {},
     "output_type": "execute_result"
    }
   ],
   "source": [
    "DT=DecisionTreeRegressor()\n",
    "DT.fit(x_train,y_train)"
   ]
  },
  {
   "cell_type": "code",
   "execution_count": 89,
   "id": "689ddbad",
   "metadata": {},
   "outputs": [
    {
     "data": {
      "text/plain": [
       "array([7.30813548, 9.00451342, 6.50747023, ..., 7.64409748, 6.26716639,\n",
       "       7.96459234])"
      ]
     },
     "execution_count": 89,
     "metadata": {},
     "output_type": "execute_result"
    }
   ],
   "source": [
    "# predicting for x_test\n",
    "\n",
    "y_pred_test=DT.predict(x_test)\n",
    "y_pred_test"
   ]
  },
  {
   "cell_type": "code",
   "execution_count": 90,
   "id": "1cd41533",
   "metadata": {},
   "outputs": [
    {
     "data": {
      "text/plain": [
       "array([7.36451281, 7.15409647, 6.18833394, ..., 7.78787817, 8.06678919,\n",
       "       6.94663747])"
      ]
     },
     "execution_count": 90,
     "metadata": {},
     "output_type": "execute_result"
    }
   ],
   "source": [
    "# predicting for data_test\n",
    "y_pred=DT.predict(data_test)\n",
    "y_pred"
   ]
  },
  {
   "cell_type": "markdown",
   "id": "8b7b8d5e",
   "metadata": {},
   "source": [
    "Metric Evalivation"
   ]
  },
  {
   "cell_type": "code",
   "execution_count": 91,
   "id": "2e13ad28",
   "metadata": {},
   "outputs": [
    {
     "data": {
      "text/plain": [
       "44.471020949823924"
      ]
     },
     "execution_count": 91,
     "metadata": {},
     "output_type": "execute_result"
    }
   ],
   "source": [
    "# score\n",
    "\n",
    "DT.score(x_test,y_test)*100"
   ]
  },
  {
   "cell_type": "code",
   "execution_count": 92,
   "id": "1dd1da62",
   "metadata": {},
   "outputs": [
    {
     "name": "stdout",
     "output_type": "stream",
     "text": [
      "Cross validation score:  45.22255606635448\n"
     ]
    }
   ],
   "source": [
    "# finding cross val score\n",
    "\n",
    "scr=cross_val_score(DT,x,y,cv=5)\n",
    "print('Cross validation score: ',scr.mean()*100)"
   ]
  },
  {
   "cell_type": "markdown",
   "id": "e0c5892b",
   "metadata": {},
   "source": [
    "Error Calculation"
   ]
  },
  {
   "cell_type": "code",
   "execution_count": 93,
   "id": "3d3a9ae5",
   "metadata": {},
   "outputs": [
    {
     "data": {
      "text/plain": [
       "0.5684364943962705"
      ]
     },
     "execution_count": 93,
     "metadata": {},
     "output_type": "execute_result"
    }
   ],
   "source": [
    "mean_squared_error(y_test,y_pred_test)"
   ]
  },
  {
   "cell_type": "code",
   "execution_count": 94,
   "id": "6920c8b2",
   "metadata": {},
   "outputs": [
    {
     "data": {
      "text/plain": [
       "0.576025346679597"
      ]
     },
     "execution_count": 94,
     "metadata": {},
     "output_type": "execute_result"
    }
   ],
   "source": [
    "mean_absolute_error(y_test,y_pred_test)"
   ]
  },
  {
   "cell_type": "code",
   "execution_count": 95,
   "id": "d35dd8f2",
   "metadata": {},
   "outputs": [
    {
     "data": {
      "text/plain": [
       "0.7589633368480964"
      ]
     },
     "execution_count": 95,
     "metadata": {},
     "output_type": "execute_result"
    }
   ],
   "source": [
    "np.sqrt(mean_absolute_error(y_test,y_pred_test))"
   ]
  },
  {
   "cell_type": "markdown",
   "id": "c3bb9c9f",
   "metadata": {},
   "source": [
    "# Random Forest Regression"
   ]
  },
  {
   "cell_type": "code",
   "execution_count": 96,
   "id": "c57a3f22",
   "metadata": {},
   "outputs": [
    {
     "data": {
      "text/plain": [
       "RandomForestRegressor()"
      ]
     },
     "execution_count": 96,
     "metadata": {},
     "output_type": "execute_result"
    }
   ],
   "source": [
    "RF=RandomForestRegressor()\n",
    "RF.fit(x_train,y_train)"
   ]
  },
  {
   "cell_type": "code",
   "execution_count": 98,
   "id": "2e9c44e3",
   "metadata": {},
   "outputs": [
    {
     "data": {
      "text/plain": [
       "array([7.25958535, 7.16785407, 6.48014502, ..., 7.33385137, 8.0892228 ,\n",
       "       7.01814799])"
      ]
     },
     "execution_count": 98,
     "metadata": {},
     "output_type": "execute_result"
    }
   ],
   "source": [
    "y_pred=RF.predict(data_test)\n",
    "y_pred"
   ]
  },
  {
   "cell_type": "markdown",
   "id": "0778e52a",
   "metadata": {},
   "source": [
    "Metric Evaluvation"
   ]
  },
  {
   "cell_type": "code",
   "execution_count": 99,
   "id": "ca2eb9fa",
   "metadata": {},
   "outputs": [
    {
     "data": {
      "text/plain": [
       "68.47663633995604"
      ]
     },
     "execution_count": 99,
     "metadata": {},
     "output_type": "execute_result"
    }
   ],
   "source": [
    "RF.score(x_test,y_test)*100"
   ]
  },
  {
   "cell_type": "code",
   "execution_count": 100,
   "id": "2640b275",
   "metadata": {},
   "outputs": [
    {
     "name": "stdout",
     "output_type": "stream",
     "text": [
      "Cross validation score:  69.51577224427375\n"
     ]
    }
   ],
   "source": [
    "# finding cross val score\n",
    "\n",
    "scr=cross_val_score(RF,x,y,cv=5)\n",
    "print('Cross validation score: ',scr.mean()*100)"
   ]
  },
  {
   "cell_type": "markdown",
   "id": "86db1ddd",
   "metadata": {},
   "source": [
    "Error Calculation"
   ]
  },
  {
   "cell_type": "code",
   "execution_count": 101,
   "id": "3bf4cfa3",
   "metadata": {},
   "outputs": [
    {
     "data": {
      "text/plain": [
       "0.5684364943962705"
      ]
     },
     "execution_count": 101,
     "metadata": {},
     "output_type": "execute_result"
    }
   ],
   "source": [
    "mean_squared_error(y_test,y_pred_test)"
   ]
  },
  {
   "cell_type": "code",
   "execution_count": 102,
   "id": "3d3d9cc2",
   "metadata": {},
   "outputs": [
    {
     "data": {
      "text/plain": [
       "0.576025346679597"
      ]
     },
     "execution_count": 102,
     "metadata": {},
     "output_type": "execute_result"
    }
   ],
   "source": [
    "mean_absolute_error(y_test,y_pred_test)"
   ]
  },
  {
   "cell_type": "code",
   "execution_count": 103,
   "id": "05bc0f67",
   "metadata": {},
   "outputs": [
    {
     "data": {
      "text/plain": [
       "0.7589633368480964"
      ]
     },
     "execution_count": 103,
     "metadata": {},
     "output_type": "execute_result"
    }
   ],
   "source": [
    "np.sqrt(mean_absolute_error(y_test,y_pred_test))"
   ]
  },
  {
   "cell_type": "markdown",
   "id": "917f27d0",
   "metadata": {},
   "source": [
    "# Lasso Regressor"
   ]
  },
  {
   "cell_type": "code",
   "execution_count": 104,
   "id": "bf4c39a6",
   "metadata": {},
   "outputs": [
    {
     "data": {
      "text/plain": [
       "Lasso()"
      ]
     },
     "execution_count": 104,
     "metadata": {},
     "output_type": "execute_result"
    }
   ],
   "source": [
    "lp=Lasso()\n",
    "lp.fit(x_train,y_train)"
   ]
  },
  {
   "cell_type": "code",
   "execution_count": 105,
   "id": "1f38c559",
   "metadata": {},
   "outputs": [
    {
     "data": {
      "text/plain": [
       "array([7.29123116, 7.29123116, 7.29123116, ..., 7.29123116, 7.29123116,\n",
       "       7.29123116])"
      ]
     },
     "execution_count": 105,
     "metadata": {},
     "output_type": "execute_result"
    }
   ],
   "source": [
    "y_pred=lp.predict(data_test)\n",
    "y_pred"
   ]
  },
  {
   "cell_type": "markdown",
   "id": "15b88917",
   "metadata": {},
   "source": [
    "Metric Evaluvation"
   ]
  },
  {
   "cell_type": "code",
   "execution_count": 106,
   "id": "522ee1e7",
   "metadata": {},
   "outputs": [
    {
     "data": {
      "text/plain": [
       "-0.0687331309938255"
      ]
     },
     "execution_count": 106,
     "metadata": {},
     "output_type": "execute_result"
    }
   ],
   "source": [
    "lp.score(x_test,y_test)*100"
   ]
  },
  {
   "cell_type": "code",
   "execution_count": 107,
   "id": "e3ced035",
   "metadata": {},
   "outputs": [
    {
     "name": "stdout",
     "output_type": "stream",
     "text": [
      "Cross validation score:  -0.0670918559903777\n"
     ]
    }
   ],
   "source": [
    "# finding cross val score\n",
    "\n",
    "scr=cross_val_score(lp,x,y,cv=5)\n",
    "print('Cross validation score: ',scr.mean()*100)"
   ]
  },
  {
   "cell_type": "markdown",
   "id": "323d3f0f",
   "metadata": {},
   "source": [
    "Error Calculation"
   ]
  },
  {
   "cell_type": "code",
   "execution_count": 109,
   "id": "e5bdaa4d",
   "metadata": {},
   "outputs": [
    {
     "data": {
      "text/plain": [
       "0.5684364943962705"
      ]
     },
     "execution_count": 109,
     "metadata": {},
     "output_type": "execute_result"
    }
   ],
   "source": [
    "mean_squared_error(y_test,y_pred_test)"
   ]
  },
  {
   "cell_type": "code",
   "execution_count": 110,
   "id": "6d9f47ce",
   "metadata": {},
   "outputs": [
    {
     "data": {
      "text/plain": [
       "0.576025346679597"
      ]
     },
     "execution_count": 110,
     "metadata": {},
     "output_type": "execute_result"
    }
   ],
   "source": [
    "mean_absolute_error(y_test,y_pred_test)"
   ]
  },
  {
   "cell_type": "code",
   "execution_count": 111,
   "id": "5b097bd4",
   "metadata": {},
   "outputs": [
    {
     "data": {
      "text/plain": [
       "0.7589633368480964"
      ]
     },
     "execution_count": 111,
     "metadata": {},
     "output_type": "execute_result"
    }
   ],
   "source": [
    "np.sqrt(mean_absolute_error(y_test,y_pred_test))"
   ]
  },
  {
   "cell_type": "markdown",
   "id": "8b8c7ef7",
   "metadata": {},
   "source": [
    "# Ridge Regressor"
   ]
  },
  {
   "cell_type": "code",
   "execution_count": 112,
   "id": "cda73942",
   "metadata": {},
   "outputs": [
    {
     "data": {
      "text/plain": [
       "Ridge()"
      ]
     },
     "execution_count": 112,
     "metadata": {},
     "output_type": "execute_result"
    }
   ],
   "source": [
    "# initiating the model\n",
    "\n",
    "rp=Ridge()\n",
    "rp.fit(x_train,y_train)"
   ]
  },
  {
   "cell_type": "code",
   "execution_count": 115,
   "id": "6b6060fb",
   "metadata": {},
   "outputs": [
    {
     "data": {
      "text/plain": [
       "array([7.74445265, 9.09787146, 6.38303112, ..., 7.45373396, 7.27136495,\n",
       "       7.36833328])"
      ]
     },
     "execution_count": 115,
     "metadata": {},
     "output_type": "execute_result"
    }
   ],
   "source": [
    "# predicting for test data\n",
    "\n",
    "y_pred_test=rp.predict(x_test)\n",
    "y_pred_test"
   ]
  },
  {
   "cell_type": "code",
   "execution_count": 117,
   "id": "50881d48",
   "metadata": {},
   "outputs": [
    {
     "data": {
      "text/plain": [
       "array([7.48311766, 7.01090433, 6.87992463, ..., 7.15632146, 8.09134175,\n",
       "       6.83027048])"
      ]
     },
     "execution_count": 117,
     "metadata": {},
     "output_type": "execute_result"
    }
   ],
   "source": [
    "# predicting data_test\n",
    "\n",
    "y_pred=rp.predict(data_test)\n",
    "y_pred"
   ]
  },
  {
   "cell_type": "markdown",
   "id": "1a7fc2cf",
   "metadata": {},
   "source": [
    "Metric evaluvation"
   ]
  },
  {
   "cell_type": "code",
   "execution_count": 118,
   "id": "4fc404cd",
   "metadata": {},
   "outputs": [
    {
     "data": {
      "text/plain": [
       "0.5745428543594486"
      ]
     },
     "execution_count": 118,
     "metadata": {},
     "output_type": "execute_result"
    }
   ],
   "source": [
    "# finding the score\n",
    "\n",
    "rp.score(x_test,y_test)"
   ]
  },
  {
   "cell_type": "code",
   "execution_count": 119,
   "id": "7191c428",
   "metadata": {},
   "outputs": [
    {
     "name": "stdout",
     "output_type": "stream",
     "text": [
      "Cross validation score:  57.94247924679177\n"
     ]
    }
   ],
   "source": [
    "# finding cross val score\n",
    "\n",
    "scr=cross_val_score(rp,x,y,cv=5)\n",
    "print('Cross validation score: ',scr.mean()*100)"
   ]
  },
  {
   "cell_type": "markdown",
   "id": "26a9e48c",
   "metadata": {},
   "source": [
    "Error Calculation"
   ]
  },
  {
   "cell_type": "code",
   "execution_count": 120,
   "id": "97553d4d",
   "metadata": {},
   "outputs": [
    {
     "data": {
      "text/plain": [
       "0.4355300106728538"
      ]
     },
     "execution_count": 120,
     "metadata": {},
     "output_type": "execute_result"
    }
   ],
   "source": [
    "mean_squared_error(y_test,y_pred_test)"
   ]
  },
  {
   "cell_type": "code",
   "execution_count": 121,
   "id": "d6f26924",
   "metadata": {},
   "outputs": [
    {
     "data": {
      "text/plain": [
       "0.5223257848257888"
      ]
     },
     "execution_count": 121,
     "metadata": {},
     "output_type": "execute_result"
    }
   ],
   "source": [
    "mean_absolute_error(y_test,y_pred_test)"
   ]
  },
  {
   "cell_type": "code",
   "execution_count": 122,
   "id": "512ce800",
   "metadata": {},
   "outputs": [
    {
     "data": {
      "text/plain": [
       "0.7227210975374864"
      ]
     },
     "execution_count": 122,
     "metadata": {},
     "output_type": "execute_result"
    }
   ],
   "source": [
    "np.sqrt(mean_absolute_error(y_test,y_pred_test))"
   ]
  },
  {
   "cell_type": "markdown",
   "id": "0c81237d",
   "metadata": {},
   "source": [
    "# Hyper Parameter Tuning"
   ]
  },
  {
   "cell_type": "code",
   "execution_count": 123,
   "id": "2ba2df74",
   "metadata": {},
   "outputs": [
    {
     "data": {
      "text/plain": [
       "{'bootstrap': True,\n",
       " 'max_features': 'log2',\n",
       " 'min_samples_split': 8,\n",
       " 'n_estimators': 30}"
      ]
     },
     "execution_count": 123,
     "metadata": {},
     "output_type": "execute_result"
    }
   ],
   "source": [
    "# Hyper Parameter Tuning GridSearchCV\n",
    "\n",
    "params={'n_estimators':[10,20,30],'max_features':['auto','sqrt','log2'],'min_samples_split':[2,4,8],'bootstrap':[True, False]}\n",
    "grid = GridSearchCV(RF,param_grid=params)\n",
    "grid.fit(x_train,y_train)\n",
    "grid.best_params_"
   ]
  },
  {
   "cell_type": "markdown",
   "id": "4069be81",
   "metadata": {},
   "source": [
    "# Random Forest Tuning"
   ]
  },
  {
   "cell_type": "code",
   "execution_count": 126,
   "id": "09c9f4c3",
   "metadata": {},
   "outputs": [],
   "source": [
    "RF=RandomForestRegressor(bootstrap=True,max_features='log2',min_samples_split=8,min_samples_leaf=2,n_estimators=30)\n",
    "RF.fit(x_train,y_train)\n",
    "y_pred=RF.predict(data_test)"
   ]
  },
  {
   "cell_type": "code",
   "execution_count": 127,
   "id": "c4bf81d6",
   "metadata": {},
   "outputs": [
    {
     "data": {
      "text/plain": [
       "70.99486472987829"
      ]
     },
     "execution_count": 127,
     "metadata": {},
     "output_type": "execute_result"
    }
   ],
   "source": [
    "RF.score(x_test,y_test)*100\n"
   ]
  },
  {
   "cell_type": "code",
   "execution_count": 129,
   "id": "55c5d720",
   "metadata": {},
   "outputs": [
    {
     "name": "stdout",
     "output_type": "stream",
     "text": [
      "Cross validation score:  71.6518511334917\n"
     ]
    }
   ],
   "source": [
    "#Finding cross val score\n",
    "\n",
    "scr=cross_val_score(RF,x,y,cv=5)\n",
    "print('Cross validation score: ',scr.mean()*100)"
   ]
  },
  {
   "cell_type": "code",
   "execution_count": 130,
   "id": "2cf6a39b",
   "metadata": {},
   "outputs": [
    {
     "data": {
      "text/plain": [
       "0.4355300106728538"
      ]
     },
     "execution_count": 130,
     "metadata": {},
     "output_type": "execute_result"
    }
   ],
   "source": [
    "mean_squared_error(y_test,y_pred_test)"
   ]
  },
  {
   "cell_type": "code",
   "execution_count": 131,
   "id": "616d9a49",
   "metadata": {},
   "outputs": [
    {
     "data": {
      "text/plain": [
       "0.5223257848257888"
      ]
     },
     "execution_count": 131,
     "metadata": {},
     "output_type": "execute_result"
    }
   ],
   "source": [
    "mean_absolute_error(y_test,y_pred_test)"
   ]
  },
  {
   "cell_type": "code",
   "execution_count": 132,
   "id": "ab984b33",
   "metadata": {},
   "outputs": [
    {
     "data": {
      "text/plain": [
       "0.7227210975374864"
      ]
     },
     "execution_count": 132,
     "metadata": {},
     "output_type": "execute_result"
    }
   ],
   "source": [
    "np.sqrt(mean_absolute_error(y_test,y_pred_test))"
   ]
  },
  {
   "cell_type": "markdown",
   "id": "bea87ab6",
   "metadata": {},
   "source": [
    "Seems to be our score got improved by using hyper parameter tuning.\n",
    "So,our best fit model is Random forest Regression\n"
   ]
  },
  {
   "cell_type": "markdown",
   "id": "7f1c2819",
   "metadata": {},
   "source": [
    "# Model Saving "
   ]
  },
  {
   "cell_type": "code",
   "execution_count": 136,
   "id": "fcea0027",
   "metadata": {},
   "outputs": [
    {
     "data": {
      "text/plain": [
       "['Big Data Sales Prediction.pkl']"
      ]
     },
     "execution_count": 136,
     "metadata": {},
     "output_type": "execute_result"
    }
   ],
   "source": [
    "import joblib\n",
    "joblib.dump(RF,\"Big Data Sales Prediction.pkl\") "
   ]
  }
 ],
 "metadata": {
  "kernelspec": {
   "display_name": "Python 3",
   "language": "python",
   "name": "python3"
  },
  "language_info": {
   "codemirror_mode": {
    "name": "ipython",
    "version": 3
   },
   "file_extension": ".py",
   "mimetype": "text/x-python",
   "name": "python",
   "nbconvert_exporter": "python",
   "pygments_lexer": "ipython3",
   "version": "3.8.8"
  }
 },
 "nbformat": 4,
 "nbformat_minor": 5
}
