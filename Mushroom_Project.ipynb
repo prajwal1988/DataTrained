{
 "cells": [
  {
   "cell_type": "code",
   "execution_count": 1,
   "id": "702c90db",
   "metadata": {},
   "outputs": [],
   "source": [
    "#lets import libraries\n",
    "import pandas as pd\n",
    "import numpy as np\n",
    "import matplotlib.pyplot as plt\n",
    "import warnings\n",
    "warnings.filterwarnings('ignore')\n",
    "import seaborn as sns\n",
    "from sklearn.metrics import accuracy_score,confusion_matrix,classification_report\n",
    "from sklearn.model_selection import train_test_split\n",
    "from scipy.stats import zscore"
   ]
  },
  {
   "cell_type": "code",
   "execution_count": 2,
   "id": "0a33ae05",
   "metadata": {},
   "outputs": [
    {
     "data": {
      "text/html": [
       "<div>\n",
       "<style scoped>\n",
       "    .dataframe tbody tr th:only-of-type {\n",
       "        vertical-align: middle;\n",
       "    }\n",
       "\n",
       "    .dataframe tbody tr th {\n",
       "        vertical-align: top;\n",
       "    }\n",
       "\n",
       "    .dataframe thead th {\n",
       "        text-align: right;\n",
       "    }\n",
       "</style>\n",
       "<table border=\"1\" class=\"dataframe\">\n",
       "  <thead>\n",
       "    <tr style=\"text-align: right;\">\n",
       "      <th></th>\n",
       "      <th>class</th>\n",
       "      <th>cap-shape</th>\n",
       "      <th>cap-surface</th>\n",
       "      <th>cap-color</th>\n",
       "      <th>bruises</th>\n",
       "      <th>odor</th>\n",
       "      <th>gill-attachment</th>\n",
       "      <th>gill-spacing</th>\n",
       "      <th>gill-size</th>\n",
       "      <th>gill-color</th>\n",
       "      <th>...</th>\n",
       "      <th>stalk-surface-below-ring</th>\n",
       "      <th>stalk-color-above-ring</th>\n",
       "      <th>stalk-color-below-ring</th>\n",
       "      <th>veil-type</th>\n",
       "      <th>veil-color</th>\n",
       "      <th>ring-number</th>\n",
       "      <th>ring-type</th>\n",
       "      <th>spore-print-color</th>\n",
       "      <th>population</th>\n",
       "      <th>habitat</th>\n",
       "    </tr>\n",
       "  </thead>\n",
       "  <tbody>\n",
       "    <tr>\n",
       "      <th>0</th>\n",
       "      <td>p</td>\n",
       "      <td>x</td>\n",
       "      <td>s</td>\n",
       "      <td>n</td>\n",
       "      <td>t</td>\n",
       "      <td>p</td>\n",
       "      <td>f</td>\n",
       "      <td>c</td>\n",
       "      <td>n</td>\n",
       "      <td>k</td>\n",
       "      <td>...</td>\n",
       "      <td>s</td>\n",
       "      <td>w</td>\n",
       "      <td>w</td>\n",
       "      <td>p</td>\n",
       "      <td>w</td>\n",
       "      <td>o</td>\n",
       "      <td>p</td>\n",
       "      <td>k</td>\n",
       "      <td>s</td>\n",
       "      <td>u</td>\n",
       "    </tr>\n",
       "    <tr>\n",
       "      <th>1</th>\n",
       "      <td>e</td>\n",
       "      <td>x</td>\n",
       "      <td>s</td>\n",
       "      <td>y</td>\n",
       "      <td>t</td>\n",
       "      <td>a</td>\n",
       "      <td>f</td>\n",
       "      <td>c</td>\n",
       "      <td>b</td>\n",
       "      <td>k</td>\n",
       "      <td>...</td>\n",
       "      <td>s</td>\n",
       "      <td>w</td>\n",
       "      <td>w</td>\n",
       "      <td>p</td>\n",
       "      <td>w</td>\n",
       "      <td>o</td>\n",
       "      <td>p</td>\n",
       "      <td>n</td>\n",
       "      <td>n</td>\n",
       "      <td>g</td>\n",
       "    </tr>\n",
       "    <tr>\n",
       "      <th>2</th>\n",
       "      <td>e</td>\n",
       "      <td>b</td>\n",
       "      <td>s</td>\n",
       "      <td>w</td>\n",
       "      <td>t</td>\n",
       "      <td>l</td>\n",
       "      <td>f</td>\n",
       "      <td>c</td>\n",
       "      <td>b</td>\n",
       "      <td>n</td>\n",
       "      <td>...</td>\n",
       "      <td>s</td>\n",
       "      <td>w</td>\n",
       "      <td>w</td>\n",
       "      <td>p</td>\n",
       "      <td>w</td>\n",
       "      <td>o</td>\n",
       "      <td>p</td>\n",
       "      <td>n</td>\n",
       "      <td>n</td>\n",
       "      <td>m</td>\n",
       "    </tr>\n",
       "    <tr>\n",
       "      <th>3</th>\n",
       "      <td>p</td>\n",
       "      <td>x</td>\n",
       "      <td>y</td>\n",
       "      <td>w</td>\n",
       "      <td>t</td>\n",
       "      <td>p</td>\n",
       "      <td>f</td>\n",
       "      <td>c</td>\n",
       "      <td>n</td>\n",
       "      <td>n</td>\n",
       "      <td>...</td>\n",
       "      <td>s</td>\n",
       "      <td>w</td>\n",
       "      <td>w</td>\n",
       "      <td>p</td>\n",
       "      <td>w</td>\n",
       "      <td>o</td>\n",
       "      <td>p</td>\n",
       "      <td>k</td>\n",
       "      <td>s</td>\n",
       "      <td>u</td>\n",
       "    </tr>\n",
       "    <tr>\n",
       "      <th>4</th>\n",
       "      <td>e</td>\n",
       "      <td>x</td>\n",
       "      <td>s</td>\n",
       "      <td>g</td>\n",
       "      <td>f</td>\n",
       "      <td>n</td>\n",
       "      <td>f</td>\n",
       "      <td>w</td>\n",
       "      <td>b</td>\n",
       "      <td>k</td>\n",
       "      <td>...</td>\n",
       "      <td>s</td>\n",
       "      <td>w</td>\n",
       "      <td>w</td>\n",
       "      <td>p</td>\n",
       "      <td>w</td>\n",
       "      <td>o</td>\n",
       "      <td>e</td>\n",
       "      <td>n</td>\n",
       "      <td>a</td>\n",
       "      <td>g</td>\n",
       "    </tr>\n",
       "  </tbody>\n",
       "</table>\n",
       "<p>5 rows × 23 columns</p>\n",
       "</div>"
      ],
      "text/plain": [
       "  class cap-shape cap-surface cap-color bruises odor gill-attachment  \\\n",
       "0     p         x           s         n       t    p               f   \n",
       "1     e         x           s         y       t    a               f   \n",
       "2     e         b           s         w       t    l               f   \n",
       "3     p         x           y         w       t    p               f   \n",
       "4     e         x           s         g       f    n               f   \n",
       "\n",
       "  gill-spacing gill-size gill-color  ... stalk-surface-below-ring  \\\n",
       "0            c         n          k  ...                        s   \n",
       "1            c         b          k  ...                        s   \n",
       "2            c         b          n  ...                        s   \n",
       "3            c         n          n  ...                        s   \n",
       "4            w         b          k  ...                        s   \n",
       "\n",
       "  stalk-color-above-ring stalk-color-below-ring veil-type veil-color  \\\n",
       "0                      w                      w         p          w   \n",
       "1                      w                      w         p          w   \n",
       "2                      w                      w         p          w   \n",
       "3                      w                      w         p          w   \n",
       "4                      w                      w         p          w   \n",
       "\n",
       "  ring-number ring-type spore-print-color population habitat  \n",
       "0           o         p                 k          s       u  \n",
       "1           o         p                 n          n       g  \n",
       "2           o         p                 n          n       m  \n",
       "3           o         p                 k          s       u  \n",
       "4           o         e                 n          a       g  \n",
       "\n",
       "[5 rows x 23 columns]"
      ]
     },
     "execution_count": 2,
     "metadata": {},
     "output_type": "execute_result"
    }
   ],
   "source": [
    "#Reading the data from CSV file and intiating to a variable named data\n",
    "data=pd.read_csv(\"mushrooms.csv\")\n",
    "data.head() "
   ]
  },
  {
   "cell_type": "code",
   "execution_count": 3,
   "id": "caf41294",
   "metadata": {},
   "outputs": [
    {
     "data": {
      "text/plain": [
       "(8124, 23)"
      ]
     },
     "execution_count": 3,
     "metadata": {},
     "output_type": "execute_result"
    }
   ],
   "source": [
    "#Checking for no of rows and no of columns of the dataset\n",
    "data.shape"
   ]
  },
  {
   "cell_type": "code",
   "execution_count": 4,
   "id": "7ab3410b",
   "metadata": {},
   "outputs": [
    {
     "name": "stdout",
     "output_type": "stream",
     "text": [
      "<class 'pandas.core.frame.DataFrame'>\n",
      "RangeIndex: 8124 entries, 0 to 8123\n",
      "Data columns (total 23 columns):\n",
      " #   Column                    Non-Null Count  Dtype \n",
      "---  ------                    --------------  ----- \n",
      " 0   class                     8124 non-null   object\n",
      " 1   cap-shape                 8124 non-null   object\n",
      " 2   cap-surface               8124 non-null   object\n",
      " 3   cap-color                 8124 non-null   object\n",
      " 4   bruises                   8124 non-null   object\n",
      " 5   odor                      8124 non-null   object\n",
      " 6   gill-attachment           8124 non-null   object\n",
      " 7   gill-spacing              8124 non-null   object\n",
      " 8   gill-size                 8124 non-null   object\n",
      " 9   gill-color                8124 non-null   object\n",
      " 10  stalk-shape               8124 non-null   object\n",
      " 11  stalk-root                8124 non-null   object\n",
      " 12  stalk-surface-above-ring  8124 non-null   object\n",
      " 13  stalk-surface-below-ring  8124 non-null   object\n",
      " 14  stalk-color-above-ring    8124 non-null   object\n",
      " 15  stalk-color-below-ring    8124 non-null   object\n",
      " 16  veil-type                 8124 non-null   object\n",
      " 17  veil-color                8124 non-null   object\n",
      " 18  ring-number               8124 non-null   object\n",
      " 19  ring-type                 8124 non-null   object\n",
      " 20  spore-print-color         8124 non-null   object\n",
      " 21  population                8124 non-null   object\n",
      " 22  habitat                   8124 non-null   object\n",
      "dtypes: object(23)\n",
      "memory usage: 1.4+ MB\n"
     ]
    }
   ],
   "source": [
    "#Checking for Null values\n",
    "data.info()"
   ]
  },
  {
   "cell_type": "code",
   "execution_count": 5,
   "id": "0aa83900",
   "metadata": {},
   "outputs": [
    {
     "data": {
      "text/html": [
       "<div>\n",
       "<style scoped>\n",
       "    .dataframe tbody tr th:only-of-type {\n",
       "        vertical-align: middle;\n",
       "    }\n",
       "\n",
       "    .dataframe tbody tr th {\n",
       "        vertical-align: top;\n",
       "    }\n",
       "\n",
       "    .dataframe thead th {\n",
       "        text-align: right;\n",
       "    }\n",
       "</style>\n",
       "<table border=\"1\" class=\"dataframe\">\n",
       "  <thead>\n",
       "    <tr style=\"text-align: right;\">\n",
       "      <th></th>\n",
       "      <th>class</th>\n",
       "      <th>cap-shape</th>\n",
       "      <th>cap-surface</th>\n",
       "      <th>cap-color</th>\n",
       "      <th>bruises</th>\n",
       "      <th>odor</th>\n",
       "      <th>gill-attachment</th>\n",
       "      <th>gill-spacing</th>\n",
       "      <th>gill-size</th>\n",
       "      <th>gill-color</th>\n",
       "      <th>...</th>\n",
       "      <th>stalk-surface-below-ring</th>\n",
       "      <th>stalk-color-above-ring</th>\n",
       "      <th>stalk-color-below-ring</th>\n",
       "      <th>veil-type</th>\n",
       "      <th>veil-color</th>\n",
       "      <th>ring-number</th>\n",
       "      <th>ring-type</th>\n",
       "      <th>spore-print-color</th>\n",
       "      <th>population</th>\n",
       "      <th>habitat</th>\n",
       "    </tr>\n",
       "  </thead>\n",
       "  <tbody>\n",
       "    <tr>\n",
       "      <th>count</th>\n",
       "      <td>8124</td>\n",
       "      <td>8124</td>\n",
       "      <td>8124</td>\n",
       "      <td>8124</td>\n",
       "      <td>8124</td>\n",
       "      <td>8124</td>\n",
       "      <td>8124</td>\n",
       "      <td>8124</td>\n",
       "      <td>8124</td>\n",
       "      <td>8124</td>\n",
       "      <td>...</td>\n",
       "      <td>8124</td>\n",
       "      <td>8124</td>\n",
       "      <td>8124</td>\n",
       "      <td>8124</td>\n",
       "      <td>8124</td>\n",
       "      <td>8124</td>\n",
       "      <td>8124</td>\n",
       "      <td>8124</td>\n",
       "      <td>8124</td>\n",
       "      <td>8124</td>\n",
       "    </tr>\n",
       "    <tr>\n",
       "      <th>unique</th>\n",
       "      <td>2</td>\n",
       "      <td>6</td>\n",
       "      <td>4</td>\n",
       "      <td>10</td>\n",
       "      <td>2</td>\n",
       "      <td>9</td>\n",
       "      <td>2</td>\n",
       "      <td>2</td>\n",
       "      <td>2</td>\n",
       "      <td>12</td>\n",
       "      <td>...</td>\n",
       "      <td>4</td>\n",
       "      <td>9</td>\n",
       "      <td>9</td>\n",
       "      <td>1</td>\n",
       "      <td>4</td>\n",
       "      <td>3</td>\n",
       "      <td>5</td>\n",
       "      <td>9</td>\n",
       "      <td>6</td>\n",
       "      <td>7</td>\n",
       "    </tr>\n",
       "    <tr>\n",
       "      <th>top</th>\n",
       "      <td>e</td>\n",
       "      <td>x</td>\n",
       "      <td>y</td>\n",
       "      <td>n</td>\n",
       "      <td>f</td>\n",
       "      <td>n</td>\n",
       "      <td>f</td>\n",
       "      <td>c</td>\n",
       "      <td>b</td>\n",
       "      <td>b</td>\n",
       "      <td>...</td>\n",
       "      <td>s</td>\n",
       "      <td>w</td>\n",
       "      <td>w</td>\n",
       "      <td>p</td>\n",
       "      <td>w</td>\n",
       "      <td>o</td>\n",
       "      <td>p</td>\n",
       "      <td>w</td>\n",
       "      <td>v</td>\n",
       "      <td>d</td>\n",
       "    </tr>\n",
       "    <tr>\n",
       "      <th>freq</th>\n",
       "      <td>4208</td>\n",
       "      <td>3656</td>\n",
       "      <td>3244</td>\n",
       "      <td>2284</td>\n",
       "      <td>4748</td>\n",
       "      <td>3528</td>\n",
       "      <td>7914</td>\n",
       "      <td>6812</td>\n",
       "      <td>5612</td>\n",
       "      <td>1728</td>\n",
       "      <td>...</td>\n",
       "      <td>4936</td>\n",
       "      <td>4464</td>\n",
       "      <td>4384</td>\n",
       "      <td>8124</td>\n",
       "      <td>7924</td>\n",
       "      <td>7488</td>\n",
       "      <td>3968</td>\n",
       "      <td>2388</td>\n",
       "      <td>4040</td>\n",
       "      <td>3148</td>\n",
       "    </tr>\n",
       "  </tbody>\n",
       "</table>\n",
       "<p>4 rows × 23 columns</p>\n",
       "</div>"
      ],
      "text/plain": [
       "       class cap-shape cap-surface cap-color bruises  odor gill-attachment  \\\n",
       "count   8124      8124        8124      8124    8124  8124            8124   \n",
       "unique     2         6           4        10       2     9               2   \n",
       "top        e         x           y         n       f     n               f   \n",
       "freq    4208      3656        3244      2284    4748  3528            7914   \n",
       "\n",
       "       gill-spacing gill-size gill-color  ... stalk-surface-below-ring  \\\n",
       "count          8124      8124       8124  ...                     8124   \n",
       "unique            2         2         12  ...                        4   \n",
       "top               c         b          b  ...                        s   \n",
       "freq           6812      5612       1728  ...                     4936   \n",
       "\n",
       "       stalk-color-above-ring stalk-color-below-ring veil-type veil-color  \\\n",
       "count                    8124                   8124      8124       8124   \n",
       "unique                      9                      9         1          4   \n",
       "top                         w                      w         p          w   \n",
       "freq                     4464                   4384      8124       7924   \n",
       "\n",
       "       ring-number ring-type spore-print-color population habitat  \n",
       "count         8124      8124              8124       8124    8124  \n",
       "unique           3         5                 9          6       7  \n",
       "top              o         p                 w          v       d  \n",
       "freq          7488      3968              2388       4040    3148  \n",
       "\n",
       "[4 rows x 23 columns]"
      ]
     },
     "execution_count": 5,
     "metadata": {},
     "output_type": "execute_result"
    }
   ],
   "source": [
    "#Checking the statistics of the dataset\n",
    "data.describe()"
   ]
  },
  {
   "cell_type": "code",
   "execution_count": 6,
   "id": "36061c4f",
   "metadata": {},
   "outputs": [
    {
     "data": {
      "text/plain": [
       "class                       0\n",
       "cap-shape                   0\n",
       "cap-surface                 0\n",
       "cap-color                   0\n",
       "bruises                     0\n",
       "odor                        0\n",
       "gill-attachment             0\n",
       "gill-spacing                0\n",
       "gill-size                   0\n",
       "gill-color                  0\n",
       "stalk-shape                 0\n",
       "stalk-root                  0\n",
       "stalk-surface-above-ring    0\n",
       "stalk-surface-below-ring    0\n",
       "stalk-color-above-ring      0\n",
       "stalk-color-below-ring      0\n",
       "veil-type                   0\n",
       "veil-color                  0\n",
       "ring-number                 0\n",
       "ring-type                   0\n",
       "spore-print-color           0\n",
       "population                  0\n",
       "habitat                     0\n",
       "dtype: int64"
      ]
     },
     "execution_count": 6,
     "metadata": {},
     "output_type": "execute_result"
    }
   ],
   "source": [
    "#checking for null values\n",
    "data.isna().sum()"
   ]
  },
  {
   "cell_type": "code",
   "execution_count": 7,
   "id": "69b9a46c",
   "metadata": {},
   "outputs": [
    {
     "data": {
      "text/plain": [
       "e    4208\n",
       "p    3916\n",
       "Name: class, dtype: int64"
      ]
     },
     "execution_count": 7,
     "metadata": {},
     "output_type": "execute_result"
    }
   ],
   "source": [
    "data['class'].value_counts()"
   ]
  },
  {
   "cell_type": "markdown",
   "id": "f1850cb3",
   "metadata": {},
   "source": [
    "Two types of classes: e stands for edible and p stands for posionous"
   ]
  },
  {
   "cell_type": "code",
   "execution_count": 8,
   "id": "e533f1b6",
   "metadata": {},
   "outputs": [
    {
     "data": {
      "image/png": "[encoded data removed]",
      "text/plain": [
       "<Figure size 432x288 with 1 Axes>"
      ]
     },
     "metadata": {
      "needs_background": "light"
     },
     "output_type": "display_data"
    }
   ],
   "source": [
    "#plotting each class frequency\n",
    "sns.countplot(x='class',data=data)\n",
    "plt.show()"
   ]
  },
  {
   "cell_type": "code",
   "execution_count": 9,
   "id": "bd99a94e",
   "metadata": {},
   "outputs": [
    {
     "data": {
      "text/plain": [
       "<Figure size 1440x1800 with 0 Axes>"
      ]
     },
     "metadata": {},
     "output_type": "display_data"
    },
    {
     "data": {
      "image/png": "[encoded data removed]",
      "text/plain": [
       "<Figure size 860.4x576 with 2 Axes>"
      ]
     },
     "metadata": {
      "needs_background": "light"
     },
     "output_type": "display_data"
    }
   ],
   "source": [
    "#Plotting the cat plot to find the relation between two or more categorical variables data\n",
    "plt.figure(figsize=(20,25))\n",
    "catplot=sns.catplot(x='cap-shape',hue='cap-color',col='class',data=data,kind='count',height=8,aspect=.7)"
   ]
  },
  {
   "cell_type": "markdown",
   "id": "2eb0d341",
   "metadata": {},
   "source": [
    "\n",
    "From the above graph There r 2 types of building like strutures in that left side one is posionous one and the right side one is for edible purpose.So from that we can say that on 'x'shaped has same importance in both it means some of them r posisions and some r edible,in b shaped graph a very less r posionous and a few r edible but we cant say that they r edible or posionous,s shaped those mushrooms r neither posionous or edible,f shaped mushrooms has equal importance they r both posionous and edible,But in k shaped the posionous graph is more it means the k shaped mushrooms r more posionous.hence we cannot use them for eating.\n",
    "\n",
    "From graph we got to know that:\n",
    "\n",
    "bell shaped white coloured mushrooms r edible\n",
    "\n",
    "knobbed shaped red coloured mushrooms r posionous"
   ]
  },
  {
   "cell_type": "code",
   "execution_count": 10,
   "id": "aa9e10f8",
   "metadata": {},
   "outputs": [
    {
     "data": {
      "text/plain": [
       "<Figure size 1440x1800 with 0 Axes>"
      ]
     },
     "metadata": {},
     "output_type": "display_data"
    },
    {
     "data": {
      "image/png": "[encoded data removed]",
      "text/plain": [
       "<Figure size 850.65x576 with 2 Axes>"
      ]
     },
     "metadata": {
      "needs_background": "light"
     },
     "output_type": "display_data"
    }
   ],
   "source": [
    "#Plotting the cat plot to find the relation between two or more categorical variables data\n",
    "plt.figure(figsize=(20,25))\n",
    "catplot=sns.catplot(x='odor',hue='bruises',col='class',data=data,kind='count',height=8,aspect=.7)"
   ]
  },
  {
   "cell_type": "markdown",
   "id": "5199a121",
   "metadata": {},
   "source": [
    "From the above graph we can say that in n odor of edible graph, both mushrooms r bruised and not bruised but in f odor only non bruised mushrooms r more from that we can say that\n",
    "\n",
    "n=odorless,t=bruises\n",
    "\n",
    "odorless bruised mushrooms r used for eating(edible)\n",
    "\n",
    "f=fishy,f=not bruised\n",
    "\n",
    "fishy odor not bruised mushrooms r posionous"
   ]
  },
  {
   "cell_type": "code",
   "execution_count": 11,
   "id": "95bc20bd",
   "metadata": {},
   "outputs": [
    {
     "data": {
      "text/html": [
       "<div>\n",
       "<style scoped>\n",
       "    .dataframe tbody tr th:only-of-type {\n",
       "        vertical-align: middle;\n",
       "    }\n",
       "\n",
       "    .dataframe tbody tr th {\n",
       "        vertical-align: top;\n",
       "    }\n",
       "\n",
       "    .dataframe thead th {\n",
       "        text-align: right;\n",
       "    }\n",
       "</style>\n",
       "<table border=\"1\" class=\"dataframe\">\n",
       "  <thead>\n",
       "    <tr style=\"text-align: right;\">\n",
       "      <th></th>\n",
       "      <th>class</th>\n",
       "      <th>cap-shape</th>\n",
       "      <th>cap-surface</th>\n",
       "      <th>cap-color</th>\n",
       "      <th>bruises</th>\n",
       "      <th>odor</th>\n",
       "      <th>gill-attachment</th>\n",
       "      <th>gill-spacing</th>\n",
       "      <th>gill-size</th>\n",
       "      <th>gill-color</th>\n",
       "      <th>...</th>\n",
       "      <th>stalk-surface-below-ring</th>\n",
       "      <th>stalk-color-above-ring</th>\n",
       "      <th>stalk-color-below-ring</th>\n",
       "      <th>veil-type</th>\n",
       "      <th>veil-color</th>\n",
       "      <th>ring-number</th>\n",
       "      <th>ring-type</th>\n",
       "      <th>spore-print-color</th>\n",
       "      <th>population</th>\n",
       "      <th>habitat</th>\n",
       "    </tr>\n",
       "  </thead>\n",
       "  <tbody>\n",
       "    <tr>\n",
       "      <th>0</th>\n",
       "      <td>1</td>\n",
       "      <td>5</td>\n",
       "      <td>2</td>\n",
       "      <td>4</td>\n",
       "      <td>1</td>\n",
       "      <td>6</td>\n",
       "      <td>1</td>\n",
       "      <td>0</td>\n",
       "      <td>1</td>\n",
       "      <td>4</td>\n",
       "      <td>...</td>\n",
       "      <td>2</td>\n",
       "      <td>7</td>\n",
       "      <td>7</td>\n",
       "      <td>0</td>\n",
       "      <td>2</td>\n",
       "      <td>1</td>\n",
       "      <td>4</td>\n",
       "      <td>2</td>\n",
       "      <td>3</td>\n",
       "      <td>5</td>\n",
       "    </tr>\n",
       "    <tr>\n",
       "      <th>1</th>\n",
       "      <td>0</td>\n",
       "      <td>5</td>\n",
       "      <td>2</td>\n",
       "      <td>9</td>\n",
       "      <td>1</td>\n",
       "      <td>0</td>\n",
       "      <td>1</td>\n",
       "      <td>0</td>\n",
       "      <td>0</td>\n",
       "      <td>4</td>\n",
       "      <td>...</td>\n",
       "      <td>2</td>\n",
       "      <td>7</td>\n",
       "      <td>7</td>\n",
       "      <td>0</td>\n",
       "      <td>2</td>\n",
       "      <td>1</td>\n",
       "      <td>4</td>\n",
       "      <td>3</td>\n",
       "      <td>2</td>\n",
       "      <td>1</td>\n",
       "    </tr>\n",
       "    <tr>\n",
       "      <th>2</th>\n",
       "      <td>0</td>\n",
       "      <td>0</td>\n",
       "      <td>2</td>\n",
       "      <td>8</td>\n",
       "      <td>1</td>\n",
       "      <td>3</td>\n",
       "      <td>1</td>\n",
       "      <td>0</td>\n",
       "      <td>0</td>\n",
       "      <td>5</td>\n",
       "      <td>...</td>\n",
       "      <td>2</td>\n",
       "      <td>7</td>\n",
       "      <td>7</td>\n",
       "      <td>0</td>\n",
       "      <td>2</td>\n",
       "      <td>1</td>\n",
       "      <td>4</td>\n",
       "      <td>3</td>\n",
       "      <td>2</td>\n",
       "      <td>3</td>\n",
       "    </tr>\n",
       "    <tr>\n",
       "      <th>3</th>\n",
       "      <td>1</td>\n",
       "      <td>5</td>\n",
       "      <td>3</td>\n",
       "      <td>8</td>\n",
       "      <td>1</td>\n",
       "      <td>6</td>\n",
       "      <td>1</td>\n",
       "      <td>0</td>\n",
       "      <td>1</td>\n",
       "      <td>5</td>\n",
       "      <td>...</td>\n",
       "      <td>2</td>\n",
       "      <td>7</td>\n",
       "      <td>7</td>\n",
       "      <td>0</td>\n",
       "      <td>2</td>\n",
       "      <td>1</td>\n",
       "      <td>4</td>\n",
       "      <td>2</td>\n",
       "      <td>3</td>\n",
       "      <td>5</td>\n",
       "    </tr>\n",
       "    <tr>\n",
       "      <th>4</th>\n",
       "      <td>0</td>\n",
       "      <td>5</td>\n",
       "      <td>2</td>\n",
       "      <td>3</td>\n",
       "      <td>0</td>\n",
       "      <td>5</td>\n",
       "      <td>1</td>\n",
       "      <td>1</td>\n",
       "      <td>0</td>\n",
       "      <td>4</td>\n",
       "      <td>...</td>\n",
       "      <td>2</td>\n",
       "      <td>7</td>\n",
       "      <td>7</td>\n",
       "      <td>0</td>\n",
       "      <td>2</td>\n",
       "      <td>1</td>\n",
       "      <td>0</td>\n",
       "      <td>3</td>\n",
       "      <td>0</td>\n",
       "      <td>1</td>\n",
       "    </tr>\n",
       "  </tbody>\n",
       "</table>\n",
       "<p>5 rows × 23 columns</p>\n",
       "</div>"
      ],
      "text/plain": [
       "   class  cap-shape  cap-surface  cap-color  bruises  odor  gill-attachment  \\\n",
       "0      1          5            2          4        1     6                1   \n",
       "1      0          5            2          9        1     0                1   \n",
       "2      0          0            2          8        1     3                1   \n",
       "3      1          5            3          8        1     6                1   \n",
       "4      0          5            2          3        0     5                1   \n",
       "\n",
       "   gill-spacing  gill-size  gill-color  ...  stalk-surface-below-ring  \\\n",
       "0             0          1           4  ...                         2   \n",
       "1             0          0           4  ...                         2   \n",
       "2             0          0           5  ...                         2   \n",
       "3             0          1           5  ...                         2   \n",
       "4             1          0           4  ...                         2   \n",
       "\n",
       "   stalk-color-above-ring  stalk-color-below-ring  veil-type  veil-color  \\\n",
       "0                       7                       7          0           2   \n",
       "1                       7                       7          0           2   \n",
       "2                       7                       7          0           2   \n",
       "3                       7                       7          0           2   \n",
       "4                       7                       7          0           2   \n",
       "\n",
       "   ring-number  ring-type  spore-print-color  population  habitat  \n",
       "0            1          4                  2           3        5  \n",
       "1            1          4                  3           2        1  \n",
       "2            1          4                  3           2        3  \n",
       "3            1          4                  2           3        5  \n",
       "4            1          0                  3           0        1  \n",
       "\n",
       "[5 rows x 23 columns]"
      ]
     },
     "execution_count": 11,
     "metadata": {},
     "output_type": "execute_result"
    }
   ],
   "source": [
    "#Since we have categorical data lets use label encoder to change the categorical data to continous data so that our model can undersatnd\n",
    "from sklearn.preprocessing import LabelEncoder\n",
    "#Lets Intiate to one of the variable\n",
    "le=LabelEncoder()\n",
    "#lets fit the label encoder\n",
    "data=data.apply(le.fit_transform)\n",
    "data.head()"
   ]
  },
  {
   "cell_type": "markdown",
   "id": "68b763bc",
   "metadata": {},
   "source": [
    "\n",
    "from above plot we can know that the data set is not imbalanced.Now, Lets corrleate the classes with features weather the species r used for eating or r they posionous."
   ]
  },
  {
   "cell_type": "code",
   "execution_count": 12,
   "id": "71dd2b26",
   "metadata": {},
   "outputs": [],
   "source": [
    "x=data.drop(['class'],axis=1)\n",
    "y=data['class']"
   ]
  },
  {
   "cell_type": "code",
   "execution_count": 13,
   "id": "157166e0",
   "metadata": {},
   "outputs": [
    {
     "data": {
      "text/plain": [
       "<function matplotlib.pyplot.tight_layout(*, pad=1.08, h_pad=None, w_pad=None, rect=None)>"
      ]
     },
     "execution_count": 13,
     "metadata": {},
     "output_type": "execute_result"
    },
    {
     "data": {
      "image/png": "[encoded data removed]",
      "text/plain": [
       "<Figure size 1440x1080 with 2 Axes>"
      ]
     },
     "metadata": {
      "needs_background": "light"
     },
     "output_type": "display_data"
    }
   ],
   "source": [
    "#lets plot heat map and see how the features are corrleated to each other or to check multi collinearity\n",
    "df_corr=x.corr().abs()\n",
    "plt.figure(figsize=(20,15))\n",
    "sns.heatmap(df_corr,vmin=-1,vmax=1,annot=True,square=True,center=0,fmt='.1g')\n",
    "plt.tight_layout"
   ]
  },
  {
   "cell_type": "markdown",
   "id": "ac1be2ba",
   "metadata": {},
   "source": [
    "from above heat map we can say that there is no multicollinearity exists which mean there is no relation between one feature to the other feature"
   ]
  },
  {
   "cell_type": "code",
   "execution_count": 14,
   "id": "bd7d40c7",
   "metadata": {},
   "outputs": [],
   "source": [
    "#importing the required algorithm techniques used for the dataset\n",
    "from sklearn.linear_model import LogisticRegression\n",
    "from sklearn.neighbors import KNeighborsClassifier\n",
    "from sklearn.tree import DecisionTreeClassifier\n",
    "from sklearn.ensemble import RandomForestClassifier\n",
    "from sklearn.model_selection import train_test_split\n",
    "from sklearn.metrics import confusion_matrix,classification_report"
   ]
  },
  {
   "cell_type": "code",
   "execution_count": 15,
   "id": "43eee1c8",
   "metadata": {},
   "outputs": [
    {
     "data": {
      "text/plain": [
       "array([[ 1.02971224,  0.14012794, -0.19824983, ..., -0.67019486,\n",
       "        -0.5143892 ,  2.03002809],\n",
       "       [ 1.02971224,  0.14012794,  1.76587407, ..., -0.2504706 ,\n",
       "        -1.31310821, -0.29572966],\n",
       "       [-2.08704716,  0.14012794,  1.37304929, ..., -0.2504706 ,\n",
       "        -1.31310821,  0.86714922],\n",
       "       ...,\n",
       "       [-0.8403434 ,  0.14012794, -0.19824983, ..., -1.50964337,\n",
       "        -2.11182722,  0.28570978],\n",
       "       [-0.21699152,  0.95327039, -0.19824983, ...,  1.42842641,\n",
       "         0.28432981,  0.28570978],\n",
       "       [ 1.02971224,  0.14012794, -0.19824983, ...,  0.16925365,\n",
       "        -2.11182722,  0.28570978]])"
      ]
     },
     "execution_count": 15,
     "metadata": {},
     "output_type": "execute_result"
    }
   ],
   "source": [
    "from sklearn.preprocessing import StandardScaler\n",
    "scaler=StandardScaler()\n",
    "x_scaled=scaler.fit_transform(x)\n",
    "x_scaled"
   ]
  },
  {
   "cell_type": "markdown",
   "id": "7be37b71",
   "metadata": {},
   "source": [
    "# LOGISTIC REGRESSION ALGORITHM"
   ]
  },
  {
   "cell_type": "code",
   "execution_count": 16,
   "id": "61e9c5a4",
   "metadata": {},
   "outputs": [
    {
     "name": "stdout",
     "output_type": "stream",
     "text": [
      "\n",
      "--------------------------Train Result-------------------------\n",
      "Accuracy Score:95.39%\n",
      "____________________________________\n",
      "Classification Report:\n",
      "                     0            1  accuracy    macro avg  weighted avg\n",
      "precision     0.954503     0.953200  0.953882     0.953851      0.953880\n",
      "recall        0.957206     0.950257  0.953882     0.953732      0.953882\n",
      "f1-score      0.955852     0.951727  0.953882     0.953789      0.953878\n",
      "support    3178.000000  2915.000000  0.953882  6093.000000   6093.000000\n",
      "_____________________________________\n",
      "confusion matrix:\n",
      "[[3042  136]\n",
      " [ 145 2770]]\n",
      "\n"
     ]
    }
   ],
   "source": [
    "#lets split our data into training data and testing data\n",
    "x_train,x_test,y_train,y_test=train_test_split(x_scaled,y,test_size=0.25,random_state=340)\n",
    "LR=LogisticRegression()\n",
    "LR.fit(x_train,y_train)\n",
    "y_pred=LR.predict(x_train)\n",
    "#Report table for training data\n",
    "LR_report=pd.DataFrame(classification_report(y_train,y_pred,output_dict=True))\n",
    "#checking for training data\n",
    "print('\\n--------------------------Train Result-------------------------')\n",
    "\n",
    "print(f'Accuracy Score:{accuracy_score(y_train,y_pred)*100:.2f}%')\n",
    "\n",
    "print('____________________________________')\n",
    "\n",
    "print(f'Classification Report:\\n{LR_report}')\n",
    "\n",
    "print('_____________________________________')\n",
    "\n",
    "print(f'confusion matrix:\\n{confusion_matrix(y_train,y_pred)}\\n')"
   ]
  },
  {
   "cell_type": "code",
   "execution_count": 17,
   "id": "e80c8e88",
   "metadata": {},
   "outputs": [
    {
     "name": "stdout",
     "output_type": "stream",
     "text": [
      "\n",
      "--------------------------Test Result-------------------------\n",
      "Accuracy Score:95.62%\n",
      "____________________________________\n",
      "Classification Report:\n",
      "                     0            1  accuracy    macro avg  weighted avg\n",
      "precision     0.952839     0.959677  0.956179     0.956258      0.956210\n",
      "recall        0.961165     0.951049  0.956179     0.956107      0.956179\n",
      "f1-score      0.956984     0.955344  0.956179     0.956164      0.956176\n",
      "support    1030.000000  1001.000000  0.956179  2031.000000   2031.000000\n",
      "_____________________________________\n",
      "confusion matrix:\n",
      "[[990  40]\n",
      " [ 49 952]]\n",
      "\n"
     ]
    }
   ],
   "source": [
    "pred=LR.predict(x_test)\n",
    "#Report table for testing data\n",
    "LR_report=pd.DataFrame(classification_report(y_test,pred,output_dict=True))\n",
    "\n",
    "print('\\n--------------------------Test Result-------------------------')\n",
    "\n",
    "print(f'Accuracy Score:{accuracy_score(y_test,pred)*100:.2f}%')\n",
    "\n",
    "print('____________________________________')\n",
    "\n",
    "print(f'Classification Report:\\n{LR_report}')\n",
    "\n",
    "print('_____________________________________')\n",
    "\n",
    "print(f'confusion matrix:\\n{confusion_matrix(y_test,pred)}\\n')"
   ]
  },
  {
   "cell_type": "markdown",
   "id": "fd4a3a7e",
   "metadata": {},
   "source": [
    "# KNN Algorithm"
   ]
  },
  {
   "cell_type": "code",
   "execution_count": 18,
   "id": "8120a732",
   "metadata": {},
   "outputs": [
    {
     "name": "stdout",
     "output_type": "stream",
     "text": [
      "\n",
      "--------------------------Train Result-------------------------\n",
      "Accuracy Score:100.00%\n",
      "____________________________________\n",
      "Classification Report:\n",
      "                0       1  accuracy  macro avg  weighted avg\n",
      "precision     1.0     1.0       1.0        1.0           1.0\n",
      "recall        1.0     1.0       1.0        1.0           1.0\n",
      "f1-score      1.0     1.0       1.0        1.0           1.0\n",
      "support    3178.0  2915.0       1.0     6093.0        6093.0\n",
      "_____________________________________\n",
      "confusion matrix:\n",
      "[[3178    0]\n",
      " [   0 2915]]\n",
      "\n"
     ]
    }
   ],
   "source": [
    "#lets split our data into training data and testing data\n",
    "x_train,x_test,y_train,y_test=train_test_split(x_scaled,y,test_size=0.25,random_state=340)\n",
    "knn=KNeighborsClassifier()\n",
    "knn.fit(x_train,y_train)\n",
    "y_pred=knn.predict(x_train)\n",
    "#Report table for training data\n",
    "knn_report=pd.DataFrame(classification_report(y_train,y_pred,output_dict=True))\n",
    "\n",
    "print('\\n--------------------------Train Result-------------------------')\n",
    "\n",
    "print(f'Accuracy Score:{accuracy_score(y_train,y_pred)*100:.2f}%')\n",
    "\n",
    "print('____________________________________')\n",
    "\n",
    "print(f'Classification Report:\\n{knn_report}')\n",
    "\n",
    "print('_____________________________________')\n",
    "\n",
    "print(f'confusion matrix:\\n{confusion_matrix(y_train,y_pred)}\\n')"
   ]
  },
  {
   "cell_type": "code",
   "execution_count": 19,
   "id": "3e78c0f1",
   "metadata": {},
   "outputs": [
    {
     "name": "stdout",
     "output_type": "stream",
     "text": [
      "\n",
      "--------------------------Test Result-------------------------\n",
      "Accuracy Score:99.90%\n",
      "____________________________________\n",
      "Classification Report:\n",
      "                     0            1  accuracy    macro avg  weighted avg\n",
      "precision     0.998062     1.000000  0.999015     0.999031      0.999017\n",
      "recall        1.000000     0.998002  0.999015     0.999001      0.999015\n",
      "f1-score      0.999030     0.999000  0.999015     0.999015      0.999015\n",
      "support    1030.000000  1001.000000  0.999015  2031.000000   2031.000000\n",
      "_____________________________________\n",
      "confusion matrix:\n",
      "[[1030    0]\n",
      " [   2  999]]\n",
      "\n"
     ]
    }
   ],
   "source": [
    "#lets split our data into training data and testing data\n",
    "x_train,x_test,y_train,y_test=train_test_split(x_scaled,y,test_size=0.25,random_state=340)\n",
    "knn=KNeighborsClassifier()\n",
    "knn.fit(x_test,y_test)\n",
    "y_pred=knn.predict(x_test)\n",
    "#Report table for testing data\n",
    "knn_report=pd.DataFrame(classification_report(y_test,y_pred,output_dict=True))\n",
    "\n",
    "print('\\n--------------------------Test Result-------------------------')\n",
    "\n",
    "print(f'Accuracy Score:{accuracy_score(y_test,y_pred)*100:.2f}%')\n",
    "\n",
    "print('____________________________________')\n",
    "\n",
    "print(f'Classification Report:\\n{knn_report}')\n",
    "\n",
    "print('_____________________________________')\n",
    "\n",
    "print(f'confusion matrix:\\n{confusion_matrix(y_test,y_pred)}\\n')"
   ]
  },
  {
   "cell_type": "markdown",
   "id": "0acd3ab5",
   "metadata": {},
   "source": [
    "# Decision Tree Algorithm"
   ]
  },
  {
   "cell_type": "code",
   "execution_count": 20,
   "id": "58f80c79",
   "metadata": {},
   "outputs": [
    {
     "name": "stdout",
     "output_type": "stream",
     "text": [
      "\n",
      "--------------------------Train Result-------------------------\n",
      "Accuracy Score:100.00%\n",
      "____________________________________\n",
      "Classification Report:\n",
      "                0       1  accuracy  macro avg  weighted avg\n",
      "precision     1.0     1.0       1.0        1.0           1.0\n",
      "recall        1.0     1.0       1.0        1.0           1.0\n",
      "f1-score      1.0     1.0       1.0        1.0           1.0\n",
      "support    3147.0  2946.0       1.0     6093.0        6093.0\n",
      "_____________________________________\n",
      "confusion matrix:\n",
      "[[3147    0]\n",
      " [   0 2946]]\n",
      "\n"
     ]
    }
   ],
   "source": [
    "x_train,x_test,y_train,y_test=train_test_split(x_scaled,y,test_size=0.25,random_state=0)\n",
    "DT=DecisionTreeClassifier()\n",
    "DT.fit(x_train,y_train)\n",
    "y_pred=DT.predict(x_train)\n",
    "#Report table for training data\n",
    "DT_report=pd.DataFrame(classification_report(y_train,y_pred,output_dict=True))\n",
    "\n",
    "print('\\n--------------------------Train Result-------------------------')\n",
    "\n",
    "print(f'Accuracy Score:{accuracy_score(y_train,y_pred)*100:.2f}%')\n",
    "\n",
    "print('____________________________________')\n",
    "\n",
    "print(f'Classification Report:\\n{DT_report}')\n",
    "\n",
    "print('_____________________________________')\n",
    "\n",
    "print(f'confusion matrix:\\n{confusion_matrix(y_train,y_pred)}\\n')"
   ]
  },
  {
   "cell_type": "code",
   "execution_count": 21,
   "id": "504d8e20",
   "metadata": {},
   "outputs": [
    {
     "name": "stdout",
     "output_type": "stream",
     "text": [
      "\n",
      "--------------------------Test Result-------------------------\n",
      "Accuracy Score:100.00%\n",
      "____________________________________\n",
      "Classification Report:\n",
      "                0       1  accuracy  macro avg  weighted avg\n",
      "precision     1.0     1.0       1.0        1.0           1.0\n",
      "recall        1.0     1.0       1.0        1.0           1.0\n",
      "f1-score      1.0     1.0       1.0        1.0           1.0\n",
      "support    1030.0  1001.0       1.0     2031.0        2031.0\n",
      "_____________________________________\n",
      "confusion matrix:\n",
      "[[1030    0]\n",
      " [   0 1001]]\n",
      "\n"
     ]
    }
   ],
   "source": [
    "x_train,x_test,y_train,y_test=train_test_split(x_scaled,y,test_size=0.25,random_state=340)\n",
    "DT=DecisionTreeClassifier()\n",
    "DT.fit(x_train,y_train)\n",
    "y_pred=DT.predict(x_test)\n",
    "#Report table for testing data\n",
    "DT_report=pd.DataFrame(classification_report(y_test,y_pred,output_dict=True))\n",
    "\n",
    "print('\\n--------------------------Test Result-------------------------')\n",
    "\n",
    "print(f'Accuracy Score:{accuracy_score(y_test,y_pred)*100:.2f}%')\n",
    "\n",
    "print('____________________________________')\n",
    "\n",
    "print(f'Classification Report:\\n{DT_report}')\n",
    "\n",
    "print('_____________________________________')\n",
    "\n",
    "print(f'confusion matrix:\\n{confusion_matrix(y_test,y_pred)}\\n')"
   ]
  },
  {
   "cell_type": "markdown",
   "id": "d3b7ae2c",
   "metadata": {},
   "source": [
    "# Random Forest Classifier"
   ]
  },
  {
   "cell_type": "code",
   "execution_count": 28,
   "id": "4347eb90",
   "metadata": {},
   "outputs": [
    {
     "name": "stdout",
     "output_type": "stream",
     "text": [
      "\n",
      "--------------------------Test Result-------------------------\n",
      "Accuracy Score:100.00%\n",
      "____________________________________\n",
      "Classification Report:\n",
      "                0       1  accuracy  macro avg  weighted avg\n",
      "precision     1.0     1.0       1.0        1.0           1.0\n",
      "recall        1.0     1.0       1.0        1.0           1.0\n",
      "f1-score      1.0     1.0       1.0        1.0           1.0\n",
      "support    1030.0  1001.0       1.0     2031.0        2031.0\n",
      "_____________________________________\n",
      "confusion matrix:\n",
      "[[1030    0]\n",
      " [   0 1001]]\n",
      "\n"
     ]
    }
   ],
   "source": [
    "rfc=RandomForestClassifier(criterion='entropy',max_depth=10,min_samples_leaf=5,min_samples_split=10,n_estimators=200)\n",
    "rfc.fit(x_train,y_train)\n",
    "y_pred=rfc.predict(x_test)\n",
    "#Report table for testing data\n",
    "rfc_report=pd.DataFrame(classification_report(y_test,y_pred,output_dict=True))\n",
    "\n",
    "print('\\n--------------------------Test Result-------------------------')\n",
    "\n",
    "print(f'Accuracy Score:{accuracy_score(y_test,y_pred)*100:.2f}%')\n",
    "\n",
    "print('____________________________________')\n",
    "\n",
    "print(f'Classification Report:\\n{rfc_report}')\n",
    "\n",
    "print('_____________________________________')\n",
    "\n",
    "print(f'confusion matrix:\\n{confusion_matrix(y_test,y_pred)}\\n') "
   ]
  },
  {
   "cell_type": "code",
   "execution_count": null,
   "id": "54ef6f18",
   "metadata": {},
   "outputs": [],
   "source": [
    "x_train,x_test,y_train,y_test=train_test_split(x_scaled,y,test_size=0.25,random_state=340)\n",
    "clf=DecisionTreeClassifier()\n",
    "DT.fit(x_train,y_train)\n",
    "y_pred=DT.predict(x_test)\n",
    "#Report table for testing data\n",
    "DT_report=pd.DataFrame(classification_report(y_test,y_pred,output_dict=True))\n",
    "\n",
    "print('\\n--------------------------Test Result-------------------------')\n",
    "\n",
    "print(f'Accuracy Score:{accuracy_score(y_test,y_pred)*100:.2f}%')\n",
    "\n",
    "print('____________________________________')\n",
    "\n",
    "print(f'Classification Report:\\n{DT_report}')\n",
    "\n",
    "print('_____________________________________')\n",
    "\n",
    "print(f'confusion matrix:\\n{confusion_matrix(y_test,y_pred)}\\n')"
   ]
  },
  {
   "cell_type": "markdown",
   "id": "50c02904",
   "metadata": {},
   "source": [
    "\n",
    "I feel Hyper Parameter tuning is not required in this dataset because accuracy is high almost near to 100% for all the models.So lets go check for cross val score to find the best model"
   ]
  },
  {
   "cell_type": "markdown",
   "id": "58819583",
   "metadata": {},
   "source": [
    "# Cross Validation Scores"
   ]
  },
  {
   "cell_type": "code",
   "execution_count": 23,
   "id": "d9d70bce",
   "metadata": {},
   "outputs": [
    {
     "name": "stdout",
     "output_type": "stream",
     "text": [
      "cross validation score: 83.89794619173931\n"
     ]
    }
   ],
   "source": [
    "#checking for cross validation score\n",
    "from sklearn.model_selection import cross_val_score\n",
    "#printing cross val score for Linear Regression model\n",
    "scr=cross_val_score(LR,x,y,cv=5)\n",
    "print('cross validation score:',scr.mean()*100)"
   ]
  },
  {
   "cell_type": "code",
   "execution_count": 24,
   "id": "299af71c",
   "metadata": {},
   "outputs": [
    {
     "name": "stdout",
     "output_type": "stream",
     "text": [
      "cross validation score: 88.08163698370593\n"
     ]
    }
   ],
   "source": [
    "#printing cross val score for KNN model\n",
    "scr=cross_val_score(knn,x,y,cv=5)\n",
    "print('cross validation score:',scr.mean()*100)"
   ]
  },
  {
   "cell_type": "code",
   "execution_count": 25,
   "id": "9ec07fbe",
   "metadata": {},
   "outputs": [
    {
     "name": "stdout",
     "output_type": "stream",
     "text": [
      "cross validation score: 92.5630617658204\n"
     ]
    }
   ],
   "source": [
    "#printing cross val score for Decision Tree model\n",
    "scr=cross_val_score(DT,x,y,cv=5)\n",
    "print('cross validation score:',scr.mean()*100)"
   ]
  },
  {
   "cell_type": "code",
   "execution_count": 31,
   "id": "fed65de4",
   "metadata": {},
   "outputs": [
    {
     "name": "stdout",
     "output_type": "stream",
     "text": [
      "cross validation score: 85.96306934444866\n"
     ]
    }
   ],
   "source": [
    "# Cross val score for random forest \n",
    "scr=cross_val_score(rfc,x,y,cv=5)\n",
    "print('cross validation score:',scr.mean()*100) "
   ]
  },
  {
   "cell_type": "code",
   "execution_count": 36,
   "id": "b1541c62",
   "metadata": {},
   "outputs": [
    {
     "data": {
      "text/plain": [
       "11.492053808260692"
      ]
     },
     "execution_count": 36,
     "metadata": {},
     "output_type": "execute_result"
    }
   ],
   "source": [
    "#Checking manually to find the difference of accuracy and cross val scores for the algorithms,on testing data\n",
    "LR=95.39-83.89794619173931\n",
    "LR"
   ]
  },
  {
   "cell_type": "code",
   "execution_count": 37,
   "id": "2ed4d286",
   "metadata": {},
   "outputs": [
    {
     "data": {
      "text/plain": [
       "11.918363016294066"
      ]
     },
     "execution_count": 37,
     "metadata": {},
     "output_type": "execute_result"
    }
   ],
   "source": [
    "KNN=100.00-88.08163698370593\n",
    "KNN"
   ]
  },
  {
   "cell_type": "code",
   "execution_count": 38,
   "id": "8274c6c3",
   "metadata": {},
   "outputs": [
    {
     "data": {
      "text/plain": [
       "7.436938234179607"
      ]
     },
     "execution_count": 38,
     "metadata": {},
     "output_type": "execute_result"
    }
   ],
   "source": [
    "DT=100.00-92.5630617658204\n",
    "DT"
   ]
  },
  {
   "cell_type": "code",
   "execution_count": 39,
   "id": "fa12edb3",
   "metadata": {},
   "outputs": [
    {
     "data": {
      "text/plain": [
       "14.036930655551345"
      ]
     },
     "execution_count": 39,
     "metadata": {},
     "output_type": "execute_result"
    }
   ],
   "source": [
    "rfc=100.00-85.96306934444866\n",
    "rfc"
   ]
  },
  {
   "cell_type": "markdown",
   "id": "d830dd95",
   "metadata": {},
   "source": [
    "So by above Cross Val Scores we can conclude that the difference of accuracy and the cross val scroe of Decision Tree is less.So for this dataset using Decsion Tree classifier is the best Algorithm"
   ]
  },
  {
   "cell_type": "code",
   "execution_count": 40,
   "id": "41f9bbb0",
   "metadata": {},
   "outputs": [
    {
     "data": {
      "text/plain": [
       "['mushroomproject.pkl']"
      ]
     },
     "execution_count": 40,
     "metadata": {},
     "output_type": "execute_result"
    }
   ],
   "source": [
    "import joblib\n",
    "joblib.dump(DT,'mushroomproject.pkl')"
   ]
  },
  {
   "cell_type": "code",
   "execution_count": null,
   "id": "6229a543",
   "metadata": {},
   "outputs": [],
   "source": []
  },
  {
   "cell_type": "code",
   "execution_count": null,
   "id": "df8e1586",
   "metadata": {},
   "outputs": [],
   "source": []
  },
  {
   "cell_type": "code",
   "execution_count": null,
   "id": "df3634ce",
   "metadata": {},
   "outputs": [],
   "source": []
  }
 ],
 "metadata": {
  "kernelspec": {
   "display_name": "Python 3",
   "language": "python",
   "name": "python3"
  },
  "language_info": {
   "codemirror_mode": {
    "name": "ipython",
    "version": 3
   },
   "file_extension": ".py",
   "mimetype": "text/x-python",
   "name": "python",
   "nbconvert_exporter": "python",
   "pygments_lexer": "ipython3",
   "version": "3.8.8"
  }
 },
 "nbformat": 4,
 "nbformat_minor": 5
}
